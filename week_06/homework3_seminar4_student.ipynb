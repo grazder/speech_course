{
  "cells": [
    {
      "cell_type": "markdown",
      "metadata": {
        "id": "1LxiMiEui-kl"
      },
      "source": [
        "# Seminar 4 and Homework 3"
      ]
    },
    {
      "cell_type": "markdown",
      "metadata": {
        "id": "NfPduSa6i-km"
      },
      "source": [
        "In Lecture 5, you got acquainted with another speech recognition model -- RNN-Transducer (RNN-T). This assignment is again a combination of a seminar and a homework. In them, you will first learn how the training of this model works, and also build and train a small version of it."
      ]
    },
    {
      "cell_type": "markdown",
      "metadata": {
        "id": "o8kaGJYEi-kn"
      },
      "source": [
        "## Seminar 4 (10 points)"
      ]
    },
    {
      "cell_type": "markdown",
      "metadata": {
        "id": "fV6n4F0si-kn"
      },
      "source": [
        "In seminar 4 you will implemement forward and backward algorithms for calculating the RNN-T loss."
      ]
    },
    {
      "cell_type": "markdown",
      "metadata": {
        "id": "2FaTtc0Ui-ko"
      },
      "source": [
        "## Homework 3 (40 points)"
      ]
    },
    {
      "cell_type": "markdown",
      "metadata": {
        "id": "vS1U54O1i-ko"
      },
      "source": [
        "In this homework you will implement a variant of the RNN-T model. For that, you will have to\n",
        "- implement each part of its architecture: Encoder, Predictor, Joiner\n",
        "- implement the greedy decoding algorithm\n",
        "- train your model on a subset of the LibriSpeech corpus"
      ]
    },
    {
      "cell_type": "markdown",
      "metadata": {
        "id": "O_VduyNri-ko"
      },
      "source": [
        "## Submitting results\n",
        "This Jupyter notebook contains both a seminar and a homework.\n",
        "\n",
        "For the seminar deadline please submit this Jupiter Notebook `(.ipynb)` with completed cells of the seminar. Save the artifact to a directory named `{your last name}_{your first name}_sem3` and pack them in `.zip` archive.\n",
        "\n",
        "For the homework deadline please submit this Jupiter Notebook `(.ipynb)` with all cells completed.\n",
        "Save the notebook and model weights to a directory named `{your last name}_{your first name}_hw3` and pack them in `.zip` archive."
      ]
    },
    {
      "cell_type": "markdown",
      "metadata": {
        "id": "AboXphY7i-kp"
      },
      "source": [
        "# Setup - Install package, download files, etc..."
      ]
    },
    {
      "cell_type": "code",
      "execution_count": null,
      "metadata": {
        "scrolled": true,
        "id": "6tO44Q_hi-kp"
      },
      "outputs": [],
      "source": [
        "!mkdir week_06_files\n",
        "!wget -O week_06_files/utils.py https://raw.githubusercontent.com/yandexdataschool/speech_course/main/week_05/utils.py\n"
      ]
    },
    {
      "cell_type": "code",
      "execution_count": null,
      "metadata": {
        "scrolled": true,
        "id": "gmrbnsCEi-kq"
      },
      "outputs": [],
      "source": [
        "# TODO: change link to a link from repository\n",
        "!wget --load-cookies /tmp/cookies.txt \"https://drive.google.com/uc?export=download&confirm=$(wget --quiet --save-cookies /tmp/cookies.txt --keep-session-cookies --no-check-certificate 'https://drive.google.com/uc?export=download&id=14vgOVBayQGYv9B1P3hYo3JM56rS6ap3U' -O- | sed -rn 's/.*confirm=([0-9A-Za-z_]+).*/\\1\\n/p')&id=14vgOVBayQGYv9B1P3hYo3JM56rS6ap3U\" -O week_06_files/model_scripted_epoch_5.pt && rm -rf /tmp/cookies.txt\n"
      ]
    },
    {
      "cell_type": "code",
      "execution_count": null,
      "metadata": {
        "id": "hcfHw_yWi-kr"
      },
      "outputs": [],
      "source": [
        "%%capture\n",
        "!pip install wandb -qqq"
      ]
    },
    {
      "cell_type": "code",
      "execution_count": null,
      "metadata": {
        "id": "4u_exS1ii-ks"
      },
      "outputs": [],
      "source": [
        "import os\n",
        "import string\n",
        "from typing import Tuple, List, Dict, Optional\n",
        "\n",
        "import numpy as np\n",
        "import pandas as pd\n",
        "import matplotlib.pyplot as plt\n",
        "import torch\n",
        "import torchaudio\n",
        "import torch.nn as nn\n",
        "import torch.nn.functional as F\n",
        "import torch.utils.data as data\n",
        "import wandb\n",
        "import ipywidgets as widgets\n",
        "import itertools\n",
        "from torch import optim\n",
        "from torchaudio.transforms import RNNTLoss\n",
        "from tqdm import tqdm_notebook, tqdm\n",
        "from IPython.display import display, clear_output"
      ]
    },
    {
      "cell_type": "code",
      "execution_count": null,
      "metadata": {
        "id": "VceAkujPi-ks"
      },
      "outputs": [],
      "source": [
        "import week_06_files.utils as utils "
      ]
    },
    {
      "cell_type": "code",
      "execution_count": null,
      "metadata": {
        "id": "n14D_Nzei-ks"
      },
      "outputs": [],
      "source": [
        "snapshot_dir = \"/mnt/notebooks/rnn_t_snapshots\""
      ]
    },
    {
      "cell_type": "code",
      "execution_count": null,
      "metadata": {
        "id": "txn-Rm7Si-kt",
        "outputId": "0bcb10f2-7160-4b54-da4d-ad1f70022502"
      },
      "outputs": [
        {
          "name": "stdout",
          "output_type": "stream",
          "text": [
            "mkdir: cannot create directory ‘/mnt/notebooks/rnn_t_snapshots’: File exists\r\n"
          ]
        }
      ],
      "source": [
        "!mkdir /mnt/notebooks/rnn_t_snapshots"
      ]
    },
    {
      "cell_type": "code",
      "execution_count": null,
      "metadata": {
        "id": "BudRMBTSi-ku"
      },
      "outputs": [],
      "source": [
        "# os.environ[\"CUDA_VISIBLE_DEVICES\"] = \"1\""
      ]
    },
    {
      "cell_type": "markdown",
      "metadata": {
        "id": "wg8Vm-pCi-ku"
      },
      "source": [
        "# Lecture recap"
      ]
    },
    {
      "cell_type": "markdown",
      "metadata": {
        "id": "TuKI0Cqgi-ku"
      },
      "source": [
        "## Alignment\n",
        "\n",
        "Let $\\mathbf{x} = (x_1, x_2, \\ldots, x_T)$ be a length $T$ input sequence of arbitrary length beloging to the set $X^*$ of all sequences over some input space $X$. Let $\\mathbf{y} = (y_1, \\ldots, y_U)$ be a length $U$ output sequence belonging to the set $Y^*$ of all sequences over some output space $Y$.\n",
        "\n",
        "Define the *extended output space* $\\overline Y$ as $Y \\cup \\emptyset$, where $\\emptyset$ denotes the null output. The intuitive meaning of $\\emptyset$ is 'output nothing'. The sequence $(y_1, \\emptyset, \\emptyset, y_2, \\emptyset, y_3) \\in \\overline Y^*$ is therefore equivalent to $(y_1, y_2, y_3) \\in Y^*$. We refer to the elements $\\mathbf{a} \\in \\overline Y^*$ as *alignments*, since the location of the null symbols determines an alignment between the input and output sequences."
      ]
    },
    {
      "cell_type": "markdown",
      "metadata": {
        "id": "zGNZdYoVi-kv"
      },
      "source": [
        "As we saw in CTC, various alignments can be represented in the form of a table called trellis. An example of how an RNN-T trellis may look like:\n",
        "\n",
        "<p style=\"text-align:center;\"><img src=\"http://drive.google.com/uc?export=view&id=1CfXfkePAESz2n20AABVUw9SaZ_xszxwf\">\n",
        "    \n",
        "    \n",
        "Possible alignments in that trellis:\n",
        "    \n",
        "<p style=\"text-align:center;\"><img src=\"http://drive.google.com/uc?export=view&id=1ipRlSrznwmoD5gCk7k6G06JeUtqPzDQq\">\n",
        "    \n",
        "The final label can be determined by simply removing the blank characher:\n",
        "    \n",
        "$$\n",
        "    C \\emptyset \\emptyset A \\emptyset T \\emptyset \\to CAT\n",
        "$$\n",
        "$$\n",
        "    \\emptyset \\emptyset \\emptyset C A T \\emptyset \\to CAT\n",
        "$$\n",
        "    \n",
        "Given $\\mathbf{x}$, the RNN transducer defines a conditional distribution $P(\\mathbf{a} \\in \\overline Y^* | \\mathbf{x})$. This distribution is then collapsed onto the following distribution over $Y^*$:\n",
        "    \n",
        "$$\n",
        "    P(\\mathbf y \\in Y^* | \\mathbf x) = \\sum_{\\mathbf a \\in \\mathcal{B}^{-1}(\\mathbf y)} P(\\mathbf a | \\mathbf x),\n",
        "$$\n",
        "    \n",
        "where $\\mathcal B: \\overline Y^* \\mapsto Y^*$ is a function that removes the null symbols from the alignments in $Y^*$.\n"
      ]
    },
    {
      "cell_type": "markdown",
      "metadata": {
        "id": "ZwEecXFFi-kv"
      },
      "source": [
        "## Architecture\n",
        "\n",
        "<p style=\"text-align:center;\"><img src=\"http://drive.google.com/uc?export=view&id=1P2aztCi9Z7ookMbHmWBcGtSmG_JHIiMj\">"
      ]
    },
    {
      "cell_type": "markdown",
      "metadata": {
        "id": "5onsHhvOi-kv"
      },
      "source": [
        "The RNN-T model consists of three neural networks: Encoder, Predictor and Joiner. The Encoder converts the acoustic feature $x_t$ into a high-level representation $f_t$, where $t$ is time index:\n",
        "\n",
        "$$\n",
        "    f_t = \\mathrm{Encoder}(x_t)\n",
        "$$\n",
        "\n",
        "The Predictor works like an RNN language model, which produces a high-level representation $g_u$ by conditioning on the previous non-blank target $y_{u - 1}$ predicted by the RNN-T model, where $u$ is output label index:\n",
        "\n",
        "$$\n",
        "    g_u = \\mathrm{Predictor}(y_{u - 1})\n",
        "$$\n",
        "\n",
        "Note that the input sequence for the predictor **is prepended with the special symbol** $\\langle s \\rangle$ that defines the start of a sentence.\n",
        "\n",
        "The Joiner is a feed forward network that combines the Encoder output $f_t$ and the Predictor output $g_u$ as\n",
        "\n",
        "$$\n",
        "    h_{t, u} = \\mathrm{Joiner}(f_t, g_u) = \\mathrm{FeedForward}(\\mathrm{ReLU}(f_t + g_u))\n",
        "$$\n",
        "\n",
        "The final posterior for each output token $y$ is obtained after applying the softmax operation:\n",
        "\n",
        "$$\n",
        "    P(y | t, u) = \\mathrm{softmax}(h_{t, u})\n",
        "$$\n",
        "    \n",
        "where $P(y | t, u)$ is a distribution of probabilities to emit $y \\in \\overline Y$ at time step $t$ after $u$ previously generated characters, $t \\in [1, T], u \\in [0, U]$.\n",
        "\n",
        "<p style=\"text-align:center;\"><img src=\"http://drive.google.com/uc?export=view&id=1tn1wS3fCVFJGwrYumf5Im6gOFZsxRMV-\">\n",
        "\n",
        "We will further need to work with probabilities of individual tokens $y$ for different $t$ and $u$. Instead of writing each time something like $P(y = C | t = 1, u = 0)$, we will, for the sake of simplicity, write it as $P(C | 1, 0)$."
      ]
    },
    {
      "cell_type": "markdown",
      "metadata": {
        "id": "S9r3qFqri-kw"
      },
      "source": [
        "## Training: forward-backward algorithm"
      ]
    },
    {
      "cell_type": "markdown",
      "metadata": {
        "id": "DoQwWrili-kx"
      },
      "source": [
        "The loss function of RNN-T is the negative log posterior of output label sequence $\\mathbf y$ given acoustic feature $\\mathbf x$:\n",
        "\n",
        "$$\n",
        "    \\mathcal L = -\\ln P(\\mathbf y \\in Y^* | \\mathbf x) = -\\ln \\sum_{\\mathbf a \\in \\mathcal{B}^{-1}(\\mathbf y)} P(\\mathbf a | \\mathbf x)\n",
        "$$"
      ]
    },
    {
      "cell_type": "markdown",
      "metadata": {
        "id": "3-NRW58ki-kx"
      },
      "source": [
        "To determine $P(\\mathbf a | \\mathbf x)$ for an arbitrary alignment $\\mathbf a$, we need to multiply the probabilities $P(y | t, u)$ of each symbol across the path:\n",
        "\n",
        "<p style=\"text-align:center;\"><img src=\"http://drive.google.com/uc?export=view&id=1O-aykP5Wods7ZESCJDBsBw2MeBo5egW4\">\n",
        "\n",
        "$$\n",
        "    \\mathbf a = C \\emptyset \\emptyset A \\emptyset T \\emptyset\n",
        "$$\n",
        "    \n",
        "$$\n",
        "    P(\\mathbf a | \\mathbf x) = P(C | 1, 0) \\cdot P(\\emptyset | 1, 0) \\cdot P(\\emptyset | 2, 1) \\cdot P(A | 3, 1) \\cdot P(\\emptyset | 3, 2) \\cdot P(T | 3, 2) \\cdot P(\\emptyset | 4, 3)\n",
        "$$"
      ]
    },
    {
      "cell_type": "markdown",
      "metadata": {
        "id": "jLpPKQsii-kx"
      },
      "source": [
        "There are usually too many possible alignments to compute the loss function by just adding them all up directly. We will use dynamic programming to make this computation feasible."
      ]
    },
    {
      "cell_type": "markdown",
      "metadata": {
        "id": "JWE1Dj6oi-ky"
      },
      "source": [
        "Define the *forward variable* $\\alpha(t, u)$ as the probability of outputting $\\mathbf y_{[1:u]}$ during $\\mathbf f_{[1:t]}$. The forward variables for all $1 \\le t \\le T$ and $0 \\le u \\le U$ can be calculated recursively using\n",
        "\n",
        "$$\n",
        "    \\alpha(t, u) = \\alpha(t - 1, u) P(\\emptyset | t - 1, u) + \\alpha(t, u - 1) P(y_{u - 1} | t, u - 1)\n",
        "$$\n",
        "\n",
        "with initial condition $\\alpha(1, 0) = 1$. Here $y_{u - 1}$ is the $(u - 1)$-th symbol from the ground truth label $\\mathbf y$.\n",
        "\n",
        "The total output sequene probability is equal to the forward variable at the terminal node:\n",
        "\n",
        "$$\n",
        "    P(\\mathbf y | \\mathbf x) = \\alpha(T, U) P(\\emptyset | T, U)\n",
        "$$"
      ]
    },
    {
      "cell_type": "markdown",
      "metadata": {
        "id": "LJUyOq57i-ky"
      },
      "source": [
        "Define the *backward variable* $\\beta(t, u)$ as the probability of outputting $\\mathbf y_{[u + 1: U]}$ during $\\mathbf f_{[t:T]}$. Then\n",
        "\n",
        "$$\n",
        "    \\beta(t, u) = \\beta(t + 1, u) P(\\emptyset | t, u) + \\beta(t, u + 1) P(y_u | t, u)\n",
        "$$\n",
        "\n",
        "with initial condition $\\beta(T, U) = P(\\emptyset | T, U)$. The final value is $\\beta(1, 0)$.\n",
        "\n",
        "From the definition of the forward and backward variables it follows that their product $\\alpha(t, u) \\beta(t, u)$ at any point $(t, u)$ in the output lattice is equal to the probability of emitting the complete output sequence *if $y_u$ is emitted during transcription step $t$*."
      ]
    },
    {
      "cell_type": "markdown",
      "metadata": {
        "id": "f7eK_-d9i-ky"
      },
      "source": [
        "# Seminar 4: RNN-T Forward-Backward Algorithm (10 points)"
      ]
    },
    {
      "cell_type": "markdown",
      "metadata": {
        "id": "k0WBsAyai-kz"
      },
      "source": [
        "```\n",
        "[ ] (5 points) Implement a Forward Pass\n",
        "[ ] (5 points) Implement a Backward Pass\n",
        "```"
      ]
    },
    {
      "cell_type": "markdown",
      "metadata": {
        "id": "o5n6aVggi-kz"
      },
      "source": [
        "Implement forward and backward passes.\n",
        "\n",
        "\n",
        "### Implementation tips\n",
        "\n",
        "- Note that all indices in the arrays you will work with in your code start with zeros. So, the initial condition for forward algorithm will be $\\alpha(0, 0) = 1$ (and $\\log \\alpha(0, 0) = 0$) and the output value for backward algorithm will be $\\beta(0, 0)$. The recurrent formulas stay the same. Also, don't be confused with the terminal node: you don't have to add it to $\\alpha$- and $\\beta$-arrays. The dynamic starts in the upper left corner for forward variables and in the lower right corner for backward variables.\n",
        "- You will need to do everything in log-domain for calculations to be numercally stable. The function [np.logaddexp](https://numpy.org/doc/stable/reference/generated/numpy.logaddexp.html) might help you with it."
      ]
    },
    {
      "cell_type": "code",
      "execution_count": null,
      "metadata": {
        "id": "EcM082LQi-kz"
      },
      "outputs": [],
      "source": [
        "def forward(log_probs: torch.FloatTensor, targets: torch.LongTensor, \n",
        "            blank: int = -1) -> Tuple[torch.FloatTensor, torch.FloatTensor]:\n",
        "    \"\"\"\n",
        "    :param log_probs: model outputs after applying log_softmax\n",
        "    :param targets: the target sequence of tokens, represented as integer indexes\n",
        "    :param blank: the index of blank symbol\n",
        "    :return: Tuple[ln alpha, -(ln alpha(T, U) + ln P(blank | T, U))]. The latter term is loss value, which is -ln P(y | x)\n",
        "    \"\"\"\n",
        "    max_T, max_U, D = log_probs.shape\n",
        "    \n",
        "    # here the alpha variable contains logarithm of the alpha variable from the formulas above\n",
        "    alpha = np.zeros((max_T, max_U), dtype=np.float32)\n",
        "    \n",
        "    for t in range(1, max_T):\n",
        "        <YOUR CODE>\n",
        "\n",
        "    for u in range(1, max_U):\n",
        "        <YOUR CODE>\n",
        "\n",
        "    for t in range(1, max_T):\n",
        "        for u in range(1, max_U):\n",
        "            <YOUR CODE>\n",
        "\n",
        "    cost = <YOUR CODE>\n",
        "    return alpha, cost\n",
        "\n",
        "\n",
        "def backward(log_probs: torch.FloatTensor, targets: torch.LongTensor, \n",
        "             blank: int = -1) -> Tuple[torch.FloatTensor, torch.FloatTensor]:\n",
        "    \"\"\"\n",
        "    :param log_probs: model outputs after applying log_softmax\n",
        "    :param targets: the target sequence of tokens, represented as integer indexes\n",
        "    :param blank: the index of blank symbol\n",
        "    :return: Tuple[ln beta, -ln beta(0, 0)]. The latter term is loss value, which is -ln P(y | x)\n",
        "    \"\"\"\n",
        "    max_T, max_U, D = log_probs.shape\n",
        "    \n",
        "    # here the beta variable contains logarithm of the beta variable from the formulas above\n",
        "    beta = np.zeros((max_T, max_U), dtype=np.float32)\n",
        "    beta[-1, -1] = log_probs[-1, -1, blank]\n",
        "\n",
        "    for t in reversed(range(max_T - 1)):\n",
        "        <YOUR CODE>\n",
        "\n",
        "    for u in reversed(range(max_U - 1)):\n",
        "        <YOUR CODE>\n",
        "\n",
        "    for t in reversed(range(max_T - 1)):\n",
        "        for u in reversed(range(max_U - 1)):\n",
        "            <YOUR CODE>\n",
        "            \n",
        "    cost = <YOUR CODE>\n",
        "    return beta, cost"
      ]
    },
    {
      "cell_type": "code",
      "execution_count": null,
      "metadata": {
        "id": "t-kAfhkAi-k0"
      },
      "outputs": [],
      "source": [
        "def run_test(logits: torch.FloatTensor, targets: torch.LongTensor, \n",
        "             ref_costs: torch.FloatTensor, blank: int = -1) -> None:\n",
        "    \"\"\"\n",
        "    :param logits: model outputs\n",
        "    :param targets: the target sequence of tokens, represented as integer indexes\n",
        "    :param ref_costs: the true values of RNN-T costs for test inputs\n",
        "    :param blank: the index of blank symbol\n",
        "    \"\"\"\n",
        "    log_probs = torch.nn.functional.log_softmax(logits, dim=-1)\n",
        "    cost = np.zeros(log_probs.shape[0])\n",
        "    \n",
        "    for batch_id in range(log_probs.shape[0]):        \n",
        "        alphas, cost_alpha = forward(log_probs[batch_id], targets[batch_id], blank=blank)\n",
        "        betas, cost_beta = backward(log_probs[batch_id], targets[batch_id], blank=blank)\n",
        "        np.testing.assert_almost_equal(cost_alpha, cost_beta, decimal=2)\n",
        "        cost[batch_id] = cost_beta\n",
        "    \n",
        "    np.testing.assert_almost_equal(cost, ref_costs, decimal=2)"
      ]
    },
    {
      "cell_type": "code",
      "execution_count": null,
      "metadata": {
        "id": "NQ49HxWDi-k0"
      },
      "outputs": [],
      "source": [
        "# Tests\n",
        "\n",
        "'''\n",
        "All logits in tests have shapes in the form (B, T, U, D) where\n",
        "\n",
        "B: batch size\n",
        "T: maximum source sequence length in batch\n",
        "U: maximum target sequence length in batch\n",
        "D: feature dimension of each source sequence element\n",
        "'''\n",
        "\n",
        "# test 1\n",
        "logits = torch.FloatTensor([\n",
        "    0.1, 0.6, 0.1, 0.1, 0.1,\n",
        "    0.1, 0.1, 0.6, 0.1, 0.1,\n",
        "    0.1, 0.1, 0.2, 0.8, 0.1,\n",
        "    0.1, 0.6, 0.1, 0.1, 0.1,\n",
        "    0.1, 0.1, 0.2, 0.1, 0.1,\n",
        "    0.7, 0.1, 0.2, 0.1, 0.1,\n",
        "]).reshape(1, 2, 3, 5)\n",
        "\n",
        "targets = torch.LongTensor([[1, 2]])\n",
        "ref_costs = torch.FloatTensor([5.09566688538])\n",
        "\n",
        "run_test(\n",
        "    logits=logits, \n",
        "    targets=targets, \n",
        "    ref_costs=ref_costs, \n",
        "    blank=-1\n",
        ")\n",
        "\n",
        "# test 2\n",
        "logits = torch.FloatTensor([\n",
        "    0.065357, 0.787530, 0.081592, 0.529716, 0.750675, 0.754135, 0.609764, 0.868140,\n",
        "    0.622532, 0.668522, 0.858039, 0.164539, 0.989780, 0.944298, 0.603168, 0.946783,\n",
        "    0.666203, 0.286882, 0.094184, 0.366674, 0.736168, 0.166680, 0.714154, 0.399400,\n",
        "    0.535982, 0.291821, 0.612642, 0.324241, 0.800764, 0.524106, 0.779195, 0.183314,\n",
        "    0.113745, 0.240222, 0.339470, 0.134160, 0.505562, 0.051597, 0.640290, 0.430733,\n",
        "    0.829473, 0.177467, 0.320700, 0.042883, 0.302803, 0.675178, 0.569537, 0.558474,\n",
        "    0.083132, 0.060165, 0.107958, 0.748615, 0.943918, 0.486356, 0.418199, 0.652408,\n",
        "    0.024243, 0.134582, 0.366342, 0.295830, 0.923670, 0.689929, 0.741898, 0.250005,\n",
        "    0.603430, 0.987289, 0.592606, 0.884672, 0.543450, 0.660770, 0.377128, 0.358021,\n",
        "]).reshape(2, 4, 3, 3)\n",
        "\n",
        "targets = torch.LongTensor([[1, 2], [1, 1]])\n",
        "ref_costs = torch.FloatTensor([4.2806528590890736, 3.9384369822503591])\n",
        "\n",
        "run_test(\n",
        "    logits=logits, \n",
        "    targets=targets, \n",
        "    ref_costs=ref_costs, \n",
        "    blank=0\n",
        ")"
      ]
    },
    {
      "cell_type": "markdown",
      "metadata": {
        "id": "e-Kcnm7Ki-k1"
      },
      "source": [
        "# Homework 4: Implementing, training and evaluating your RNN-T ASR model (40 points)"
      ]
    },
    {
      "cell_type": "markdown",
      "metadata": {
        "id": "u7_XForhi-k1"
      },
      "source": [
        "```\n",
        "[ ] (18 points) Build the model\n",
        "[ ] (18 points) Implementing a greedy decoder\n",
        "[ ] (4 points) Train the model \n",
        "```"
      ]
    },
    {
      "cell_type": "code",
      "execution_count": null,
      "metadata": {
        "id": "TIy1M2ICi-k1"
      },
      "outputs": [],
      "source": [
        "BLANK_SYMBOL = \"_\"\n",
        "BOS = \"<BOS>\"\n",
        "\n",
        "\n",
        "class Tokenizer:\n",
        "    \"\"\"\n",
        "    Maps characters to integers and vice versa\n",
        "    \"\"\"\n",
        "    def __init__(self):\n",
        "        self.char_map = {}\n",
        "        self.index_map = {}\n",
        "        for i, ch in enumerate([\"'\", \" \"] + list(string.ascii_lowercase) + [BLANK_SYMBOL, BOS]):\n",
        "            self.char_map[ch] = i\n",
        "            self.index_map[i] = ch\n",
        "        \n",
        "    def text_to_indices(self, text: str) -> List[int]:\n",
        "        \"\"\"\n",
        "        Maps string to a list of integers\n",
        "        \"\"\"\n",
        "        return [self.char_map[ch] for ch in text]\n",
        "\n",
        "    def indices_to_text(self, labels: List[int]) -> str:\n",
        "        \"\"\"\n",
        "        Maps integers back to text\n",
        "        \"\"\"\n",
        "        return \"\".join([self.index_map[i] for i in labels])\n",
        "    \n",
        "    def get_symbol_index(self, sym: str) -> int:\n",
        "        \"\"\"\n",
        "        Returns index for the specified symbol\n",
        "        \"\"\"\n",
        "        return self.char_map[sym]\n",
        "    \n",
        "\n",
        "tokenizer = Tokenizer()"
      ]
    },
    {
      "cell_type": "markdown",
      "metadata": {
        "id": "t_QF8XMBi-k2"
      },
      "source": [
        "### Utils for creating a dataloader"
      ]
    },
    {
      "cell_type": "code",
      "execution_count": null,
      "metadata": {
        "id": "L_Xmk902i-k2"
      },
      "outputs": [],
      "source": [
        "# Download LibriSpeech 100hr training and test data\n",
        "\n",
        "if not os.path.isdir(\"./data\"):\n",
        "    os.makedirs(\"./data\")\n",
        "\n",
        "train_dataset = torchaudio.datasets.LIBRISPEECH(\"./data\", url=\"train-clean-100\", download=True)\n",
        "test_dataset = torchaudio.datasets.LIBRISPEECH(\"./data\", url=\"test-clean\", download=True)"
      ]
    },
    {
      "cell_type": "code",
      "execution_count": null,
      "metadata": {
        "id": "mLWxbcjMi-k2"
      },
      "outputs": [],
      "source": [
        "# For train you can use SpecAugment data aug here.\n",
        "train_audio_transforms = nn.Sequential(\n",
        "    torchaudio.transforms.MelSpectrogram(sample_rate=16000, n_mels=80),\n",
        "    torchaudio.transforms.FrequencyMasking(freq_mask_param=27),\n",
        "    torchaudio.transforms.TimeMasking(time_mask_param=100)\n",
        ")\n",
        "\n",
        "test_audio_transforms = torchaudio.transforms.MelSpectrogram(sample_rate=16000, n_mels=80)"
      ]
    },
    {
      "cell_type": "code",
      "execution_count": null,
      "metadata": {
        "id": "cLsCL472i-k2"
      },
      "outputs": [],
      "source": [
        "def data_processing(data: torchaudio.datasets.librispeech.LIBRISPEECH, \n",
        "                    data_type: str = \"train\") -> Tuple[torch.Tensor, torch.IntTensor, torch.IntTensor, torch.IntTensor]:\n",
        "    \"\"\"\n",
        "    :param data: a LIBRISPEECH dataset\n",
        "    :param data_type: \"train\" or \"test\"\n",
        "    :return: tuple of\n",
        "        spectrograms, shape: (B, T, n_mels)\n",
        "        labels, shape: (B, U)\n",
        "        input_lengths -- the length of each spectrogram in the batch, shape: (B,)\n",
        "        label_lengths -- the length of each text label in the batch, shape: (B,)\n",
        "        where\n",
        "        B: batch size\n",
        "        T: maximum source sequence length in batch\n",
        "        U: maximum target sequence length in batch\n",
        "        D: feature dimension of each source sequence element\n",
        "    \"\"\"\n",
        "    spectrograms = []\n",
        "    labels = []\n",
        "    input_lengths = []\n",
        "    label_lengths = []\n",
        "    for (waveform, _, utterance, _, _, _) in data:\n",
        "        if data_type == 'train':\n",
        "            spec = train_audio_transforms(waveform).squeeze(0).transpose(0, 1)\n",
        "        elif data_type == 'test':\n",
        "            spec = test_audio_transforms(waveform).squeeze(0).transpose(0, 1)\n",
        "        else:\n",
        "            raise Exception('data_type should be train or valid')\n",
        "        spectrograms.append(spec)\n",
        "        label = torch.IntTensor(tokenizer.text_to_indices(utterance.lower()))\n",
        "        labels.append(label)\n",
        "        input_lengths.append(spec.shape[0])\n",
        "        label_lengths.append(len(label))\n",
        "\n",
        "    spectrograms = nn.utils.rnn.pad_sequence(spectrograms, batch_first=True)\n",
        "    labels = nn.utils.rnn.pad_sequence(labels, batch_first=True)\n",
        "\n",
        "    return spectrograms, torch.IntTensor(labels), torch.IntTensor(input_lengths), torch.IntTensor(label_lengths)\n"
      ]
    },
    {
      "cell_type": "markdown",
      "metadata": {
        "id": "1SbrcCk6i-k3"
      },
      "source": [
        "## Build the model (18 points)"
      ]
    },
    {
      "cell_type": "code",
      "execution_count": null,
      "metadata": {
        "id": "y57EYzcgi-k3"
      },
      "outputs": [],
      "source": [
        "class EncoderRNNT(nn.Module):\n",
        "    def __init__(self, input_dim: int, hidden_size: int, output_dim: int, n_layers: int, \n",
        "                 dropout: float = 0.2, bidirectional: bool = True):\n",
        "        \"\"\"\n",
        "        An RNN-based model that encodes input audio features into a hidden representation. \n",
        "        The architecture is a stack of LSTM's followed by a fully-connected output layer.\n",
        "        \n",
        "        :param input_dim: the number of mel-spectrogram features\n",
        "        :param hidden_size: the number of features in the hidden states in LSTM layers\n",
        "        :param output_dim: the output dimension\n",
        "        :param n_layers: the number of stacked LSTM layers\n",
        "        :param dropout: the dropout probability for LSTM layers\n",
        "        :param bidirectional: If True, each LSTM layer becomes bidirectional\n",
        "        \"\"\"\n",
        "        super().__init__()\n",
        "\n",
        "        self.lstm = <YOUR CODE>\n",
        "\n",
        "        self.output_proj = nn.Linear(<YOUR CODE>)\n",
        "\n",
        "    def forward(self, inputs: torch.Tensor, input_lengths: torch.Tensor) -> Tuple[torch.Tensor, List[torch.Tensor]]:\n",
        "        \"\"\"        \n",
        "        :param inputs: spectrograms, shape: (B, T, n_mels)\n",
        "        :param input_lengths: the lengths of the spectrograms in the batch, shape: (B,)\n",
        "        :return: outputs of the projection layer and hidden states from LSTMs\n",
        "        \"\"\"\n",
        "        <YOUR CODE>\n",
        "        return logits, hidden"
      ]
    },
    {
      "cell_type": "code",
      "execution_count": null,
      "metadata": {
        "id": "tCeaQG-2i-k4"
      },
      "outputs": [],
      "source": [
        "encoder = EncoderRNNT(\n",
        "    input_dim=80,\n",
        "    hidden_size=320,\n",
        "    output_dim=512, \n",
        "    n_layers=4,\n",
        "    dropout=0.2,\n",
        "    bidirectional=True\n",
        ")\n",
        "\n",
        "loader = data.DataLoader(test_dataset, batch_size=2, shuffle=False, collate_fn=lambda x: data_processing(x, 'test'))\n",
        "spectrograms, labels, input_lengths, label_lengths = next(iter(loader))\n",
        "logits, hidden_states = encoder.forward(spectrograms, input_lengths)\n",
        "\n",
        "assert spectrograms.shape == torch.Size([2, 835, 80])\n",
        "assert logits.shape == torch.Size([2, 835, 512]) \n",
        "assert len(hidden_states) == 2\n",
        "assert hidden_states[0].shape == torch.Size([8, 2, 320])"
      ]
    },
    {
      "cell_type": "code",
      "execution_count": null,
      "metadata": {
        "id": "bhLTyplNi-k4"
      },
      "outputs": [],
      "source": [
        "class DecoderRNNT(nn.Module):\n",
        "    def __init__(self, hidden_size: int, vocab_size: int, output_dim: int, n_layers: int, dropout: float = 0.2):\n",
        "        \"\"\"\n",
        "        A simple RNN-based autoregressive language model that takes as input previously generated text tokens\n",
        "        and outputs a hidden representation of the next token\n",
        "\n",
        "        :param hidden_size: the number of features in the hidden states in LSTM layers\n",
        "        :param vocab_size: the number of text tokens in the dictionary\n",
        "        :param output_dim: the output dimension\n",
        "        :param n_layers: the number of stacked LSTM layers\n",
        "        :param dropout: the dropout probability for LSTM layers\n",
        "        \"\"\"\n",
        "        super().__init__()\n",
        "        self.embedding = <YOUR CODE>\n",
        "        self.lstm = <YOUR CODE>\n",
        "        self.output_proj = <YOUR CODE>\n",
        "\n",
        "    def forward(self, inputs: torch.Tensor, input_lengths: Optional[torch.Tensor] = None, \n",
        "                hidden_states: Optional[Tuple[torch.Tensor, torch.Tensor]] = None) -> Tuple[torch.Tensor, List[torch.Tensor]]:\n",
        "        \"\"\"        \n",
        "        :param inputs: labels, shape: (B, U)\n",
        "        :param input_lengths: the lengths of the text labels in the batch, shape: (B,)\n",
        "        :return: outputs of the projection layer and hidden states from LSTMs\n",
        "        \"\"\"\n",
        "        embed_inputs = <YOUR CODE>\n",
        "\n",
        "        if input_lengths is not None:\n",
        "            # training phase, the code here is close to `forward` of the Encoder \n",
        "            <YOUR CODE>\n",
        "        else:\n",
        "            # testing phase\n",
        "            outputs, hidden = self.lstm(embed_inputs, hidden_states)\n",
        "\n",
        "        outputs = self.output_proj(outputs)\n",
        "        return outputs, hidden"
      ]
    },
    {
      "cell_type": "code",
      "execution_count": null,
      "metadata": {
        "id": "QNGRqpMji-k4"
      },
      "outputs": [],
      "source": [
        "decoder = DecoderRNNT(\n",
        "    hidden_size=512,\n",
        "    vocab_size=len(tokenizer.char_map),\n",
        "    output_dim=512, \n",
        "    n_layers=1, \n",
        "    dropout=0.2\n",
        ")\n",
        "\n",
        "loader = data.DataLoader(test_dataset, batch_size=2, shuffle=False, collate_fn=lambda x: data_processing(x, 'test'))\n",
        "spectrograms, labels, input_lengths, label_lengths = next(iter(loader))\n",
        "logits, hidden_states = decoder.forward(labels, label_lengths)\n",
        "\n",
        "assert labels.shape == torch.Size([2, 158])\n",
        "assert logits.shape == torch.Size([2, 158, 512])\n",
        "assert len(hidden_states) == 2\n",
        "assert hidden_states[0].shape == torch.Size([1, 2, 512])"
      ]
    },
    {
      "cell_type": "code",
      "execution_count": null,
      "metadata": {
        "id": "IaM_Tkzhi-k5"
      },
      "outputs": [],
      "source": [
        "class Joiner(torch.nn.Module):\n",
        "    def __init__(self, joiner_dim: int, num_outputs: int):\n",
        "        \"\"\"\n",
        "        Adds encoder and decoder outputs, applies ReLU and passes the result \n",
        "        through a fully connected layer to get the output logits\n",
        "        \n",
        "        :param joiner_dim: the dimension of the encoder and decoder outputs\n",
        "        :num_outputs: the number of text tokens in the dictionary\n",
        "        \"\"\"\n",
        "        super().__init__()\n",
        "        self.linear = <YOUR CODE>\n",
        "\n",
        "    def forward(self, encoder_outputs: torch.Tensor, decoder_outputs: torch.Tensor) -> torch.Tensor:\n",
        "        \"\"\"\n",
        "        :param encoder_outputs: the encoder outputs (f_t), shape: (B, T, joiner_dim) or (joiner_dim,)\n",
        "        :param decoder_outputs: the decoder outputs (g_u), shape: (B, U, joiner_dim) or (joiner_dim,)\n",
        "        :return: output logits\n",
        "        \"\"\"\n",
        "        if encoder_outputs.dim() == 3 and decoder_outputs.dim() == 3:    # True for training phase\n",
        "            encoder_outputs = encoder_outputs.unsqueeze(2)\n",
        "            decoder_outputs = decoder_outputs.unsqueeze(1)\n",
        "        \n",
        "        # Linear(ReLU(f_t + g_u))\n",
        "        out = <YOUR CODE>\n",
        "        return out"
      ]
    },
    {
      "cell_type": "code",
      "execution_count": null,
      "metadata": {
        "id": "ovd_OawAi-k5"
      },
      "outputs": [],
      "source": [
        "class RNNTransducer(torch.nn.Module):\n",
        "    def __init__(self,\n",
        "        num_classes: int,\n",
        "        input_dim: int,\n",
        "        num_encoder_layers: int = 4,\n",
        "        num_decoder_layers: int = 1,\n",
        "        encoder_hidden_state_dim: int = 320,\n",
        "        decoder_hidden_state_dim: int = 512,\n",
        "        output_dim: int = 512,\n",
        "        encoder_is_bidirectional: bool = True,\n",
        "        encoder_dropout_p: float = 0.2,\n",
        "        decoder_dropout_p: float = 0.2\n",
        "    ):\n",
        "        \"\"\"\n",
        "        :param num_classes: the number of text tokens in the dictionary\n",
        "        :param input_dim: the number of mel-spectrogram features\n",
        "        :param num_encoder_layers: the number of LSTM layers in the encoder\n",
        "        :param num_decoder_layers: the number of LSTM layers in the decoder\n",
        "        :param encoder_hidden_state_dim: the number of features in the hidden states for the encoder\n",
        "        :param decoder_hidden_state_dim: the number of features in the hidden states for the decoder\n",
        "        :param output_dim: the output dimension\n",
        "        :param encoder_is_bidirectional: whether to use bidirectional LSTM's in the encoder\n",
        "        :param encoder_dropout_p: the dropout probability for the encoder\n",
        "        :param decoder_dropout_p: the dropout probability for the decoder\n",
        "        \"\"\"\n",
        "        super().__init__()\n",
        "        self.encoder = <YOUR CODE>\n",
        "        \n",
        "        # The decoder takes the input <BOS> + the original sequence. \n",
        "        # You need to shift the current label, and F.pad can help with that.\n",
        "        self.decoder = <YOUR CODE>\n",
        "        self.joiner = <YOUR CODE>\n",
        "\n",
        "    def forward(self, inputs: torch.Tensor, input_lengths: torch.Tensor, \n",
        "                targets: torch.Tensor, target_lengths: torch.Tensor) -> torch.Tensor:\n",
        "        \"\"\"\n",
        "        :param inputs: spectrograms, shape: (B, T, n_mels)\n",
        "        :param input_lengths: the lengths of the spectrograms in the batch, shape: (B,)\n",
        "        :param targets: labels, shape: (B, U)\n",
        "        :param target_lengths: the lengths of the text labels in the batch, shape: (B,)\n",
        "        :return: the output logits, shape: (B, T, U, n_tokens)\n",
        "        \"\"\"\n",
        "        encoder_outputs, _ = <YOUR CODE>\n",
        "        decoder_outputs, _ = <YOUR CODE>\n",
        "        joiner_out = <YOUR CODE>\n",
        "        return joiner_out\n"
      ]
    },
    {
      "cell_type": "code",
      "execution_count": null,
      "metadata": {
        "id": "PnC5EE33i-k6"
      },
      "outputs": [],
      "source": [
        "transducer = RNNTransducer(\n",
        "    num_classes=len(tokenizer.char_map),\n",
        "    input_dim=80,\n",
        "    num_encoder_layers=4,\n",
        "    num_decoder_layers=1,\n",
        "    encoder_hidden_state_dim=320,\n",
        "    decoder_hidden_state_dim=512,\n",
        "    output_dim=512,\n",
        "    encoder_is_bidirectional=True,\n",
        "    encoder_dropout_p=0.2,\n",
        "    decoder_dropout_p=0.2\n",
        ")\n",
        "\n",
        "loader = data.DataLoader(test_dataset, batch_size=2, shuffle=False, collate_fn=lambda x: data_processing(x, 'test'))\n",
        "spectrograms, labels, input_lengths, label_lengths = next(iter(loader))\n",
        "result = transducer.forward(spectrograms, input_lengths, labels, label_lengths)\n",
        "\n",
        "assert spectrograms.shape == torch.Size([2, 835, 80])\n",
        "assert labels.shape == torch.Size([2, 158])\n",
        "assert result.shape == torch.Size([2, 835, 159, 30])"
      ]
    },
    {
      "cell_type": "markdown",
      "metadata": {
        "id": "qBdlLxKni-k6"
      },
      "source": [
        "## Implementing a greedy decoder (18 points)"
      ]
    },
    {
      "cell_type": "markdown",
      "metadata": {
        "id": "RPZv4-Bdi-k6"
      },
      "source": [
        "<p style=\"text-align:center;\"><img src=\"http://drive.google.com/uc?export=view&id=1tHsoq0ZH0tHSHYlYlw00y8ksF-wHmrmC\">"
      ]
    },
    {
      "cell_type": "markdown",
      "metadata": {
        "id": "wMhA58FEi-k6"
      },
      "source": [
        "Now we know how to train a Transducer, but how do we infer it? Our task is to generate an output sequence $\\mathbf y$ given an input acoustic sequence $\\mathbf x$.\n",
        "\n",
        "Here we will index the encoder outputs $f_t$ starting from zero, because it is more convenient when describing an algorithm.\n",
        "\n",
        "The greedy decoding procedure is as follows:\n",
        "1. Compute $\\{f_0, \\ldots, f_T\\}$ using $\\mathbf x$.\n",
        "2. Set $t = 0$, $u = 0$, $\\mathbf y = []$, $\\mathrm{iteration} = 0$.\n",
        "3. If $u = 0$, set $g_0 = \\mathrm{Encoder}(\\langle s \\rangle)$. If $u > 0$, compute $g_u$ using the last predicted token $\\mathbf y[-1]$.\n",
        "4. Compute $P(y | t, u)$ using $f_t$ and $g_u$.\n",
        "5. If argmax of $P(y | t, u)$ is a label, set $u = u + 1$ and append the new label to $\\mathbf y$. \n",
        "6. If argmax of $P(y | t, u)$ is $\\emptyset$, set $t = t + 1$.\n",
        "7. If $t = T$ or $\\mathrm{iteration} = \\mathrm{max\\_iterations}$, we are done. Else, set $\\mathrm{iteration} = \\mathrm{iteration + 1}$ and go to step 3."
      ]
    },
    {
      "cell_type": "code",
      "execution_count": null,
      "metadata": {
        "id": "o3tjfGsji-k7"
      },
      "outputs": [],
      "source": [
        "@torch.no_grad()\n",
        "def greedy_decode(model: RNNTransducer, encoder_output: torch.Tensor, max_steps: int = 2000) -> torch.Tensor:\n",
        "    \"\"\"\n",
        "    :param model: an RNN-T model in eval mode\n",
        "    :param encoder_output: the output of the encoder part of RNN-T, shape: (T, encoder_output_dim)\n",
        "    :param max_steps: the maximum number of decoding steps\n",
        "    :return: the predicted labels\n",
        "    \"\"\"\n",
        "    pred_tokens, hidden_state = [], None\n",
        "    blank = tokenizer.get_symbol_index(BLANK_SYMBOL)    \n",
        "    max_time_steps = encoder_output.size(0)\n",
        "    t = 0\n",
        "    \n",
        "    decoder_input = encoder_output.new_tensor([[tokenizer.get_symbol_index(BOS)]], dtype=torch.long)\n",
        "    decoder_output, hidden_state = model.decoder(decoder_input, hidden_states=hidden_state)\n",
        "\n",
        "    for _ in range(max_steps):\n",
        "        <YOUR CODE>\n",
        "\n",
        "        if t == max_time_steps:\n",
        "            break\n",
        "\n",
        "    return torch.LongTensor(pred_tokens)\n",
        "\n",
        "\n",
        "@torch.no_grad()\n",
        "def recognize(model: RNNTransducer, inputs: torch.Tensor, input_lengths: torch.Tensor) -> List[torch.Tensor]:\n",
        "    \"\"\"\n",
        "    :param model: an RNN-T model in eval mode\n",
        "    :param inputs: spectrograms, shape: (B, T, n_mels)\n",
        "    :param input_lengths: the lengths of the spectrograms in the batch, shape: (B,)\n",
        "    :return: a list with the predicted labels\n",
        "    \"\"\"\n",
        "    outputs = []\n",
        "    encoder_outputs, _ = model.encoder(inputs, input_lengths)\n",
        "\n",
        "    for encoder_output in encoder_outputs:\n",
        "        decoded_seq = greedy_decode(model, encoder_output)\n",
        "        outputs.append(decoded_seq)\n",
        "\n",
        "    return outputs\n",
        "\n",
        "\n",
        "def get_transducer_predictions(\n",
        "        transducer: RNNTransducer, inputs: torch.Tensor, input_lengths: torch.Tensor, \n",
        "        targets: torch.Tensor, target_lengths: torch.Tensor\n",
        "    ) -> pd.DataFrame:\n",
        "    \"\"\"\n",
        "    :param transducer: an RNN-T model in eval mode\n",
        "    :param inputs: spectrograms, shape: (B, T, n_mels)\n",
        "    :param input_lengths: the lengths of the spectrograms in the batch, shape: (B,)\n",
        "    :param targets: labels, shape: (B, U)\n",
        "    :param target_lengths: the lengths of the text labels in the batch, shape: (B,)\n",
        "    :return: a pd.DataFrame with inference results\n",
        "    \"\"\"\n",
        "    predictions = recognize(transducer, inputs, input_lengths)\n",
        "    result = []\n",
        "    for pred, target, target_len in zip(predictions, targets, target_lengths):\n",
        "        label = target[:target_len]\n",
        "        utterance = tokenizer.indices_to_text(list(map(int, label)))\n",
        "        pred_utterance = tokenizer.indices_to_text(list(map(int, pred)))\n",
        "        result.append({\n",
        "            \"ground_truth\": utterance,\n",
        "            \"prediction\": pred_utterance,\n",
        "            \"cer\": utils.cer(utterance, pred_utterance),\n",
        "            \"wer\": utils.wer(utterance, pred_utterance)\n",
        "        })\n",
        "    return pd.DataFrame.from_records(result)\n"
      ]
    },
    {
      "cell_type": "code",
      "execution_count": null,
      "metadata": {
        "id": "FIJtZpE3i-k7"
      },
      "outputs": [],
      "source": [
        "model = torch.jit.load('week_06_files/model_scripted_epoch_5.pt')\n",
        "model.eval()"
      ]
    },
    {
      "cell_type": "code",
      "execution_count": null,
      "metadata": {
        "id": "mu-sVO4Hi-k8"
      },
      "outputs": [],
      "source": [
        "loader = data.DataLoader(test_dataset, batch_size=5, shuffle=False, collate_fn=lambda x: data_processing(x, 'test'))\n",
        "spectrograms, labels, input_lengths, label_lengths = next(iter(loader))\n",
        "predictions = get_transducer_predictions(\n",
        "    model, spectrograms, input_lengths, \n",
        "    labels, label_lengths\n",
        ")\n",
        "predictions"
      ]
    },
    {
      "cell_type": "code",
      "execution_count": null,
      "metadata": {
        "id": "_Udw1t9ii-k8"
      },
      "outputs": [],
      "source": [
        "reference_values = [\n",
        "    {\n",
        "        \"gt\": \"he hoped there would be stew for dinner turnips and carrots and bruised potatoes and fat mutton pieces to be ladled out in thick peppered flour fattened sauce\",\n",
        "        \"prediction\": \"he hoped there would be stew for dinner turnips and characts and bruised potatoes and fat much and pieces to be lateled out in the thick peppered flowerfacton sauce\"\n",
        "    },\n",
        "    {\n",
        "        \"gt\": \"stuff it into you his belly counselled him\",\n",
        "        \"prediction\": \"stuffed into you his belly counciled him\"\n",
        "    },\n",
        "    {\n",
        "        \"gt\": \"after early nightfall the yellow lamps would light up here and there the squalid quarter of the brothels\",\n",
        "        \"prediction\": \"after early night fall the yellow lamps would lie how peer and there the squalit quarter of the brothels\"\n",
        "    },\n",
        "    {\n",
        "        \"gt\": \"hello bertie any good in your mind\",\n",
        "        \"prediction\": \"her about he and he good in your mind\"\n",
        "    },\n",
        "    {\n",
        "        \"gt\": \"number ten fresh nelly is waiting on you good night husband\",\n",
        "        \"prediction\": \"none but den fresh now as waiting on you could night husband\"\n",
        "    }\n",
        "]\n",
        "\n"
      ]
    },
    {
      "cell_type": "code",
      "execution_count": null,
      "metadata": {
        "id": "g7Pk9s7ei-k8"
      },
      "outputs": [],
      "source": [
        "for index in range(5):\n",
        "    gt = predictions.iloc[index].ground_truth\n",
        "    prediction = predictions.iloc[index].prediction\n",
        "    assert gt == reference_values[index][\"gt\"]\n",
        "    assert prediction == reference_values[index][\"prediction\"]"
      ]
    },
    {
      "cell_type": "markdown",
      "metadata": {
        "id": "rKCR9BdFi-k9"
      },
      "source": [
        "## Train your model (4 points)"
      ]
    },
    {
      "cell_type": "markdown",
      "metadata": {
        "id": "MBEOtdeZi-k9"
      },
      "source": [
        "Here you can launch training of the model you've just built. To get **2 points**, provide the curves for test loss, CER and WER from Weights & Biases.\n",
        "\n",
        "After training, you will get the test metric values on the hold-out test set. To get the rest **2 points**, you need to pass the following thresholds:\n",
        "\n",
        "- 0.15 test CER\n",
        "- 0.3 test WER"
      ]
    },
    {
      "cell_type": "code",
      "execution_count": null,
      "metadata": {
        "id": "6wyqZtQ8i-k9"
      },
      "outputs": [],
      "source": [
        "def train(model: nn.Module, device: str, train_loader: data.DataLoader,\n",
        "          test_sample: List[torch.Tensor], criterion: nn.Module, optimizer: \n",
        "          torch.optim.Optimizer, epoch: int, eval_period: int = 100) -> None:\n",
        "    \"\"\"\n",
        "    :param model: an RNN-T model\n",
        "    :param device: \"gpu\" or \"cpu\"\n",
        "    :param train_loader: training data loader\n",
        "    :param test_sample: a sample from the test set to log preliminary inference metrics\n",
        "    :param criterion: the loss function\n",
        "    :param optimizer: the training optimizer\n",
        "    :param epoch: the current epoch number\n",
        "    :param eval_period: the number of iterations between evaluations\n",
        "    \"\"\"\n",
        "    model.train()\n",
        "    data_len = len(train_loader.dataset)\n",
        "\n",
        "    for batch_idx, _data in tqdm(enumerate(train_loader), total=data_len):\n",
        "        spectrograms, labels, input_lengths, label_lengths = _data\n",
        "        spectrograms, labels = spectrograms.to(device), labels.to(device)\n",
        "\n",
        "        optimizer.zero_grad()\n",
        "\n",
        "        output = model.forward(spectrograms, input_lengths, labels, label_lengths)   # (batch, time, label_length, n_class)\n",
        "        output = F.log_softmax(output, dim=-1)\n",
        "        \n",
        "        loss = criterion(\n",
        "            output, \n",
        "            labels, \n",
        "            input_lengths.to(device), \n",
        "            label_lengths.to(device)\n",
        "        )\n",
        "        loss.backward()\n",
        "        optimizer.step()\n",
        "        \n",
        "        if batch_idx % eval_period == 0 or batch_idx == data_len:\n",
        "            wandb.log({'loss_train': loss.item()})\n",
        "            \n",
        "            with torch.no_grad():\n",
        "                spectrograms, labels, input_lengths, label_lengths = test_sample\n",
        "                spectrograms, labels = spectrograms.to(device), labels.to(device)\n",
        "                predictions = get_transducer_predictions(\n",
        "                    model, spectrograms, input_lengths, \n",
        "                    labels, label_lengths\n",
        "                )\n",
        "                output = model.forward(spectrograms, input_lengths, labels, label_lengths)\n",
        "                val_loss = criterion(\n",
        "                  output, \n",
        "                  labels, \n",
        "                  input_lengths.to(device), \n",
        "                  label_lengths.to(device)\n",
        "                )\n",
        "                wandb.log({'loss_val': val_loss.item()})\n",
        "                clear_output(wait=True)\n",
        "                print('\\nTrain Epoch: {} [{}/{} ({:.0f}%)]\\tTrain Loss: {:.6f}\\tVal loss: {:.6f}'.format(\n",
        "                      epoch, batch_idx * len(spectrograms), data_len,\n",
        "                      100. * batch_idx / len(train_loader), loss.item(), val_loss.item()))\n",
        "                print(f\"cer: {predictions.cer.mean()}, wer: {predictions.wer.mean()}\")\n",
        "                display(predictions)\n",
        "                wandb.log({'cer_val': predictions.cer.mean()})\n",
        "                wandb.log({'wer_val': predictions.wer.mean()})\n",
        "                wandb.log({'val_predictions': wandb.Table(dataframe=predictions)})\n",
        "\n",
        "\n",
        "def test(model: nn.Module, device: str, test_loader: data.DataLoader, \n",
        "         criterion: nn.Module, epoch: int, total_steps: int = None, \n",
        "         log_predictions: bool = False) -> None:\n",
        "    \"\"\"\n",
        "    :param model: an RNN-T model\n",
        "    :param device: \"gpu\" or \"cpu\"\n",
        "    :param test_loader: test data loader\n",
        "    :param criterion: the loss function\n",
        "    :param epoch: the current epoch number\n",
        "    :param total_steps: the number of test steps to perform. If None, the whole test set will be used for evaluation\n",
        "    :param log_predictions: if True, the predicted labels will be logged to the W&B dashboard\n",
        "    \"\"\"\n",
        "    print('Beginning eval...')\n",
        "    model.eval()\n",
        "    test_cer, test_wer, test_loss = [], [], []\n",
        "    test_predictions = []\n",
        "    if total_steps is None:\n",
        "        total_steps = len(test_loader)\n",
        "        \n",
        "    with torch.no_grad():\n",
        "        for i, _data in tqdm_notebook(enumerate(test_loader), total=total_steps):\n",
        "            if i == total_steps:\n",
        "                break\n",
        "            spectrograms, labels, input_lengths, label_lengths = _data\n",
        "            spectrograms, labels = spectrograms.to(device), labels.to(device)\n",
        "            output = model.forward(spectrograms, input_lengths, labels, label_lengths)\n",
        "            loss = criterion(\n",
        "              output, \n",
        "              labels, \n",
        "              input_lengths.to(device), \n",
        "              label_lengths.to(device)\n",
        "            )\n",
        "            test_loss.append(loss.item())\n",
        "            \n",
        "            predictions = get_transducer_predictions(\n",
        "                model, spectrograms, input_lengths, \n",
        "                labels, label_lengths\n",
        "            )\n",
        "            test_cer += list(predictions.cer)\n",
        "            test_wer += list(predictions.wer)\n",
        "            if log_predictions:\n",
        "                test_predictions.append(predictions)\n",
        "\n",
        "    avg_cer = np.mean(test_cer)\n",
        "    avg_wer = np.mean(test_wer)\n",
        "    avg_loss = np.mean(test_loss)\n",
        "    \n",
        "    if total_steps < len(test_loader):\n",
        "        wandb.log({\n",
        "            'loss_test': avg_loss, \n",
        "            'avg_cer': avg_cer, \n",
        "            'avg_wer': avg_wer\n",
        "        })\n",
        "    else:\n",
        "        wandb.log({\n",
        "            'loss_test_final': avg_loss, \n",
        "            'avg_cer_final': avg_cer, \n",
        "            'avg_wer_final': avg_wer\n",
        "        })\n",
        "    if log_predictions:\n",
        "        wandb.log({'test_predictions': wandb.Table(dataframe=pd.concat(test_predictions, ignore_index=True))})\n",
        "        \n",
        "    print('Epoch: {:d}, Test set: Average loss: {:.4f}, Average CER: {:4f} Average WER: {:.4f}\\n'.format(\n",
        "        epoch, avg_loss, avg_cer, avg_wer))\n",
        "    "
      ]
    },
    {
      "cell_type": "code",
      "execution_count": null,
      "metadata": {
        "id": "lOWGMWf9i-k-",
        "outputId": "4bb03d7e-413f-4571-b024-618169146b8a"
      },
      "outputs": [
        {
          "name": "stdout",
          "output_type": "stream",
          "text": [
            "GPU found! 🎉\n"
          ]
        }
      ],
      "source": [
        "torch.manual_seed(7)\n",
        "if torch.cuda.is_available():\n",
        "    print('GPU found! 🎉')\n",
        "    device = 'cuda'\n",
        "else:\n",
        "    print('Only CPU found! 💻')\n",
        "    device = 'cpu'\n",
        "\n",
        "# Hyperparameters for your model\n",
        "\n",
        "hparams = {\n",
        "    'model': {\n",
        "        'num_classes': len(tokenizer.char_map),\n",
        "        'input_dim': 80,\n",
        "        'num_encoder_layers': 4,\n",
        "        'num_decoder_layers': 1,\n",
        "        'encoder_hidden_state_dim': 320,\n",
        "        'decoder_hidden_state_dim': 512,\n",
        "        'output_dim': 512,\n",
        "        'encoder_is_bidirectional': True,\n",
        "        'encoder_dropout_p': 0.2,\n",
        "        'decoder_dropout_p': 0.2\n",
        "    },\n",
        "    'data': {\n",
        "        'batch_size': 1,\n",
        "        'epochs': 10,\n",
        "        'learning_rate': 1e-4\n",
        "    }\n",
        "}\n",
        "\n",
        "kwargs = {'num_workers': 1, 'pin_memory': True} if device == 'cuda' else {}\n",
        "train_loader = data.DataLoader(train_dataset, batch_size=hparams['data']['batch_size'], \n",
        "                               shuffle=True, collate_fn=lambda x: data_processing(x), **kwargs)\n",
        "test_loader = data.DataLoader(test_dataset, batch_size=hparams['data']['batch_size'], \n",
        "                              shuffle=False, collate_fn=lambda x: data_processing(x, 'test'), **kwargs)\n",
        "\n"
      ]
    },
    {
      "cell_type": "code",
      "execution_count": null,
      "metadata": {
        "id": "RPzsOxuai-k-",
        "outputId": "1f20306a-d430-4ca8-8a71-97fbb052c5ef"
      },
      "outputs": [
        {
          "data": {
            "text/plain": [
              "RNNTransducer(\n",
              "  (encoder): EncoderRNNT(\n",
              "    (lstm): LSTM(80, 320, num_layers=4, batch_first=True, dropout=0.2, bidirectional=True)\n",
              "    (output_proj): Linear(in_features=640, out_features=512, bias=True)\n",
              "  )\n",
              "  (decoder): DecoderRNNT(\n",
              "    (embedding): Embedding(30, 512, padding_idx=0)\n",
              "    (lstm): LSTM(512, 512, batch_first=True)\n",
              "    (output_proj): Linear(in_features=512, out_features=512, bias=True)\n",
              "  )\n",
              "  (joiner): Joiner(\n",
              "    (linear): Linear(in_features=512, out_features=30, bias=True)\n",
              "  )\n",
              ")"
            ]
          },
          "execution_count": 30,
          "metadata": {},
          "output_type": "execute_result"
        }
      ],
      "source": [
        "model = RNNTransducer(**hparams['model'])\n",
        "model.to(device)"
      ]
    },
    {
      "cell_type": "code",
      "execution_count": null,
      "metadata": {
        "id": "0Y00qHnwi-k_"
      },
      "outputs": [],
      "source": [
        "wandb.init(project=\"speech-transducer\", \n",
        "           group=\"base-architecture\",\n",
        "           config=hparams)"
      ]
    },
    {
      "cell_type": "code",
      "execution_count": null,
      "metadata": {
        "id": "A6HlgxA9i-k_",
        "outputId": "f87d07dc-27ce-46fa-84ac-cafe7073b69a"
      },
      "outputs": [
        {
          "name": "stdout",
          "output_type": "stream",
          "text": [
            "\n",
            "Train Epoch: 10 [27700/28539 (97%)]\tTrain Loss: 31.955454\tVal loss: 33.972012\n",
            "cer: 0.12025316455696203, wer: 0.2857142857142857\n"
          ]
        },
        {
          "data": {
            "text/html": [
              "<div>\n",
              "<style scoped>\n",
              "    .dataframe tbody tr th:only-of-type {\n",
              "        vertical-align: middle;\n",
              "    }\n",
              "\n",
              "    .dataframe tbody tr th {\n",
              "        vertical-align: top;\n",
              "    }\n",
              "\n",
              "    .dataframe thead th {\n",
              "        text-align: right;\n",
              "    }\n",
              "</style>\n",
              "<table border=\"1\" class=\"dataframe\">\n",
              "  <thead>\n",
              "    <tr style=\"text-align: right;\">\n",
              "      <th></th>\n",
              "      <th>ground_truth</th>\n",
              "      <th>prediction</th>\n",
              "      <th>cer</th>\n",
              "      <th>wer</th>\n",
              "    </tr>\n",
              "  </thead>\n",
              "  <tbody>\n",
              "    <tr>\n",
              "      <th>0</th>\n",
              "      <td>he hoped there would be stew for dinner turnip...</td>\n",
              "      <td>he hoped there would be stew for dinner ternip...</td>\n",
              "      <td>0.120253</td>\n",
              "      <td>0.285714</td>\n",
              "    </tr>\n",
              "  </tbody>\n",
              "</table>\n",
              "</div>"
            ],
            "text/plain": [
              "                                        ground_truth  \\\n",
              "0  he hoped there would be stew for dinner turnip...   \n",
              "\n",
              "                                          prediction       cer       wer  \n",
              "0  he hoped there would be stew for dinner ternip...  0.120253  0.285714  "
            ]
          },
          "metadata": {},
          "output_type": "display_data"
        },
        {
          "name": "stderr",
          "output_type": "stream",
          "text": [
            "\n",
            " 97% 27701/28539 [2:12:51<09:30,  1.47it/s]\u001b[A\n",
            " 97% 27702/28539 [2:12:52<07:54,  1.76it/s]\u001b[A\n",
            " 97% 27703/28539 [2:12:52<06:11,  2.25it/s]\u001b[A\n",
            " 97% 27704/28539 [2:12:52<05:33,  2.50it/s]\u001b[A\n",
            " 97% 27705/28539 [2:12:53<05:07,  2.71it/s]\u001b[A\n",
            " 97% 27706/28539 [2:12:53<04:47,  2.90it/s]\u001b[A\n",
            " 97% 27707/28539 [2:12:53<05:07,  2.71it/s]\u001b[A\n",
            " 97% 27708/28539 [2:12:54<04:55,  2.81it/s]\u001b[A\n",
            " 97% 27709/28539 [2:12:54<04:44,  2.92it/s]\u001b[A\n",
            " 97% 27710/28539 [2:12:54<04:27,  3.10it/s]\u001b[A\n",
            " 97% 27711/28539 [2:12:54<04:30,  3.06it/s]\u001b[A\n",
            " 97% 27712/28539 [2:12:55<04:13,  3.26it/s]\u001b[A\n",
            " 97% 27714/28539 [2:12:55<03:27,  3.99it/s]\u001b[A\n",
            " 97% 27715/28539 [2:12:55<03:39,  3.76it/s]\u001b[A\n",
            " 97% 27716/28539 [2:12:56<03:42,  3.70it/s]\u001b[A\n",
            " 97% 27717/28539 [2:12:56<03:38,  3.76it/s]\u001b[A\n",
            " 97% 27718/28539 [2:12:56<03:38,  3.75it/s]\u001b[A\n",
            " 97% 27719/28539 [2:12:57<03:47,  3.60it/s]\u001b[A\n",
            " 97% 27720/28539 [2:12:57<03:53,  3.50it/s]\u001b[A\n",
            " 97% 27721/28539 [2:12:57<03:50,  3.55it/s]\u001b[A\n",
            " 97% 27722/28539 [2:12:57<03:57,  3.45it/s]\u001b[A\n",
            " 97% 27723/28539 [2:12:58<03:51,  3.52it/s]\u001b[A\n",
            " 97% 27724/28539 [2:12:58<03:20,  4.06it/s]\u001b[A\n",
            " 97% 27725/28539 [2:12:58<03:08,  4.32it/s]\u001b[A\n",
            " 97% 27726/28539 [2:12:58<03:06,  4.35it/s]\u001b[A\n",
            " 97% 27727/28539 [2:12:58<02:51,  4.74it/s]\u001b[A\n",
            " 97% 27729/28539 [2:12:59<02:46,  4.86it/s]\u001b[A\n",
            " 97% 27730/28539 [2:12:59<03:09,  4.26it/s]\u001b[A\n",
            " 97% 27731/28539 [2:12:59<03:11,  4.23it/s]\u001b[A\n",
            " 97% 27732/28539 [2:13:00<03:10,  4.24it/s]\u001b[A\n",
            " 97% 27733/28539 [2:13:00<03:16,  4.10it/s]\u001b[A\n",
            " 97% 27734/28539 [2:13:00<02:44,  4.88it/s]\u001b[A\n",
            " 97% 27735/28539 [2:13:00<03:09,  4.24it/s]\u001b[A\n",
            " 97% 27736/28539 [2:13:01<03:26,  3.89it/s]\u001b[A\n",
            " 97% 27737/28539 [2:13:01<03:37,  3.69it/s]\u001b[A\n",
            " 97% 27738/28539 [2:13:01<03:47,  3.51it/s]\u001b[A\n",
            " 97% 27739/28539 [2:13:01<03:37,  3.67it/s]\u001b[A\n",
            " 97% 27740/28539 [2:13:02<03:33,  3.74it/s]\u001b[A\n",
            " 97% 27741/28539 [2:13:02<03:51,  3.45it/s]\u001b[A\n",
            " 97% 27742/28539 [2:13:02<03:49,  3.47it/s]\u001b[A\n",
            " 97% 27743/28539 [2:13:03<03:51,  3.43it/s]\u001b[A\n",
            " 97% 27744/28539 [2:13:03<03:49,  3.46it/s]\u001b[A\n",
            " 97% 27745/28539 [2:13:03<03:53,  3.40it/s]\u001b[A\n",
            " 97% 27746/28539 [2:13:04<03:51,  3.43it/s]\u001b[A\n",
            " 97% 27747/28539 [2:13:04<03:57,  3.33it/s]\u001b[AIOPub message rate exceeded.\n",
            "The notebook server will temporarily stop sending output\n",
            "to the client in order to avoid crashing it.\n",
            "To change this limit, set the config variable\n",
            "`--NotebookApp.iopub_msg_rate_limit`.\n",
            "\n",
            "Current values:\n",
            "NotebookApp.iopub_msg_rate_limit=1000.0 (msgs/sec)\n",
            "NotebookApp.rate_limit_window=3.0 (secs)\n",
            "\n"
          ]
        }
      ],
      "source": [
        "optimizer = optim.Adam(model.parameters(), lr=hparams['data']['learning_rate'])\n",
        "criterion = RNNTLoss(blank=tokenizer.get_symbol_index(BLANK_SYMBOL), reduction='mean')\n",
        "test_sample = next(iter(test_loader))\n",
        "\n",
        "for epoch in tqdm_notebook(range(1, hparams['data']['epochs'] + 1)):\n",
        "    train(model, device, train_loader, test_sample, criterion, optimizer, epoch, eval_period=50)\n",
        "    utils.save_checkpoint(model, checkpoint_name=f'model_epoch{epoch}.tar', path=snapshot_dir)\n",
        "    wandb.save(f'model_epoch{epoch}.tar')\n",
        "    test(model, device, test_loader, criterion, epoch, total_steps=20, log_predictions=True)\n",
        "\n",
        "utils.save_checkpoint(model, checkpoint_name=f'model.tar')"
      ]
    },
    {
      "cell_type": "code",
      "execution_count": null,
      "metadata": {
        "id": "Dao_2Mj7i-lA"
      },
      "outputs": [],
      "source": [
        "test(model, device, test_loader, criterion, epoch)"
      ]
    }
  ],
  "metadata": {
    "kernelspec": {
      "display_name": "Python 3 (ipykernel)",
      "language": "python",
      "name": "python3"
    },
    "language_info": {
      "codemirror_mode": {
        "name": "ipython",
        "version": 3
      },
      "file_extension": ".py",
      "mimetype": "text/x-python",
      "name": "python",
      "nbconvert_exporter": "python",
      "pygments_lexer": "ipython3",
      "version": "3.9.7"
    },
    "colab": {
      "name": "homework3_student.ipynb",
      "provenance": [],
      "toc_visible": true
    }
  },
  "nbformat": 4,
  "nbformat_minor": 0
}