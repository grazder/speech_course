{
  "cells": [
    {
      "cell_type": "markdown",
      "metadata": {
        "id": "YCXeGMN7F2Cm"
      },
      "source": [
        "# Homework # 1: Audio Digital Classification (25 points)\n",
        "\n",
        "In this homework you will master all the basic skills needed to work with audio classification. The goal is to implement a simple speech recognition system which can classify spoken digits. We will work with the [**AudioMNIST** ](https://arxiv.org/pdf/1807.03418.pdf) dataset (audio equivalent of the MNIST dataset). \n",
        "\n",
        "To construct an audio classifier you will need to implement dataloading, data preprocessing, augmentation and design a neural network which works well with audio data. In this homework you will:\n",
        "* Learn how to use `torchaudio` as a library for working with audio in conjunction with `torch`\n",
        "* Experiment with different feature representations of the audio signal in practice\n",
        "* Develop an audio classification model based on recurrent networks\n",
        "* Test the trained model on real data (on your own voice)\n",
        "\n",
        "\n",
        "### Task Structure \n",
        "This homework is structured as follows:\n",
        "\n",
        "* Voice Activity Detection (VAD): Here we will create a custom test-set using either your own voice or some pre-recorded data. You will implement a simple energy-based VAD system that you can partition your data into separate digits.\n",
        "* Dataloading: Here the goal is to learn how to preprocess an audio dataset into a convenient format. Additionally, here you can also add data augmentation, which can improve the quality of your model.\n",
        "* Deep Leaening: This is the meat of the exercize. Here you will implement a simple audio classification neural network and train it in on the AudioMNIST dataset. Points will be awarded based on the performance of your model. \n",
        "\n",
        "\n",
        "### Grading criteria\n",
        "\n",
        "```\n",
        "[ ] (4 point)  Implement energy VAD for audio splitting\n",
        "[ ] (2 point)  Implement data preprocessing\n",
        "[ ] (3 point)  Implement batching\n",
        "[ ] (6 points) Train classification model (> 95% accuracy on validation)\n",
        "[ ] (6 points) Achieve good test-score on our side (> 95% accuracy on hidden sample)\n",
        "[ ] (4 points) Answer questions\n",
        "```\n",
        "\n",
        "### Submitting results\n",
        "\n",
        "The results of this task are two artifacts:\n",
        "1. this Jupiter Notebook (`.ipynb`) with completed cells\n",
        "2. checkpoint of the `model.path` model on the \"best\" iteration\n",
        "\n",
        "Save the artifacts to a directory named `{your last name}_{your first name}_hw1` and pack them in `.zip` archive.\n",
        "\n",
        "\n",
        "![](https://miro.medium.com/max/1400/0*vkUOacXAsNIQCpDu.png)"
      ]
    },
    {
      "cell_type": "markdown",
      "source": [
        "# Setup"
      ],
      "metadata": {
        "id": "U0C_jrg59Nsu"
      }
    },
    {
      "cell_type": "markdown",
      "metadata": {
        "id": "B6kqov4jF2Co"
      },
      "source": [
        "#### Dockerfile\n",
        "```\n",
        "FROM nvidia/cuda:10.1-devel-ubuntu18.04\n",
        "\n",
        "RUN apt-get update && apt-get install -y sox python3.7-dev python3.7-distutils curl\n",
        "RUN ln -s /usr/bin/python3.7 /usr/bin/python\n",
        "RUN ln -s /usr/bin/pip3 /usr/bin/pip\n",
        "\n",
        "RUN curl --silent --show-error --retry 5 https://bootstrap.pypa.io/get-pip.py | python3.7\n",
        "# torch==1.7.1+cu101 if GPU exists\n",
        "RUN pip install torch==1.7.1 torchaudio==0.7.2 -f https://download.pytorch.org/whl/torch_stable.html\n",
        "RUN pip install numpy==1.17.5 matplotlib==3.3.3 tqdm==4.54.0 jupyter\n",
        "```\n",
        "\n",
        "#### Bulding docker image\n",
        "\n",
        "```\n",
        "docker build -t hw1 -f Dockerfile .\n",
        "```\n",
        "\n",
        "#### Running docker container\n",
        "\n",
        "```\n",
        "# nvidia-docker if GPU exists\n",
        "docker run -it --rm \\\n",
        "    --user $(id -u ${USER}):$(id -g ${USER}) \\\n",
        "    -p 8888:8888 \\\n",
        "    --volume $(pwd):$(pwd) \\\n",
        "    --workdir $(pwd) --env HOME=$(pwd) \\\n",
        "    --name hw1 hw1:latest jupyter notebook --ip 0.0.0.0\n",
        "```"
      ]
    },
    {
      "cell_type": "markdown",
      "metadata": {
        "id": "UAm4OLP1F2Cp"
      },
      "source": [
        "### Installing libraries\n",
        "\n",
        "We will work with `torch` version `1.7.1` (with the corresponding version of `touchaudio`).\n",
        "\n",
        "While the installation is in progress, you can run your eyes through the [documentation](https://pytorch.org/audio/stable/transforms.html) to `torchaudio` – from this library, we will only need a few transforms, as well as audio loading functions."
      ]
    },
    {
      "cell_type": "code",
      "source": [
        "! apt-get update && apt-get install -y sox python3.7-dev python3.7-distutils curl"
      ],
      "metadata": {
        "colab": {
          "base_uri": "https://localhost:8080/"
        },
        "id": "qxx9FKkG9LS5",
        "outputId": "77b3e684-4a0e-463a-e901-5575d837b631"
      },
      "execution_count": null,
      "outputs": [
        {
          "output_type": "stream",
          "name": "stdout",
          "text": [
            "\r0% [Working]\r            \rIgn:1 https://developer.download.nvidia.com/compute/cuda/repos/ubuntu1804/x86_64  InRelease\n",
            "\r0% [Connecting to archive.ubuntu.com (91.189.88.142)] [Connecting to security.u\r                                                                               \rHit:2 https://cloud.r-project.org/bin/linux/ubuntu bionic-cran40/ InRelease\n",
            "\r0% [Connecting to archive.ubuntu.com (91.189.88.142)] [Connecting to security.u\r                                                                               \rIgn:3 https://developer.download.nvidia.com/compute/machine-learning/repos/ubuntu1804/x86_64  InRelease\n",
            "\r0% [Connecting to archive.ubuntu.com (91.189.88.142)] [Connecting to security.u\r0% [2 InRelease gpgv 3,626 B] [Connecting to archive.ubuntu.com (91.189.88.142)\r                                                                               \rHit:4 https://developer.download.nvidia.com/compute/cuda/repos/ubuntu1804/x86_64  Release\n",
            "Hit:5 https://developer.download.nvidia.com/compute/machine-learning/repos/ubuntu1804/x86_64  Release\n",
            "Get:6 http://security.ubuntu.com/ubuntu bionic-security InRelease [88.7 kB]\n",
            "Hit:7 http://archive.ubuntu.com/ubuntu bionic InRelease\n",
            "Hit:8 http://ppa.launchpad.net/c2d4u.team/c2d4u4.0+/ubuntu bionic InRelease\n",
            "Get:9 http://archive.ubuntu.com/ubuntu bionic-updates InRelease [88.7 kB]\n",
            "Hit:11 http://ppa.launchpad.net/cran/libgit2/ubuntu bionic InRelease\n",
            "Hit:13 http://ppa.launchpad.net/deadsnakes/ppa/ubuntu bionic InRelease\n",
            "Get:14 http://archive.ubuntu.com/ubuntu bionic-backports InRelease [74.6 kB]\n",
            "Hit:15 http://ppa.launchpad.net/graphics-drivers/ppa/ubuntu bionic InRelease\n",
            "Fetched 252 kB in 2s (116 kB/s)\n",
            "Reading package lists... Done\n",
            "Reading package lists... Done\n",
            "Building dependency tree       \n",
            "Reading state information... Done\n",
            "Note, selecting 'python3-distutils' instead of 'python3.7-distutils'\n",
            "curl is already the newest version (7.58.0-2ubuntu3.16).\n",
            "python3-distutils is already the newest version (3.6.9-1~18.04).\n",
            "sox is already the newest version (14.4.2-3ubuntu0.18.04.1).\n",
            "python3.7-dev is already the newest version (3.7.12-1+bionic2).\n",
            "The following packages were automatically installed and are no longer required:\n",
            "  cuda-command-line-tools-10-0 cuda-command-line-tools-10-1\n",
            "  cuda-command-line-tools-11-0 cuda-compiler-10-0 cuda-compiler-10-1\n",
            "  cuda-compiler-11-0 cuda-cuobjdump-10-0 cuda-cuobjdump-10-1\n",
            "  cuda-cuobjdump-11-0 cuda-cupti-10-0 cuda-cupti-10-1 cuda-cupti-11-0\n",
            "  cuda-cupti-dev-11-0 cuda-documentation-10-0 cuda-documentation-10-1\n",
            "  cuda-documentation-11-0 cuda-documentation-11-1 cuda-gdb-10-0 cuda-gdb-10-1\n",
            "  cuda-gdb-11-0 cuda-gpu-library-advisor-10-0 cuda-gpu-library-advisor-10-1\n",
            "  cuda-libraries-10-0 cuda-libraries-10-1 cuda-libraries-11-0\n",
            "  cuda-memcheck-10-0 cuda-memcheck-10-1 cuda-memcheck-11-0 cuda-nsight-10-0\n",
            "  cuda-nsight-10-1 cuda-nsight-11-0 cuda-nsight-11-1 cuda-nsight-compute-10-0\n",
            "  cuda-nsight-compute-10-1 cuda-nsight-compute-11-0 cuda-nsight-compute-11-1\n",
            "  cuda-nsight-systems-10-1 cuda-nsight-systems-11-0 cuda-nsight-systems-11-1\n",
            "  cuda-nvcc-10-0 cuda-nvcc-10-1 cuda-nvcc-11-0 cuda-nvdisasm-10-0\n",
            "  cuda-nvdisasm-10-1 cuda-nvdisasm-11-0 cuda-nvml-dev-10-0 cuda-nvml-dev-10-1\n",
            "  cuda-nvml-dev-11-0 cuda-nvprof-10-0 cuda-nvprof-10-1 cuda-nvprof-11-0\n",
            "  cuda-nvprune-10-0 cuda-nvprune-10-1 cuda-nvprune-11-0 cuda-nvtx-10-0\n",
            "  cuda-nvtx-10-1 cuda-nvtx-11-0 cuda-nvvp-10-0 cuda-nvvp-10-1 cuda-nvvp-11-0\n",
            "  cuda-nvvp-11-1 cuda-samples-10-0 cuda-samples-10-1 cuda-samples-11-0\n",
            "  cuda-samples-11-1 cuda-sanitizer-11-0 cuda-sanitizer-api-10-1\n",
            "  cuda-toolkit-10-0 cuda-toolkit-10-1 cuda-toolkit-11-0 cuda-toolkit-11-1\n",
            "  cuda-tools-10-0 cuda-tools-10-1 cuda-tools-11-0 cuda-tools-11-1\n",
            "  cuda-visual-tools-10-0 cuda-visual-tools-10-1 cuda-visual-tools-11-0\n",
            "  cuda-visual-tools-11-1 default-jre dkms freeglut3 freeglut3-dev\n",
            "  keyboard-configuration libargon2-0 libcap2 libcryptsetup12\n",
            "  libdevmapper1.02.1 libfontenc1 libidn11 libip4tc0 libjansson4\n",
            "  libnvidia-cfg1-510 libnvidia-common-460 libnvidia-common-510\n",
            "  libnvidia-extra-510 libnvidia-fbc1-510 libnvidia-gl-510 libpam-systemd\n",
            "  libpolkit-agent-1-0 libpolkit-backend-1-0 libpolkit-gobject-1-0 libxfont2\n",
            "  libxi-dev libxkbfile1 libxmu-dev libxmu-headers libxnvctrl0 libxtst6\n",
            "  nsight-compute-2020.2.1 nsight-compute-2022.1.0 nsight-systems-2020.3.2\n",
            "  nsight-systems-2020.3.4 nsight-systems-2021.5.2 nvidia-dkms-510\n",
            "  nvidia-kernel-common-510 nvidia-kernel-source-510 nvidia-modprobe\n",
            "  nvidia-settings openjdk-11-jre policykit-1 policykit-1-gnome python3-xkit\n",
            "  screen-resolution-extra systemd systemd-sysv udev x11-xkb-utils\n",
            "  xserver-common xserver-xorg-core-hwe-18.04 xserver-xorg-video-nvidia-510\n",
            "Use 'apt autoremove' to remove them.\n",
            "0 upgraded, 0 newly installed, 0 to remove and 55 not upgraded.\n"
          ]
        }
      ]
    },
    {
      "cell_type": "code",
      "execution_count": null,
      "metadata": {
        "colab": {
          "base_uri": "https://localhost:8080/"
        },
        "id": "c7bE4DkKF2Cq",
        "outputId": "f58c4d1a-e29c-43a5-c565-e757ed08d098"
      },
      "outputs": [
        {
          "output_type": "stream",
          "name": "stdout",
          "text": [
            "Looking in links: https://download.pytorch.org/whl/torch_stable.html\n",
            "Requirement already satisfied: torch==1.7.1+cu101 in /usr/local/lib/python3.7/dist-packages (1.7.1+cu101)\n",
            "Requirement already satisfied: torchvision==0.8.2+cu101 in /usr/local/lib/python3.7/dist-packages (0.8.2+cu101)\n",
            "Requirement already satisfied: torchaudio==0.7.2 in /usr/local/lib/python3.7/dist-packages (0.7.2)\n",
            "Requirement already satisfied: typing-extensions in /usr/local/lib/python3.7/dist-packages (from torch==1.7.1+cu101) (3.10.0.2)\n",
            "Requirement already satisfied: numpy in /usr/local/lib/python3.7/dist-packages (from torch==1.7.1+cu101) (1.17.5)\n",
            "Requirement already satisfied: pillow>=4.1.1 in /usr/local/lib/python3.7/dist-packages (from torchvision==0.8.2+cu101) (7.1.2)\n",
            "Requirement already satisfied: numpy==1.17.5 in /usr/local/lib/python3.7/dist-packages (1.17.5)\n",
            "Requirement already satisfied: matplotlib==3.1.3 in /usr/local/lib/python3.7/dist-packages (3.1.3)\n",
            "Requirement already satisfied: tqdm==4.54.0 in /usr/local/lib/python3.7/dist-packages (4.54.0)\n",
            "Requirement already satisfied: pyparsing!=2.0.4,!=2.1.2,!=2.1.6,>=2.0.1 in /usr/local/lib/python3.7/dist-packages (from matplotlib==3.1.3) (3.0.7)\n",
            "Requirement already satisfied: kiwisolver>=1.0.1 in /usr/local/lib/python3.7/dist-packages (from matplotlib==3.1.3) (1.3.2)\n",
            "Requirement already satisfied: python-dateutil>=2.1 in /usr/local/lib/python3.7/dist-packages (from matplotlib==3.1.3) (2.8.2)\n",
            "Requirement already satisfied: cycler>=0.10 in /usr/local/lib/python3.7/dist-packages (from matplotlib==3.1.3) (0.11.0)\n",
            "Requirement already satisfied: six>=1.5 in /usr/local/lib/python3.7/dist-packages (from python-dateutil>=2.1->matplotlib==3.1.3) (1.15.0)\n"
          ]
        }
      ],
      "source": [
        "! pip install \\\n",
        "    torch==1.7.1+cu101 \\\n",
        "    torchvision==0.8.2+cu101 \\\n",
        "    torchaudio==0.7.2 \\\n",
        "    -f https://download.pytorch.org/whl/torch_stable.html\n",
        "\n",
        "! pip install numpy==1.17.5 matplotlib==3.1.3 tqdm==4.54.0"
      ]
    },
    {
      "cell_type": "markdown",
      "metadata": {
        "id": "JrMpf9WOF2Cr"
      },
      "source": [
        "### Obtaining AudioMNIST dataset \n",
        "<!-- 0️⃣1️⃣2️⃣3️⃣4️⃣5️⃣6️⃣7️⃣8️⃣9️⃣ -->\n",
        "\n",
        "To get the dataset, clone the repository (`~1Gb`) running the code below:"
      ]
    },
    {
      "cell_type": "code",
      "execution_count": null,
      "metadata": {
        "colab": {
          "base_uri": "https://localhost:8080/"
        },
        "id": "3iF_AH-1F2Cr",
        "outputId": "42b1be04-f1df-4337-ddda-96a88b08fc8a"
      },
      "outputs": [
        {
          "output_type": "stream",
          "name": "stdout",
          "text": [
            "fatal: destination path 'AudioMNIST' already exists and is not an empty directory.\n"
          ]
        }
      ],
      "source": [
        "! git clone https://github.com/soerenab/AudioMNIST"
      ]
    },
    {
      "cell_type": "code",
      "execution_count": null,
      "metadata": {
        "id": "OTva5A0sF2Cs"
      },
      "outputs": [],
      "source": [
        "import torch\n",
        "import torchaudio\n",
        "import torch.nn as nn\n",
        "import torch.nn.functional as F\n",
        "import torch.utils.data as data\n",
        "import numpy as np\n",
        "import shutil\n",
        "\n",
        "from typing import List, Tuple\n",
        "from glob import glob\n",
        "\n",
        "import os\n",
        "from tqdm.notebook import tqdm\n",
        "import matplotlib\n",
        "import matplotlib.pyplot as plt\n",
        "import matplotlib.patches as patches\n",
        "from IPython.display import display, Audio\n",
        "%matplotlib inline\n",
        "\n",
        "DIGIT_NAMES = [\"zero\", \"one\", \"two\", \"three\", \"four\", \"five\", \"six\", \"seven\", \"eight\", \"nine\"]"
      ]
    },
    {
      "cell_type": "markdown",
      "metadata": {
        "id": "AiAZBd_LF2Ct"
      },
      "source": [
        "Select GPU\n",
        "\n",
        "If you run this Jupyter Notebook on a computer with a video card (**GPU**), you need to specify which card you want to work with, and you also need to make sure that `torch` sees it. \n",
        "\n",
        "If you *really* want, you can do your homework without using a video card, but then the training will take a very long time.\n",
        "\n",
        "**Tip**: if the video card is an exhausted resource (i.e. you have a usage quota, or you pay for usage), then it is better to **debug** training without the GPU: to make sure that the model does not crash with an error, and the loss decreases in the first iterations."
      ]
    },
    {
      "cell_type": "code",
      "execution_count": null,
      "metadata": {
        "colab": {
          "base_uri": "https://localhost:8080/"
        },
        "id": "GKq4AWz6F2Cu",
        "outputId": "b8846cc5-7580-48a7-cd12-fc4e14d97988"
      },
      "outputs": [
        {
          "output_type": "stream",
          "name": "stdout",
          "text": [
            "Only CPU found! 💻\n"
          ]
        }
      ],
      "source": [
        "import os\n",
        "os.environ[\"CUDA_DEVICE_ORDER\"] = \"PCI_BUS_ID\"\n",
        "# os.environ[\"CUDA_VISIBLE_DEVICES\"] = \"3\"# \n",
        "\n",
        "if torch.cuda.is_available():\n",
        "    print('GPU found! 🎉')\n",
        "    device = 'cuda'\n",
        "else:\n",
        "    print('Only CPU found! 💻')\n",
        "    device = 'cpu'"
      ]
    },
    {
      "cell_type": "markdown",
      "source": [
        "# Audio Partitioning via Voice Activity Detection (4 point) \n",
        "\n",
        "Here you will create a custom test set for this homework by recording and partitioning your own voice using Voice Activity Detection (VAD).\n",
        "\n",
        "### Grading criteria - for **ASSESSORS**\n",
        "\n",
        "```\n",
        "[ ] (1 point)  Energy is correctly highlighted\n",
        "[ ] (3 point)  Digits are clearly separated\n",
        "```"
      ],
      "metadata": {
        "id": "p9lgAdKKAX8k"
      }
    },
    {
      "cell_type": "markdown",
      "metadata": {
        "id": "M8TxDKfFF2Cu"
      },
      "source": [
        "### Prepare the set for testing\n",
        "\n",
        "The data for training and validation of your digit classification model will be taken from the `AudioMNIST` dataset. But as you know, there is a risk of overfitting not only on training set, but also on validation set. Therefore, for the purity of the experiment, we will evaluate your model on real data - your own voice!\n",
        "\n",
        "You can record your own (or someone else's) voice speaking out the numbers, so you will have a real mini-dataset for testing. You will need this data  - You will test your model on your **own** testing set. 👀\n",
        "\n",
        "To record your voice, you can use web-sites like [this](https://voice-recorder-online.com) or you can do this via the command line (you need the `sox` utility):\n",
        "\n",
        "```\n",
        "rec recording.wav trim 0 10   # record a 10-second audio fragment\n",
        "of play recording.wav         # listen to it\n",
        "```\n",
        "\n",
        "For best results, say all the digit clearly at least ten times. Eg `[0, 1, 2, ... , 9, 0, 1, ... 9, 0, ... , 9]`"
      ]
    },
    {
      "cell_type": "markdown",
      "source": [
        "### Preprocessing\n",
        "\n",
        "The recording may differ not only in format (be `mp3`, `ogg`), but in sampling rate (`22050Hz`, `44100Hz`), being a stereo recording, and so on. \n",
        "\n",
        "To bring the record to the unified format we need:"
      ],
      "metadata": {
        "id": "FRgVld2Y4YEV"
      }
    },
    {
      "cell_type": "code",
      "execution_count": null,
      "metadata": {
        "colab": {
          "base_uri": "https://localhost:8080/",
          "height": 409
        },
        "id": "1JXc8yQBF2Cv",
        "outputId": "22817bc9-170b-4c75-c85b-26228d283555"
      },
      "outputs": [
        {
          "output_type": "stream",
          "name": "stdout",
          "text": [
            "sox FAIL formats: can't open input file `recording.wav': No such file or directory\n"
          ]
        },
        {
          "output_type": "error",
          "ename": "OSError",
          "evalue": "ignored",
          "traceback": [
            "\u001b[0;31m---------------------------------------------------------------------------\u001b[0m",
            "\u001b[0;31mOSError\u001b[0m                                   Traceback (most recent call last)",
            "\u001b[0;32m<ipython-input-13-e0335e3b51f0>\u001b[0m in \u001b[0;36m<module>\u001b[0;34m()\u001b[0m\n\u001b[1;32m      2\u001b[0m \u001b[0mget_ipython\u001b[0m\u001b[0;34m(\u001b[0m\u001b[0;34m)\u001b[0m\u001b[0;34m.\u001b[0m\u001b[0msystem\u001b[0m\u001b[0;34m(\u001b[0m\u001b[0;34m' sox recording.wav -r 16000 -b 16 -c 1 recording_16kHz.wav'\u001b[0m\u001b[0;34m)\u001b[0m\u001b[0;34m\u001b[0m\u001b[0;34m\u001b[0m\u001b[0m\n\u001b[1;32m      3\u001b[0m \u001b[0;34m\u001b[0m\u001b[0m\n\u001b[0;32m----> 4\u001b[0;31m \u001b[0mx\u001b[0m\u001b[0;34m,\u001b[0m \u001b[0msr\u001b[0m \u001b[0;34m=\u001b[0m \u001b[0mtorchaudio\u001b[0m\u001b[0;34m.\u001b[0m\u001b[0mload\u001b[0m\u001b[0;34m(\u001b[0m\u001b[0;34m'recording_16kHz.wav'\u001b[0m\u001b[0;34m)\u001b[0m\u001b[0;34m\u001b[0m\u001b[0;34m\u001b[0m\u001b[0m\n\u001b[0m\u001b[1;32m      5\u001b[0m \u001b[0mx\u001b[0m \u001b[0;34m=\u001b[0m \u001b[0mx\u001b[0m\u001b[0;34m[\u001b[0m\u001b[0;36m0\u001b[0m\u001b[0;34m]\u001b[0m\u001b[0;34m.\u001b[0m\u001b[0mnumpy\u001b[0m\u001b[0;34m(\u001b[0m\u001b[0;34m)\u001b[0m\u001b[0;34m\u001b[0m\u001b[0;34m\u001b[0m\u001b[0m\n\u001b[1;32m      6\u001b[0m \u001b[0;34m\u001b[0m\u001b[0m\n",
            "\u001b[0;32m/usr/local/lib/python3.7/dist-packages/torchaudio/backend/sox_backend.py\u001b[0m in \u001b[0;36mload\u001b[0;34m(filepath, out, normalization, channels_first, num_frames, offset, signalinfo, encodinginfo, filetype)\u001b[0m\n\u001b[1;32m     33\u001b[0m     \u001b[0;31m# check if valid file\u001b[0m\u001b[0;34m\u001b[0m\u001b[0;34m\u001b[0m\u001b[0;34m\u001b[0m\u001b[0m\n\u001b[1;32m     34\u001b[0m     \u001b[0;32mif\u001b[0m \u001b[0;32mnot\u001b[0m \u001b[0mos\u001b[0m\u001b[0;34m.\u001b[0m\u001b[0mpath\u001b[0m\u001b[0;34m.\u001b[0m\u001b[0misfile\u001b[0m\u001b[0;34m(\u001b[0m\u001b[0mfilepath\u001b[0m\u001b[0;34m)\u001b[0m\u001b[0;34m:\u001b[0m\u001b[0;34m\u001b[0m\u001b[0;34m\u001b[0m\u001b[0m\n\u001b[0;32m---> 35\u001b[0;31m         \u001b[0;32mraise\u001b[0m \u001b[0mOSError\u001b[0m\u001b[0;34m(\u001b[0m\u001b[0;34m\"{} not found or is a directory\"\u001b[0m\u001b[0;34m.\u001b[0m\u001b[0mformat\u001b[0m\u001b[0;34m(\u001b[0m\u001b[0mfilepath\u001b[0m\u001b[0;34m)\u001b[0m\u001b[0;34m)\u001b[0m\u001b[0;34m\u001b[0m\u001b[0;34m\u001b[0m\u001b[0m\n\u001b[0m\u001b[1;32m     36\u001b[0m \u001b[0;34m\u001b[0m\u001b[0m\n\u001b[1;32m     37\u001b[0m     \u001b[0;31m# initialize output tensor\u001b[0m\u001b[0;34m\u001b[0m\u001b[0;34m\u001b[0m\u001b[0;34m\u001b[0m\u001b[0m\n",
            "\u001b[0;31mOSError\u001b[0m: recording_16kHz.wav not found or is a directory"
          ]
        }
      ],
      "source": [
        "# -> 16kHz, 16bit, mono\n",
        "! sox recording.wav -r 16000 -b 16 -c 1 recording_16kHz.wav\n",
        "\n",
        "x, sr = torchaudio.load('recording_16kHz.wav')\n",
        "x = x[0].numpy()\n",
        "\n",
        "print(\", \".join(DIGIT_NAMES))\n",
        "display(Audio(x, rate=sr))"
      ]
    },
    {
      "cell_type": "markdown",
      "metadata": {
        "id": "m1WCgosvF2Cv"
      },
      "source": [
        "### Voice Activity Detection (1 point)\n",
        "\n",
        "You need to break this record into fragments, each of which would contain audio with the pronunciation of **only one** digit. Let's use the energy ⚡️ VAD to do this!\n",
        "\n",
        "**Calculate** the energy of the signal across a series of __windows__ (choose the window size $T$ however you like) and look at its plot.\n",
        "\n",
        "The energy of a discrete audio sequence $x_{1:T}$ of length $T$ is defined as:\n",
        "\n",
        "$$\n",
        "\\mathrm{E} = \\sum_{t=1}^T |x_t|^2\n",
        "$$\n",
        "\n",
        "You may find it useful to visualize signal energy in decibels."
      ]
    },
    {
      "cell_type": "code",
      "source": [
        "def plot_signal_energies(x, sr, energies_db, intervals=None):\n",
        "    fig = plt.figure(figsize=(len(x) / sr, 2.5))\n",
        "    plt.plot(x, color='#20639b', label='audio signal')\n",
        "    plt.xticks(np.arange(0, len(x), sr), np.int32(np.arange(0, len(x), sr) / sr))\n",
        "    plt.grid(alpha=0.5, linestyle='--')\n",
        "    plt.xlabel('time [s]')\n",
        "    plt.ylabel('amplitude')\n",
        "    plt.ylim([-0.51, 0.51])\n",
        "    plt.xlim(-50, len(x) + 50)\n",
        "    if intervals:\n",
        "        for a, b in intervals:            \n",
        "            plt.gca().add_patch(patches.Rectangle(\n",
        "                (a, -0.51), (b - a), 1.2, \n",
        "                linewidth=1, edgecolor='none', \n",
        "                facecolor='#3caea3', alpha=0.3))\n",
        "\n",
        "    plt.twinx()\n",
        "    plt.plot(\n",
        "        np.linspace(0, len(x), len(energies_db)), energies_db, \n",
        "        color='#3caea3', label='energy (window size = 512)')\n",
        "    plt.ylabel('Energy [dB]')\n",
        "    plt.legend(loc='best')\n",
        "    plt.show()"
      ],
      "metadata": {
        "id": "PaeTN1b85Klc"
      },
      "execution_count": null,
      "outputs": []
    },
    {
      "cell_type": "code",
      "execution_count": null,
      "metadata": {
        "colab": {
          "base_uri": "https://localhost:8080/",
          "height": 391
        },
        "id": "5Kz4SDKTF2Cv",
        "outputId": "8f1c23fd-b06d-4fa1-f35f-931b8c91b14c"
      },
      "outputs": [
        {
          "output_type": "error",
          "ename": "OSError",
          "evalue": "ignored",
          "traceback": [
            "\u001b[0;31m---------------------------------------------------------------------------\u001b[0m",
            "\u001b[0;31mOSError\u001b[0m                                   Traceback (most recent call last)",
            "\u001b[0;32m<ipython-input-54-dd3d1bc4a247>\u001b[0m in \u001b[0;36m<module>\u001b[0;34m()\u001b[0m\n\u001b[1;32m      2\u001b[0m \u001b[0mwin_size\u001b[0m \u001b[0;34m=\u001b[0m \u001b[0;36m1024\u001b[0m\u001b[0;34m\u001b[0m\u001b[0;34m\u001b[0m\u001b[0m\n\u001b[1;32m      3\u001b[0m \u001b[0;34m\u001b[0m\u001b[0m\n\u001b[0;32m----> 4\u001b[0;31m \u001b[0mx\u001b[0m\u001b[0;34m,\u001b[0m \u001b[0msr\u001b[0m \u001b[0;34m=\u001b[0m \u001b[0mtorchaudio\u001b[0m\u001b[0;34m.\u001b[0m\u001b[0mload\u001b[0m\u001b[0;34m(\u001b[0m\u001b[0;34m'recording_16kHz.wav'\u001b[0m\u001b[0;34m)\u001b[0m\u001b[0;34m\u001b[0m\u001b[0;34m\u001b[0m\u001b[0m\n\u001b[0m\u001b[1;32m      5\u001b[0m \u001b[0mx\u001b[0m \u001b[0;34m=\u001b[0m \u001b[0mx\u001b[0m\u001b[0;34m[\u001b[0m\u001b[0;36m0\u001b[0m\u001b[0;34m]\u001b[0m\u001b[0;34m.\u001b[0m\u001b[0mnumpy\u001b[0m\u001b[0;34m(\u001b[0m\u001b[0;34m)\u001b[0m\u001b[0;34m\u001b[0m\u001b[0;34m\u001b[0m\u001b[0m\n\u001b[1;32m      6\u001b[0m \u001b[0;34m\u001b[0m\u001b[0m\n",
            "\u001b[0;32m/usr/local/lib/python3.7/dist-packages/torchaudio/backend/sox_backend.py\u001b[0m in \u001b[0;36mload\u001b[0;34m(filepath, out, normalization, channels_first, num_frames, offset, signalinfo, encodinginfo, filetype)\u001b[0m\n\u001b[1;32m     33\u001b[0m     \u001b[0;31m# check if valid file\u001b[0m\u001b[0;34m\u001b[0m\u001b[0;34m\u001b[0m\u001b[0;34m\u001b[0m\u001b[0m\n\u001b[1;32m     34\u001b[0m     \u001b[0;32mif\u001b[0m \u001b[0;32mnot\u001b[0m \u001b[0mos\u001b[0m\u001b[0;34m.\u001b[0m\u001b[0mpath\u001b[0m\u001b[0;34m.\u001b[0m\u001b[0misfile\u001b[0m\u001b[0;34m(\u001b[0m\u001b[0mfilepath\u001b[0m\u001b[0;34m)\u001b[0m\u001b[0;34m:\u001b[0m\u001b[0;34m\u001b[0m\u001b[0;34m\u001b[0m\u001b[0m\n\u001b[0;32m---> 35\u001b[0;31m         \u001b[0;32mraise\u001b[0m \u001b[0mOSError\u001b[0m\u001b[0;34m(\u001b[0m\u001b[0;34m\"{} not found or is a directory\"\u001b[0m\u001b[0;34m.\u001b[0m\u001b[0mformat\u001b[0m\u001b[0;34m(\u001b[0m\u001b[0mfilepath\u001b[0m\u001b[0;34m)\u001b[0m\u001b[0;34m)\u001b[0m\u001b[0;34m\u001b[0m\u001b[0;34m\u001b[0m\u001b[0m\n\u001b[0m\u001b[1;32m     36\u001b[0m \u001b[0;34m\u001b[0m\u001b[0m\n\u001b[1;32m     37\u001b[0m     \u001b[0;31m# initialize output tensor\u001b[0m\u001b[0;34m\u001b[0m\u001b[0;34m\u001b[0m\u001b[0;34m\u001b[0m\u001b[0m\n",
            "\u001b[0;31mOSError\u001b[0m: recording_16kHz.wav not found or is a directory"
          ]
        }
      ],
      "source": [
        "# You can choose the optimal window size empirically\n",
        "win_size = 1024\n",
        "\n",
        "x, sr = torchaudio.load('recording_16kHz.wav')\n",
        "x = x[0].numpy()\n",
        "\n",
        "energies_db = []\n",
        "for i in range(len(x) // win_size + 1):\n",
        "    x_win = x[i * win_size: (i + 1) * win_size]\n",
        "\n",
        "    # calculate energy of signal fragment\n",
        "    ################################################################################\n",
        "    <YOUR CODE>\n",
        "    ################################################################################\n",
        "\n",
        "energies_db = np.array(energies_db)\n",
        "\n",
        "plot_signal_energies(x, sr, energies_db)"
      ]
    },
    {
      "cell_type": "markdown",
      "metadata": {
        "id": "q10UfkplF2Cw"
      },
      "source": [
        "### Partitioning the Audio (3 point)\n",
        "\n",
        "Now that you can see when you need a digit and when you don't, I hope you will have no trouble coming up with **a heuristic** for finding the boundaries of spoken words. You will then use this heuristic to parition your audio sequences into individual digits."
      ]
    },
    {
      "cell_type": "code",
      "execution_count": null,
      "metadata": {
        "colab": {
          "base_uri": "https://localhost:8080/",
          "height": 244
        },
        "id": "LMfk0kEuF2Cw",
        "outputId": "bccd357a-ff57-4574-e155-9bf55d25804b"
      },
      "outputs": [
        {
          "output_type": "error",
          "ename": "NameError",
          "evalue": "ignored",
          "traceback": [
            "\u001b[0;31m---------------------------------------------------------------------------\u001b[0m",
            "\u001b[0;31mNameError\u001b[0m                                 Traceback (most recent call last)",
            "\u001b[0;32m<ipython-input-55-785756d6aed9>\u001b[0m in \u001b[0;36m<module>\u001b[0;34m()\u001b[0m\n\u001b[1;32m      6\u001b[0m \u001b[0mthreshold\u001b[0m \u001b[0;34m=\u001b[0m \u001b[0;34m-\u001b[0m\u001b[0;36m43\u001b[0m\u001b[0;34m\u001b[0m\u001b[0;34m\u001b[0m\u001b[0m\n\u001b[1;32m      7\u001b[0m \u001b[0msilence_intervals\u001b[0m \u001b[0;34m=\u001b[0m \u001b[0;34m[\u001b[0m\u001b[0;34m[\u001b[0m\u001b[0;36m0\u001b[0m\u001b[0;34m,\u001b[0m \u001b[0;34m-\u001b[0m\u001b[0;36m1\u001b[0m\u001b[0;34m]\u001b[0m\u001b[0;34m]\u001b[0m\u001b[0;34m\u001b[0m\u001b[0;34m\u001b[0m\u001b[0m\n\u001b[0;32m----> 8\u001b[0;31m \u001b[0;32mfor\u001b[0m \u001b[0mi\u001b[0m \u001b[0;32min\u001b[0m \u001b[0mnp\u001b[0m\u001b[0;34m.\u001b[0m\u001b[0mwhere\u001b[0m\u001b[0;34m(\u001b[0m\u001b[0menergies_db\u001b[0m \u001b[0;34m<\u001b[0m \u001b[0mthreshold\u001b[0m\u001b[0;34m)\u001b[0m\u001b[0;34m[\u001b[0m\u001b[0;36m0\u001b[0m\u001b[0;34m]\u001b[0m\u001b[0;34m:\u001b[0m\u001b[0;34m\u001b[0m\u001b[0;34m\u001b[0m\u001b[0m\n\u001b[0m\u001b[1;32m      9\u001b[0m     \u001b[0;32mif\u001b[0m \u001b[0msilence_intervals\u001b[0m\u001b[0;34m[\u001b[0m\u001b[0;34m-\u001b[0m\u001b[0;36m1\u001b[0m\u001b[0;34m]\u001b[0m\u001b[0;34m[\u001b[0m\u001b[0;36m1\u001b[0m\u001b[0;34m]\u001b[0m \u001b[0;34m+\u001b[0m \u001b[0;36m1\u001b[0m \u001b[0;34m==\u001b[0m \u001b[0mi\u001b[0m\u001b[0;34m:\u001b[0m\u001b[0;34m\u001b[0m\u001b[0;34m\u001b[0m\u001b[0m\n\u001b[1;32m     10\u001b[0m         \u001b[0msilence_intervals\u001b[0m\u001b[0;34m[\u001b[0m\u001b[0;34m-\u001b[0m\u001b[0;36m1\u001b[0m\u001b[0;34m]\u001b[0m\u001b[0;34m[\u001b[0m\u001b[0;36m1\u001b[0m\u001b[0;34m]\u001b[0m \u001b[0;34m+=\u001b[0m \u001b[0;36m1\u001b[0m\u001b[0;34m\u001b[0m\u001b[0;34m\u001b[0m\u001b[0m\n",
            "\u001b[0;31mNameError\u001b[0m: name 'energies_db' is not defined"
          ]
        }
      ],
      "source": [
        "# list of digit intervals [(a_0, b_0), ...]\n",
        "# where a_i -- first audio sample of spoken word, b_i -- last sample\n",
        "intervals = []\n",
        "\n",
        "################################################################################\n",
        "<YOUR CODE>\n",
        "################################################################################\n",
        "\n",
        "# Visualize where your boundaries are\n",
        "plot_signal_energies(x, sr, energies_db, intervals)"
      ]
    },
    {
      "cell_type": "markdown",
      "metadata": {
        "id": "9P3ScN8MF2Cx"
      },
      "source": [
        "We will split the original record into fragments and save them to the directory with the dataset."
      ]
    },
    {
      "cell_type": "code",
      "execution_count": null,
      "metadata": {
        "id": "mogGEEYHF2Cx"
      },
      "outputs": [],
      "source": [
        "test_directory = 'AudioMNIST/data/test'\n",
        "if not os.path.exists(test_directory):\n",
        "    os.mkdir(test_directory)\n",
        "\n",
        "n = 0\n",
        "for a, b in intervals:\n",
        "    x_digit = x[a: b]\n",
        "    path = f'{test_directory}/{n % 10}_test_{n // 10}.wav'\n",
        "    print(f'\"{DIGIT_NAMES[n % 10]}\" -> {path}')\n",
        "    n += 1\n",
        "    \n",
        "    torchaudio.save(path, torch.FloatTensor(x_digit), sr)\n",
        "    display(Audio(path))"
      ]
    },
    {
      "cell_type": "markdown",
      "source": [
        "# Data Processing Pipeline (5 point)\n",
        "\n",
        "In this part you will implement the dataloading, preprocessing and batching utilities necessary to train and test your model.\n",
        "\n",
        "\n",
        "### Grading criteria - for **ASSESSORS**\n",
        "\n",
        "```\n",
        "[ ] (2 points) - Data preprocessing - do the features look sensible?\n",
        "[ ] (3 points) - Batching\n",
        "```"
      ],
      "metadata": {
        "id": "0eJ_4pI19cju"
      }
    },
    {
      "cell_type": "markdown",
      "metadata": {
        "id": "XYT5tVE3F2Cy"
      },
      "source": [
        "### Dataloader\n",
        "\n",
        "The class below (a subclass of `torch.utils.data.Dataset`) holds the logic of loading `AudioMNIST` dataset. All the file handling routines are already written"
      ]
    },
    {
      "cell_type": "code",
      "execution_count": null,
      "metadata": {
        "id": "KqI8V4llF2Cy",
        "colab": {
          "base_uri": "https://localhost:8080/"
        },
        "outputId": "ff9ae745-e5a9-43da-c8d4-af8893949d49"
      },
      "outputs": [
        {
          "output_type": "stream",
          "name": "stdout",
          "text": [
            "Dataset [train]: 25000 audios\n",
            "Dataset [valid]: 5000 audios\n",
            "Dataset [test]: 0 audios\n"
          ]
        }
      ],
      "source": [
        "class AudioMNISTDataset(data.Dataset):\n",
        "    def __init__(self, directory: str, mode='train'):\n",
        "        self.mode = mode\n",
        "        assert mode == 'train' or mode == 'valid' or mode == 'test'\n",
        "        self.filepaths = []\n",
        "        self.labels = []\n",
        "        for filepath in sorted(glob(os.path.join(directory, '*', '?_*_*.wav'))):\n",
        "            digit, speaker, example_id = os.path.basename(filepath).replace('.wav', '').split('_')\n",
        "            add = False\n",
        "            if speaker == 'test' and mode == 'test':\n",
        "                add = True\n",
        "            if speaker != 'test' and int(speaker) % 6 == 0 and mode == 'valid':\n",
        "                add = True\n",
        "            if speaker != 'test' and int(speaker) % 6 != 0 and mode == 'train':\n",
        "                add = True\n",
        "            if add:\n",
        "                self.filepaths.append(filepath)\n",
        "                self.labels.append(int(digit))\n",
        "                \n",
        "        print(f\"Dataset [{mode}]: {len(self.filepaths)} audios\")\n",
        "    \n",
        "    def __getitem__(self, idx) -> Tuple[torch.FloatTensor, torch.LongTensor]:\n",
        "        x, sr = torchaudio.load(self.filepaths[idx])\n",
        "        y = torch.LongTensor([self.labels[idx]])[0]\n",
        "        \n",
        "        # Conversion to correct sample rate...\n",
        "        effects = [\n",
        "            ['gain', '-n', '0'],        # apply 10 db attenuation\n",
        "            ['remix', '-'],             # merge all the channels\n",
        "            ['rate', '16000']\n",
        "        ]\n",
        "        x, sr = torchaudio.sox_effects.apply_effects_tensor(x, sr, effects)\n",
        "        \n",
        "        # x: audio features\n",
        "        # y: target digit class\n",
        "        return x[0], y\n",
        "    \n",
        "    def __len__(self):\n",
        "        return len(self.filepaths)\n",
        "\n",
        "train_dataset = AudioMNISTDataset('AudioMNIST/data', mode='train')\n",
        "valid_dataset = AudioMNISTDataset('AudioMNIST/data', mode='valid')\n",
        "test_dataset = AudioMNISTDataset('AudioMNIST/data', mode='test')"
      ]
    },
    {
      "cell_type": "markdown",
      "source": [
        "#### Choosing a Representation  (2 point)\n",
        "\n",
        "You could use the waveform itself as an audio representation (features), **but** as you know from the lecture (*DSP Basics*), this is not the best representation for many tasks. You may find it useful to look up the following transforms:\n",
        "\n",
        "`torchaudio.transforms.Spectrogram`\n",
        "\n",
        "`torchaudio.transforms.MelSpectrogram`\n",
        "\n",
        "`torchaudio.transforms.AmplitudeToDB`\n",
        "\n",
        "`torchaudio.transforms.MFCC`\n",
        "\n",
        "You will be able to return to this stage many times while doing you homework, so iterate from simple representations to sophisticated ones."
      ],
      "metadata": {
        "id": "HgJWcRO0aAJB"
      }
    },
    {
      "cell_type": "code",
      "source": [
        "#!L\n",
        "# For train you can use SpecAugment data aug here.\n",
        "train_audio_transforms = nn.Sequential(\n",
        "    ################################################################################\n",
        "\n",
        "    #Add features transformations here\n",
        "    <YOUR CODE>\n",
        "    # Can add data augmentation here!\n",
        "    <YOUR CODE>\n",
        "    ################################################################################\n",
        ")\n",
        "\n",
        "test_audio_transforms = nn.Sequential(\n",
        "    ################################################################################\n",
        "    #Add feature transformations here\n",
        "    <YOUR CODE>\n",
        "    ################################################################################\n",
        ")"
      ],
      "metadata": {
        "id": "8pD7LDebq2GF"
      },
      "execution_count": null,
      "outputs": []
    },
    {
      "cell_type": "markdown",
      "metadata": {
        "id": "g20RH0YgF2Cz"
      },
      "source": [
        "It's interesting to see what we got...\n",
        "\n",
        "You may see some interesting points in your audio representation, and **may want to try a different representation**. 🕵️‍ Or return to this later."
      ]
    },
    {
      "cell_type": "code",
      "execution_count": null,
      "metadata": {
        "scrolled": false,
        "colab": {
          "base_uri": "https://localhost:8080/",
          "height": 421
        },
        "id": "JXalLM-WF2Cz",
        "outputId": "092f2954-2599-45d9-a813-2ec93407b7a6"
      },
      "outputs": [
        {
          "output_type": "stream",
          "name": "stdout",
          "text": [
            "visualize dataset for training\n"
          ]
        },
        {
          "output_type": "display_data",
          "data": {
            "image/png": "[encoded data removed]",
            "text/plain": [
              "<Figure size 720x432 with 20 Axes>"
            ]
          },
          "metadata": {
            "needs_background": "light"
          }
        },
        {
          "output_type": "stream",
          "name": "stdout",
          "text": [
            "visualize dataset for validation\n"
          ]
        },
        {
          "output_type": "display_data",
          "data": {
            "image/png": "[encoded data removed]",
            "text/plain": [
              "<Figure size 720x432 with 10 Axes>"
            ]
          },
          "metadata": {
            "needs_background": "light"
          }
        }
      ],
      "source": [
        "def show_some_examples(dataset, K, figsize=(10, 6)):\n",
        "    fig = plt.figure(figsize=figsize)\n",
        "    for digit in range(10):\n",
        "        indices = np.where(np.array(dataset.labels) == digit)[0]\n",
        "        for i in range(K):\n",
        "            x, y = dataset[indices[i]]\n",
        "            x = test_audio_transforms(x)\n",
        "            ax = fig.add_subplot(3, 10, digit + i * 10 + 1)\n",
        "            #rotate\n",
        "            if i == 0:\n",
        "                ax.set_title(DIGIT_NAMES[digit])\n",
        "            ax.imshow(x)\n",
        "            ax.axis('off')\n",
        "    plt.show()\n",
        "\n",
        "print(\"visualize dataset for training\")\n",
        "show_some_examples(train_dataset, 2)\n",
        "\n",
        "print(\"visualize dataset for validation\")\n",
        "show_some_examples(valid_dataset, 1)\n",
        "\n",
        "# print(\"visualize dataset for testing\")\n",
        "# show_some_examples(test_dataset, 1)"
      ]
    },
    {
      "cell_type": "markdown",
      "metadata": {
        "id": "cAAiBYaXF2Cz"
      },
      "source": [
        "Can you determine **which number is pronounced** looking at it? If so, then the computer can!\n",
        "\n",
        "Notice that the audio has different durations because words have different numbers of phonemes and people speak at different speed. Thus, our feature tensors do not have a fixed size either!\n",
        "\n",
        "```\n",
        "- Can we bring them to the same size?\n",
        "- Yes, we can. And it will even work (see the dataset article).\n",
        "- So why don't we do that?\n",
        "- This approach has a limited scope. And here's why:\n",
        "```\n",
        "\n",
        "* First, in real ASR systems, we do not classify words, but *sounds* (graphemes, phonemes) – they are more difficult to localize and difficult to classify independently. Although, for example, for the task of classifying the sounds of birdsong, this approach would be normal.\n",
        "* Secondly, convolutional neural networks (actually for which we would like images of the same size) poorly orient in space, since they react to patterns, and may not pay attention to their spatial location. In our problem, the words are quite unique, so they are uniquely identified by a set of sounds (phonemes), so this approach would work. But we're taking a course in **speech recognition and synthesis, not sound classification**. 🙂"
      ]
    },
    {
      "cell_type": "markdown",
      "metadata": {
        "id": "LLHDmulDF2C0"
      },
      "source": [
        "### Batch generation class (3 points)\n",
        "All DL frameworks work with tensors (not lists of tensors). You need to somehow concatenate the individual audio samples into a batch, so that they are processed efficiently. The difficulty is that audio samples have varying length. We suggest you try zero padding, but don't forget to store original length.\n"
      ]
    },
    {
      "cell_type": "code",
      "execution_count": null,
      "metadata": {
        "id": "vOr7mEf4F2C0"
      },
      "outputs": [],
      "source": [
        "class Collate:\n",
        "  def __init__(self, train=False) -> None:\n",
        "        super(Collate, self).__init__() \n",
        "\n",
        "        self.train = train\n",
        "\n",
        "  def __call__(self, batch: List[Tuple[torch.Tensor, torch.Tensor]]) -> Tuple[torch.Tensor, ... ] :\n",
        "        \"\"\"\n",
        "        :param batch: is a list of tuples of [features, label], where features has dimensions [n_features, length]\n",
        "        \"returns features, lengths, labels: \n",
        "              features is a Tensor [batchsize, features, max_length]\n",
        "              lengths is a Tensor of lengths [batchsize]\n",
        "              labels is a Tesnor of targets [batchsize]\n",
        "        \"\"\"\n",
        "\n",
        "        features = []\n",
        "        labels = torch.LongTensor(len(batch)).zero_()\n",
        "        lengths = torch.LongTensor(len(batch)).zero_()\n",
        "        ################################################################################\n",
        "        <YOUR CODE>\n",
        "        ################################################################################\n",
        "\n",
        "        return features, lengths, labels"
      ]
    },
    {
      "cell_type": "code",
      "source": [
        "train_collate_fn = Collate(train=True)\n",
        "test_collate_fn = Collate(train=False)\n",
        "\n",
        "train_loader = data.DataLoader(train_dataset, batch_size=32, shuffle=True, num_workers=4, drop_last=True, collate_fn=train_collate_fn)\n",
        "valid_loader = data.DataLoader(valid_dataset, batch_size=32, shuffle=False,num_workers=4, collate_fn=test_collate_fn)\n",
        "test_loader =  data.DataLoader(valid_dataset, batch_size=len(valid_dataset), shuffle=False,num_workers=1, collate_fn=test_collate_fn)\n",
        "\n",
        "xs, ls, ys = next(iter(train_loader))\n",
        "print(xs.size(), ls.size(), ys.size())\n",
        "print(xs.dtype, ls.dtype, ys.dtype)\n",
        "\n",
        "# Assessment\n",
        "assert len(xs.size()) == 3\n",
        "assert xs.size()[0] == ls.size()[0] and ls.size()[0]  == ys.size()[0] \n",
        "assert xs.dtype == torch.float32\n",
        "assert ys.dtype == torch.int64\n",
        "assert ls.dtype == torch.int64"
      ],
      "metadata": {
        "colab": {
          "base_uri": "https://localhost:8080/"
        },
        "id": "cSjDE2pRzupv",
        "outputId": "18737f41-4716-4e29-9baf-981d87f8ea04"
      },
      "execution_count": null,
      "outputs": [
        {
          "output_type": "stream",
          "name": "stdout",
          "text": [
            "torch.Size([32, 80, 28]) torch.Size([32]) torch.Size([32])\n",
            "torch.float32 torch.int64 torch.int64\n"
          ]
        }
      ]
    },
    {
      "cell_type": "markdown",
      "source": [
        "# Implementing and training your Digit Classifier\n",
        "\n",
        "\n",
        "### Grading criteria - for **ASSESSORS**\n",
        "\n",
        "```\n",
        "[ ] (6 points) Train classification model (> 95% accuracy on validation)\n",
        "      [ ] (1 point)  > 55% Accuracy\n",
        "      [ ] (2 points) > 60% Accuracy\n",
        "      [ ] (3 points) > 65% Accuracy\n",
        "      [ ] (4 point)  > 75% Accuracy\n",
        "      [ ] (5 points) > 85% Accuracy\n",
        "      [ ] (6 points) > 95% Accuracy\n",
        "[ ] (6 points) Achieve good test-score on our side (> 85% accuracy on hidden sample)\n",
        "      [ ] (1 point)  > 55% Accuracy\n",
        "      [ ] (2 points) > 60% Accuracy\n",
        "      [ ] (3 points) > 65% Accuracy\n",
        "      [ ] (4 point)  > 75% Accuracy\n",
        "      [ ] (5 points) > 85% Accuracy\n",
        "      [ ] (6 points) > 95% Accuracy\n",
        "```"
      ],
      "metadata": {
        "id": "8ssL1cmq90GT"
      }
    },
    {
      "cell_type": "markdown",
      "metadata": {
        "id": "ia--78K1F2C1"
      },
      "source": [
        "## The neural network classifier\n",
        "\n",
        "Write a model for classifying audio. It is desirable to use convolutional layers near the input to process your features and some kind of recurrent layer, such as GRU/LSTM/BiLSTM near the end for making the classification. Start with a simple model and make it more complicated if necessary. \n",
        "\n",
        "You can look at some of these papers for inspiration:\n",
        "* https://arxiv.org/pdf/1904.03288.pdf"
      ]
    },
    {
      "cell_type": "code",
      "execution_count": null,
      "metadata": {
        "id": "HdOY6aHNF2C1"
      },
      "outputs": [],
      "source": [
        "class Model(nn.Module):\n",
        "    def __init__(self):\n",
        "        super(Model, self).__init__()\n",
        "        ################################################################################\n",
        "        <YOUR CODE>\n",
        "        ################################################################################\n",
        "\n",
        "    def forward(self, x: torch.Tensor, lengths: torch.Tensor) -> torch.Tensor:\n",
        "        \n",
        "        ################################################################################\n",
        "        <YOUR CODE>\n",
        "        ################################################################################\n",
        "        return x\n",
        "    \n",
        "def create_model_and_optimizer(device):\n",
        "    ################################################################################\n",
        "    model = Model().to(device)\n",
        "    optimizer = <CHOOSE OPTIMIZER>\n",
        "    ################################################################################\n",
        "    return model, optimizer"
      ]
    },
    {
      "cell_type": "markdown",
      "metadata": {
        "id": "N1mnLY17F2C1"
      },
      "source": [
        "## Training, validation, testing 🏋 ️\n",
        "\n",
        "The minimally sufficient code for training and testing is already written. But feel free to modify the code (but try not to break the compatibility).\n",
        "\n",
        "**Tips**:\n",
        "* before you start long-term training, see how your model behaves on the first iterations/epochs\n",
        "* it is desirable that the training epoch takes less one minute; if longer, maybe your model is too complex\n",
        "* models converge quickly, so it hardly makes sense to do training more than 100 epochs"
      ]
    },
    {
      "cell_type": "markdown",
      "source": [
        "### Training and Evaluation Functions"
      ],
      "metadata": {
        "id": "C8ZdM4s2BLbk"
      }
    },
    {
      "cell_type": "code",
      "execution_count": null,
      "metadata": {
        "scrolled": false,
        "id": "ctBLGJzLF2C2"
      },
      "outputs": [],
      "source": [
        "# Training and evaluation function\n",
        "def train(model, optimizer, loader, metrics):\n",
        "    model.train()\n",
        "    \n",
        "    losses = []\n",
        "    for x, lengths, y in loader:\n",
        "        x, y = x.to(device), y.to(device)\n",
        "        lengths = lengths.to(device)\n",
        "        \n",
        "        optimizer.zero_grad()\n",
        "        y_pred = model(x, lengths)\n",
        "        loss = F.cross_entropy(y_pred, y)\n",
        "        loss.backward()\n",
        "        optimizer.step()\n",
        "        \n",
        "        losses.append(loss.item())\n",
        "    \n",
        "    metrics['train_loss'].append(np.mean(losses) )\n",
        "\n",
        "\n",
        "def evaluate(model, loader, metrics, mode):\n",
        "    model.eval()\n",
        "    \n",
        "    losses = []\n",
        "    cm = np.zeros((10, 10), dtype=np.int32)\n",
        "    with torch.no_grad():\n",
        "        valid_losses = []\n",
        "        for x, lengths, y in loader:\n",
        "            x, y = x.to(device), y.to(device)\n",
        "            lengths = lengths.to(device)\n",
        "    \n",
        "            y_pred = model(x, lengths)\n",
        "            loss = F.cross_entropy(y_pred, y)\n",
        "            losses.append(loss.item())\n",
        "\n",
        "            y_pred = y_pred.argmax(axis=-1)\n",
        "            for i in range(len(x)):\n",
        "                cm[y[i].item(), y_pred[i].item()] += 1\n",
        "    \n",
        "    metrics[f'{mode}_loss'].append(np.mean(losses))\n",
        "    metrics[f'{mode}_accuracy'].append(np.trace(cm) / np.sum(cm))\n",
        "    metrics[f'{mode}_confusion'].append(cm)\n",
        "\n",
        "\n",
        "def train_from_scratch(model, optimizer, train_loader, valid_loader, test_loader):\n",
        "    metrics = {\n",
        "        'train_loss': [],\n",
        "        'valid_loss': [],\n",
        "        'valid_accuracy': [],\n",
        "        'valid_confusion': [],\n",
        "        'test_loss': [],\n",
        "        'test_accuracy': [],\n",
        "        'test_confusion': []\n",
        "    }\n",
        "\n",
        "    best_valid_accuracy = 0.0\n",
        "    for epoch in tqdm(range(20)):\n",
        "        train(model, optimizer, train_loader, metrics)\n",
        "                \n",
        "        evaluate(model, valid_loader, metrics, 'valid')\n",
        "        evaluate(model, test_loader, metrics, 'test')\n",
        "        \n",
        "        if metrics['valid_accuracy'][-1] > best_valid_accuracy:\n",
        "            best_valid_accuracy = metrics['valid_accuracy'][-1]\n",
        "            torch.save({\n",
        "                'state_dict': model.state_dict(), \n",
        "                'metrics': metrics\n",
        "            }, checkpoint_path)\n",
        "    \n",
        "    return metrics"
      ]
    },
    {
      "cell_type": "markdown",
      "source": [
        "### Main Training and Evaluation Loop"
      ],
      "metadata": {
        "id": "9YELobWRBP1C"
      }
    },
    {
      "cell_type": "code",
      "source": [
        "# Training Loop\n",
        "torch.manual_seed(0)\n",
        "torch.set_deterministic(True)\n",
        "np.random.seed(0)\n",
        "\n",
        "checkpoint_path = 'model.pth'\n",
        "model, optimizer = create_model_and_optimizer(device)\n",
        "\n",
        "if os.path.exists(checkpoint_path):\n",
        "    print(f'Loading model weights from {checkpoint_path}')\n",
        "    ckpt = torch.load(checkpoint_path, map_location=device)\n",
        "    model.load_state_dict(ckpt['state_dict'])\n",
        "    metrics = ckpt['metrics']\n",
        "    evaluate(model, valid_loader, metrics, 'valid')\n",
        "    evaluate(model, test_loader, metrics, 'test')\n",
        "else:\n",
        "    print('Training model from scratch..')\n",
        "    metrics = train_from_scratch(model, optimizer, train_loader, valid_loader, test_loader)"
      ],
      "metadata": {
        "id": "0WgZ6vJfBDr6",
        "colab": {
          "base_uri": "https://localhost:8080/",
          "height": 617
        },
        "outputId": "518ce71d-a5d4-4076-f42d-aec283c2b20f"
      },
      "execution_count": null,
      "outputs": [
        {
          "output_type": "stream",
          "name": "stdout",
          "text": [
            "Loading model weights from model.pth\n"
          ]
        },
        {
          "output_type": "error",
          "ename": "RuntimeError",
          "evalue": "ignored",
          "traceback": [
            "\u001b[0;31m---------------------------------------------------------------------------\u001b[0m",
            "\u001b[0;31mRuntimeError\u001b[0m                              Traceback (most recent call last)",
            "\u001b[0;32m<ipython-input-104-483115a6a00e>\u001b[0m in \u001b[0;36m<module>\u001b[0;34m()\u001b[0m\n\u001b[1;32m     12\u001b[0m     \u001b[0mmodel\u001b[0m\u001b[0;34m.\u001b[0m\u001b[0mload_state_dict\u001b[0m\u001b[0;34m(\u001b[0m\u001b[0mckpt\u001b[0m\u001b[0;34m[\u001b[0m\u001b[0;34m'state_dict'\u001b[0m\u001b[0;34m]\u001b[0m\u001b[0;34m)\u001b[0m\u001b[0;34m\u001b[0m\u001b[0;34m\u001b[0m\u001b[0m\n\u001b[1;32m     13\u001b[0m     \u001b[0mmetrics\u001b[0m \u001b[0;34m=\u001b[0m \u001b[0mckpt\u001b[0m\u001b[0;34m[\u001b[0m\u001b[0;34m'metrics'\u001b[0m\u001b[0;34m]\u001b[0m\u001b[0;34m\u001b[0m\u001b[0;34m\u001b[0m\u001b[0m\n\u001b[0;32m---> 14\u001b[0;31m     \u001b[0mevaluate\u001b[0m\u001b[0;34m(\u001b[0m\u001b[0mmodel\u001b[0m\u001b[0;34m,\u001b[0m \u001b[0mvalid_loader\u001b[0m\u001b[0;34m,\u001b[0m \u001b[0mmetrics\u001b[0m\u001b[0;34m,\u001b[0m \u001b[0;34m'valid'\u001b[0m\u001b[0;34m)\u001b[0m\u001b[0;34m\u001b[0m\u001b[0;34m\u001b[0m\u001b[0m\n\u001b[0m\u001b[1;32m     15\u001b[0m     \u001b[0mevaluate\u001b[0m\u001b[0;34m(\u001b[0m\u001b[0mmodel\u001b[0m\u001b[0;34m,\u001b[0m \u001b[0mtest_loader\u001b[0m\u001b[0;34m,\u001b[0m \u001b[0mmetrics\u001b[0m\u001b[0;34m,\u001b[0m \u001b[0;34m'test'\u001b[0m\u001b[0;34m)\u001b[0m\u001b[0;34m\u001b[0m\u001b[0;34m\u001b[0m\u001b[0m\n\u001b[1;32m     16\u001b[0m \u001b[0;32melse\u001b[0m\u001b[0;34m:\u001b[0m\u001b[0;34m\u001b[0m\u001b[0;34m\u001b[0m\u001b[0m\n",
            "\u001b[0;32m<ipython-input-103-f8b02f15cfdd>\u001b[0m in \u001b[0;36mevaluate\u001b[0;34m(model, loader, metrics, mode)\u001b[0m\n\u001b[1;32m     26\u001b[0m     \u001b[0;32mwith\u001b[0m \u001b[0mtorch\u001b[0m\u001b[0;34m.\u001b[0m\u001b[0mno_grad\u001b[0m\u001b[0;34m(\u001b[0m\u001b[0;34m)\u001b[0m\u001b[0;34m:\u001b[0m\u001b[0;34m\u001b[0m\u001b[0;34m\u001b[0m\u001b[0m\n\u001b[1;32m     27\u001b[0m         \u001b[0mvalid_losses\u001b[0m \u001b[0;34m=\u001b[0m \u001b[0;34m[\u001b[0m\u001b[0;34m]\u001b[0m\u001b[0;34m\u001b[0m\u001b[0;34m\u001b[0m\u001b[0m\n\u001b[0;32m---> 28\u001b[0;31m         \u001b[0;32mfor\u001b[0m \u001b[0mx\u001b[0m\u001b[0;34m,\u001b[0m \u001b[0mlengths\u001b[0m\u001b[0;34m,\u001b[0m \u001b[0my\u001b[0m \u001b[0;32min\u001b[0m \u001b[0mloader\u001b[0m\u001b[0;34m:\u001b[0m\u001b[0;34m\u001b[0m\u001b[0;34m\u001b[0m\u001b[0m\n\u001b[0m\u001b[1;32m     29\u001b[0m             \u001b[0mx\u001b[0m\u001b[0;34m,\u001b[0m \u001b[0my\u001b[0m \u001b[0;34m=\u001b[0m \u001b[0mx\u001b[0m\u001b[0;34m.\u001b[0m\u001b[0mto\u001b[0m\u001b[0;34m(\u001b[0m\u001b[0mdevice\u001b[0m\u001b[0;34m)\u001b[0m\u001b[0;34m,\u001b[0m \u001b[0my\u001b[0m\u001b[0;34m.\u001b[0m\u001b[0mto\u001b[0m\u001b[0;34m(\u001b[0m\u001b[0mdevice\u001b[0m\u001b[0;34m)\u001b[0m\u001b[0;34m\u001b[0m\u001b[0;34m\u001b[0m\u001b[0m\n\u001b[1;32m     30\u001b[0m             \u001b[0mlengths\u001b[0m \u001b[0;34m=\u001b[0m \u001b[0mlengths\u001b[0m\u001b[0;34m.\u001b[0m\u001b[0mto\u001b[0m\u001b[0;34m(\u001b[0m\u001b[0mdevice\u001b[0m\u001b[0;34m)\u001b[0m\u001b[0;34m\u001b[0m\u001b[0;34m\u001b[0m\u001b[0m\n",
            "\u001b[0;32m/usr/local/lib/python3.7/dist-packages/torch/utils/data/dataloader.py\u001b[0m in \u001b[0;36m__next__\u001b[0;34m(self)\u001b[0m\n\u001b[1;32m    433\u001b[0m         \u001b[0;32mif\u001b[0m \u001b[0mself\u001b[0m\u001b[0;34m.\u001b[0m\u001b[0m_sampler_iter\u001b[0m \u001b[0;32mis\u001b[0m \u001b[0;32mNone\u001b[0m\u001b[0;34m:\u001b[0m\u001b[0;34m\u001b[0m\u001b[0;34m\u001b[0m\u001b[0m\n\u001b[1;32m    434\u001b[0m             \u001b[0mself\u001b[0m\u001b[0;34m.\u001b[0m\u001b[0m_reset\u001b[0m\u001b[0;34m(\u001b[0m\u001b[0;34m)\u001b[0m\u001b[0;34m\u001b[0m\u001b[0;34m\u001b[0m\u001b[0m\n\u001b[0;32m--> 435\u001b[0;31m         \u001b[0mdata\u001b[0m \u001b[0;34m=\u001b[0m \u001b[0mself\u001b[0m\u001b[0;34m.\u001b[0m\u001b[0m_next_data\u001b[0m\u001b[0;34m(\u001b[0m\u001b[0;34m)\u001b[0m\u001b[0;34m\u001b[0m\u001b[0;34m\u001b[0m\u001b[0m\n\u001b[0m\u001b[1;32m    436\u001b[0m         \u001b[0mself\u001b[0m\u001b[0;34m.\u001b[0m\u001b[0m_num_yielded\u001b[0m \u001b[0;34m+=\u001b[0m \u001b[0;36m1\u001b[0m\u001b[0;34m\u001b[0m\u001b[0;34m\u001b[0m\u001b[0m\n\u001b[1;32m    437\u001b[0m         \u001b[0;32mif\u001b[0m \u001b[0mself\u001b[0m\u001b[0;34m.\u001b[0m\u001b[0m_dataset_kind\u001b[0m \u001b[0;34m==\u001b[0m \u001b[0m_DatasetKind\u001b[0m\u001b[0;34m.\u001b[0m\u001b[0mIterable\u001b[0m \u001b[0;32mand\u001b[0m\u001b[0;31m \u001b[0m\u001b[0;31m\\\u001b[0m\u001b[0;34m\u001b[0m\u001b[0;34m\u001b[0m\u001b[0m\n",
            "\u001b[0;32m/usr/local/lib/python3.7/dist-packages/torch/utils/data/dataloader.py\u001b[0m in \u001b[0;36m_next_data\u001b[0;34m(self)\u001b[0m\n\u001b[1;32m   1083\u001b[0m             \u001b[0;32melse\u001b[0m\u001b[0;34m:\u001b[0m\u001b[0;34m\u001b[0m\u001b[0;34m\u001b[0m\u001b[0m\n\u001b[1;32m   1084\u001b[0m                 \u001b[0;32mdel\u001b[0m \u001b[0mself\u001b[0m\u001b[0;34m.\u001b[0m\u001b[0m_task_info\u001b[0m\u001b[0;34m[\u001b[0m\u001b[0midx\u001b[0m\u001b[0;34m]\u001b[0m\u001b[0;34m\u001b[0m\u001b[0;34m\u001b[0m\u001b[0m\n\u001b[0;32m-> 1085\u001b[0;31m                 \u001b[0;32mreturn\u001b[0m \u001b[0mself\u001b[0m\u001b[0;34m.\u001b[0m\u001b[0m_process_data\u001b[0m\u001b[0;34m(\u001b[0m\u001b[0mdata\u001b[0m\u001b[0;34m)\u001b[0m\u001b[0;34m\u001b[0m\u001b[0;34m\u001b[0m\u001b[0m\n\u001b[0m\u001b[1;32m   1086\u001b[0m \u001b[0;34m\u001b[0m\u001b[0m\n\u001b[1;32m   1087\u001b[0m     \u001b[0;32mdef\u001b[0m \u001b[0m_try_put_index\u001b[0m\u001b[0;34m(\u001b[0m\u001b[0mself\u001b[0m\u001b[0;34m)\u001b[0m\u001b[0;34m:\u001b[0m\u001b[0;34m\u001b[0m\u001b[0;34m\u001b[0m\u001b[0m\n",
            "\u001b[0;32m/usr/local/lib/python3.7/dist-packages/torch/utils/data/dataloader.py\u001b[0m in \u001b[0;36m_process_data\u001b[0;34m(self, data)\u001b[0m\n\u001b[1;32m   1109\u001b[0m         \u001b[0mself\u001b[0m\u001b[0;34m.\u001b[0m\u001b[0m_try_put_index\u001b[0m\u001b[0;34m(\u001b[0m\u001b[0;34m)\u001b[0m\u001b[0;34m\u001b[0m\u001b[0;34m\u001b[0m\u001b[0m\n\u001b[1;32m   1110\u001b[0m         \u001b[0;32mif\u001b[0m \u001b[0misinstance\u001b[0m\u001b[0;34m(\u001b[0m\u001b[0mdata\u001b[0m\u001b[0;34m,\u001b[0m \u001b[0mExceptionWrapper\u001b[0m\u001b[0;34m)\u001b[0m\u001b[0;34m:\u001b[0m\u001b[0;34m\u001b[0m\u001b[0;34m\u001b[0m\u001b[0m\n\u001b[0;32m-> 1111\u001b[0;31m             \u001b[0mdata\u001b[0m\u001b[0;34m.\u001b[0m\u001b[0mreraise\u001b[0m\u001b[0;34m(\u001b[0m\u001b[0;34m)\u001b[0m\u001b[0;34m\u001b[0m\u001b[0;34m\u001b[0m\u001b[0m\n\u001b[0m\u001b[1;32m   1112\u001b[0m         \u001b[0;32mreturn\u001b[0m \u001b[0mdata\u001b[0m\u001b[0;34m\u001b[0m\u001b[0;34m\u001b[0m\u001b[0m\n\u001b[1;32m   1113\u001b[0m \u001b[0;34m\u001b[0m\u001b[0m\n",
            "\u001b[0;32m/usr/local/lib/python3.7/dist-packages/torch/_utils.py\u001b[0m in \u001b[0;36mreraise\u001b[0;34m(self)\u001b[0m\n\u001b[1;32m    426\u001b[0m             \u001b[0;31m# have message field\u001b[0m\u001b[0;34m\u001b[0m\u001b[0;34m\u001b[0m\u001b[0;34m\u001b[0m\u001b[0m\n\u001b[1;32m    427\u001b[0m             \u001b[0;32mraise\u001b[0m \u001b[0mself\u001b[0m\u001b[0;34m.\u001b[0m\u001b[0mexc_type\u001b[0m\u001b[0;34m(\u001b[0m\u001b[0mmessage\u001b[0m\u001b[0;34m=\u001b[0m\u001b[0mmsg\u001b[0m\u001b[0;34m)\u001b[0m\u001b[0;34m\u001b[0m\u001b[0;34m\u001b[0m\u001b[0m\n\u001b[0;32m--> 428\u001b[0;31m         \u001b[0;32mraise\u001b[0m \u001b[0mself\u001b[0m\u001b[0;34m.\u001b[0m\u001b[0mexc_type\u001b[0m\u001b[0;34m(\u001b[0m\u001b[0mmsg\u001b[0m\u001b[0;34m)\u001b[0m\u001b[0;34m\u001b[0m\u001b[0;34m\u001b[0m\u001b[0m\n\u001b[0m\u001b[1;32m    429\u001b[0m \u001b[0;34m\u001b[0m\u001b[0m\n\u001b[1;32m    430\u001b[0m \u001b[0;34m\u001b[0m\u001b[0m\n",
            "\u001b[0;31mRuntimeError\u001b[0m: Caught RuntimeError in DataLoader worker process 0.\nOriginal Traceback (most recent call last):\n  File \"/usr/local/lib/python3.7/dist-packages/torch/utils/data/_utils/worker.py\", line 198, in _worker_loop\n    data = fetcher.fetch(index)\n  File \"/usr/local/lib/python3.7/dist-packages/torch/utils/data/_utils/fetch.py\", line 47, in fetch\n    return self.collate_fn(data)\n  File \"<ipython-input-101-00e5ae467bb8>\", line 29, in __call__\n    features = nn.utils.rnn.pad_sequence(features, batch_first=True).transpose(1, 2)\n  File \"/usr/local/lib/python3.7/dist-packages/torch/nn/utils/rnn.py\", line 371, in pad_sequence\n    out_tensor[i, :length, ...] = tensor\nRuntimeError: The expanded size of the tensor (21) must match the existing size (19) at non-singleton dimension 1.  Target sizes: [80, 21].  Tensor sizes: [80, 19]\n"
          ]
        }
      ]
    },
    {
      "cell_type": "markdown",
      "metadata": {
        "id": "zA3CowcWF2C2"
      },
      "source": [
        "### Visualization of the results\n",
        "\n",
        "We will select the model based on the best accuracy value during validation. Let's evaluate the accuracy of the model on the test set."
      ]
    },
    {
      "cell_type": "code",
      "execution_count": null,
      "metadata": {
        "scrolled": false,
        "id": "D7MPB1NuF2C3"
      },
      "outputs": [],
      "source": [
        "# Visualization helper function\n",
        "def plot_accuracies(valid_accuracy, test_accuracy, best_epoch):\n",
        "    best_valid = valid_accuracy[best_epoch]\n",
        "    best_test = test_accuracy[best_epoch]\n",
        "    \n",
        "    plt.figure(figsize=(7, 3))\n",
        "    plt.title('Accuracy')\n",
        "    plt.plot(valid_accuracy, label='valid', color='#20639b')\n",
        "    plt.plot(test_accuracy, label='test', color='#3caea3')\n",
        "    plt.grid(linestyle='--', alpha=0.5)\n",
        "    plt.vlines(best_epoch, 0.6, 1, color='#ed553b', linestyle='--', label='best')\n",
        "    plt.hlines(best_valid, 0, best_epoch, linestyle='--', color='#555555')\n",
        "    plt.hlines(best_test, 0, best_epoch, linestyle='--', color='#555555')\n",
        "    plt.plot(best_epoch, best_valid, marker='o', color='#20639b')\n",
        "    plt.plot(best_epoch, best_test, marker='o', color='#3caea3')\n",
        "    plt.text(0, best_valid - 0.02, f\"{best_valid:.4f}\")\n",
        "    plt.text(0, best_test - 0.02, f\"{best_test:.4f}\")\n",
        "    plt.ylim(0.8, 1.01)\n",
        "    plt.xlim(0, len(valid_accuracy) - 1)\n",
        "    plt.xticks(range(len(valid_accuracy)))\n",
        "    plt.yticks(np.linspace(0.8, 1.0, 11))\n",
        "    plt.legend()\n",
        "    plt.show()\n",
        "\n",
        "\n",
        "def plot_confusion_matrix(cm, names, title='Confusion matrix', normalize=False):\n",
        "    plt.figure(figsize=(5, 5))\n",
        "    plt.imshow(cm, interpolation='nearest', cmap=plt.get_cmap('Blues'))\n",
        "    plt.title(title)\n",
        "\n",
        "    if names is not None:\n",
        "        tick_marks = np.arange(len(names))\n",
        "        plt.xticks(tick_marks, names, rotation=45)\n",
        "        plt.yticks(tick_marks, names)\n",
        "\n",
        "    if normalize:\n",
        "        cm = cm.astype('float') / cm.sum(axis=1)[:, np.newaxis]\n",
        "\n",
        "    thresh = cm.max() / 1.5 if normalize else cm.max() / 2\n",
        "    for i in range(cm.shape[0]):\n",
        "        for j in range(cm.shape[1]):\n",
        "            kwargs = {\n",
        "                'color': \"white\" if cm[i, j] > thresh else \"black\",\n",
        "                'horizontalalignment': 'center'\n",
        "            }\n",
        "            if normalize:\n",
        "                plt.text(j, i, \"{:0.2f}\".format(cm[i, j]), **kwargs)\n",
        "            else:\n",
        "                plt.text(j, i, \"{:,}\".format(cm[i, j]), **kwargs)\n",
        "\n",
        "    accuracy = np.trace(cm) / float(np.sum(cm))\n",
        "\n",
        "    plt.tight_layout()\n",
        "    plt.ylabel('True label')\n",
        "    plt.xlabel(f'Predicted label\\naccuracy={accuracy:0.4f}')\n",
        "    plt.show()"
      ]
    },
    {
      "cell_type": "code",
      "source": [
        "# choosing model by best accuracy on validation set\n",
        "best = np.argmax(metrics['valid_accuracy'])\n",
        "best_cm = metrics['test_confusion'][best]\n",
        "\n",
        "plot_accuracies(metrics['valid_accuracy'], metrics['test_accuracy'], best)\n",
        "plot_confusion_matrix(best_cm, range(10))"
      ],
      "metadata": {
        "id": "b2DhndmLB-4q"
      },
      "execution_count": null,
      "outputs": []
    },
    {
      "cell_type": "markdown",
      "metadata": {
        "id": "FyAyLm9AF2C3"
      },
      "source": [
        "### Regularization and Augmentation\n",
        "\n",
        "In order to improve the quality of your model, you may want to play around with different regularization and augmentation techniques. Some things to try could be:\n",
        "\n",
        "* Dropout\n",
        "* L2 regularization\n",
        "* BatchNorm / LayerNorm\n",
        "* Different learning rate schedules\n",
        "\n",
        "Augmentations are applied to training data to improve the generalization ability of the deep neural model. Think about what augmentations you can apply to the audio, and then check how they work by experiment. You can look at some data augmentation techniques here: \n",
        "\n",
        "* [SpecAugment](https://arxiv.org/abs/1904.08779)\n",
        "\n",
        "For this you may find the following functions useful:\n",
        "\n",
        "`torchaudio.transforms.FrequencyMasking`\n",
        "\n",
        "`torchaudio.transforms.TimeMasking`\n",
        "\n",
        "`torchaudio.transforms.TimeStretch`"
      ]
    },
    {
      "cell_type": "code",
      "execution_count": null,
      "metadata": {
        "id": "3l531C7ZF2C3"
      },
      "outputs": [],
      "source": [
        "# run experiments here, reuse previously defined functions"
      ]
    },
    {
      "cell_type": "markdown",
      "metadata": {
        "id": "CZBj52HmF2C4"
      },
      "source": [
        "# Questions and Conclusions (4 points) 🧑‍🎓\n",
        "\n",
        "1. Which audio representation did you choose and why?\n",
        "2. Justify your choice of neural network architecture.\n",
        "3. Did you use any data augmentation? Justify your choice of augmentation.\n",
        "4. What did you like in this homework, and what didn't?\n",
        "\n",
        "```\n",
        "1. [ ] Your Answer\n",
        "2. [ ] Your Answer\n",
        "3. [ ] Your Answer\n",
        "4. [ ] Your Answer\n",
        "```"
      ]
    }
  ],
  "metadata": {
    "kernelspec": {
      "display_name": "Python 3",
      "language": "python",
      "name": "python3"
    },
    "language_info": {
      "codemirror_mode": {
        "name": "ipython",
        "version": 3
      },
      "file_extension": ".py",
      "mimetype": "text/x-python",
      "name": "python",
      "nbconvert_exporter": "python",
      "pygments_lexer": "ipython3",
      "version": "3.7.10"
    },
    "colab": {
      "name": "homework1_student.ipynb",
      "provenance": [],
      "collapsed_sections": [
        "U0C_jrg59Nsu",
        "UAm4OLP1F2Cp",
        "FRgVld2Y4YEV",
        "m1WCgosvF2Cv",
        "q10UfkplF2Cw"
      ],
      "toc_visible": true
    }
  },
  "nbformat": 4,
  "nbformat_minor": 0
}