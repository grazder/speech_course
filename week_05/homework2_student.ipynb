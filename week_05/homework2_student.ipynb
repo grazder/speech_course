{
  "cells": [
    {
      "cell_type": "markdown",
      "source": [
        "# Seminar 3 and Homework 2\n",
        "\n",
        "In lectures 3 and 4 you have examined the basics of speech recognition and covered the Connectionist Temporal Classification (CTC) model in detail. You are now ready to train your first \"adult\" speech recognition system!\n",
        "\n",
        "In this joint seminar and homework exercise you will explore speech recongition using Connectionist Temporal Classification (CTC). This seminar and homework are both LARGE and CHALLENGE, so expect to spent a significant amount of time on this. \n",
        "\n",
        "\n",
        "## Seminar 3 (10 Points)\n",
        "\n",
        "In seminar 3 you will implement the CTC forward and backward algorithms in order to calculate the CTC loss and study the diffusion of probability in a CTC trellis.\n",
        "\n",
        "## Homework 2 (40 Points)\n",
        "\n",
        "In this homework you will implement and train a CTC speech recognition model on a subset of the LibriSpeech corpus. This task will involve:\n",
        "\n",
        "- Implementing a Decoder\n",
        "  * Greedy Decoder (2 points)\n",
        "  * Prefix Beam-Search Decoder (10 points)\n",
        "- Creating a dataloader\n",
        "- Implementing a and training a Neural Network for CTC\n",
        "  * DNN\n",
        "  * LSTM\n",
        "  * BiLSTM\n",
        "- Comparing the Properties of these models\n",
        "\n",
        "### Submitting results\n",
        "\n",
        "This Jupyter notebook contains both a seminar and a homework. \n",
        "1. For the seminar deadline please submit this Jupiter Notebook (`.ipynb`) with completed cells of the seminar\n",
        "\n",
        "Save the artifact to a directory named `{your last name}_{your first name}_sem3` and pack them in `.zip` archive.\n",
        "\n",
        "2.  For the homework deadline please submit this Jupiter Notebook (`.ipynb`) with all cells completed.\n",
        "\n",
        "Save the notebook and model weights to a directory named `{your last name}_{your first name}_hw3` and pack them in `.zip` archive.\n"
      ],
      "metadata": {
        "id": "EhkTsE_rVd-n"
      }
    },
    {
      "cell_type": "markdown",
      "metadata": {
        "id": "lnUmkwSbY0Ho"
      },
      "source": [
        "# Lecture recap"
      ]
    },
    {
      "cell_type": "markdown",
      "metadata": {
        "id": "xTS5sHhoY0Ho"
      },
      "source": [
        "## Problem statement"
      ]
    },
    {
      "cell_type": "markdown",
      "metadata": {
        "id": "Tb94FlS2Y0Hp"
      },
      "source": [
        "<p style=\"text-align:center;\"><img src=\"http://drive.google.com/uc?export=view&id=1FFGXZsCgy-uQfCBp7F4w1gaJbIGv6CV2\" height=\"200px\" width=\"700px\">  \n",
        "\n",
        "\n",
        "Define a modified label sequence $\\omega'_{1:2L + 1}$:\n",
        "- add blanks to the beginning and the end of the original label sequence $\\omega_{1:L}$\n",
        "- insert blanks between every pair of labels\n",
        "\n",
        "<p style=\"text-align:center;\"><img src=\"http://drive.google.com/uc?export=view&id=1CEhWtVYrSSkaRtEsJr5QwiH8lMaSQ_uN\" height=\"150px\" width=\"400px\">\n",
        "\n",
        "\n",
        "Define $\\alpha_t(s)$ as the probability of all paths of length $t$ which go through state $\\omega_s'$:"
      ]
    },
    {
      "cell_type": "markdown",
      "metadata": {
        "id": "FUfXCzgBY0Hp"
      },
      "source": [
        "Denote a sequence of **acoustic features** or **observations** as\n",
        "\n",
        "$$\n",
        "    \\mathbf{X}_{1:T} = \\{x_1, \\ldots, x_T\\}\n",
        "$$\n",
        "\n",
        "Define a mapping $\\mathcal{M}$ between words $\\mathbf{w}$ and speech units $\\omega_{1:L}$:\n",
        "\n",
        "$$\n",
        "    \\{\\omega^{(q)}_{1:L_q}\\}^Q_{q = 1} = \\mathcal{M}(\\mathbf{w})\n",
        "$$\n",
        "\n",
        "$$\n",
        "    \\{\\mathbf{w}^{(p)}\\}^P_{p = 1} = \\mathcal{M}^{-1}(\\omega_{1:L})\n",
        "$$\n",
        "\n",
        "For some choices of speech units this mapping is not 1-to-1 ($Q > 1$, $P > 1$). A possible pair of text (green) and speech units (yellow):"
      ]
    },
    {
      "cell_type": "markdown",
      "metadata": {
        "id": "5qHamTYUY0Hq"
      },
      "source": [
        "<p style=\"text-align:center;\"><img src=\"http://drive.google.com/uc?export=view&id=1HWD_SFZzids3Nz67BK_NQ5awkw6yUvLo\" height=\"200px\" width=\"600px\">"
      ]
    },
    {
      "cell_type": "markdown",
      "metadata": {
        "id": "9AofS6uyY0Hq"
      },
      "source": [
        "Automated speech recognition (ASR) is a **discriminative** task $\\rightarrow$ \"Which sequence $\\mathbf{\\hat w}$ is likely given the audio?\":\n",
        "\n",
        "$$\n",
        "    \\mathbf{\\hat w} = \\mathcal{M}^{-1}(\\hat \\omega_{1:L}), \\quad \\hat \\omega_{1:L} = \\arg \\max_{\\hat \\omega_{1: L}} P(\\hat \\omega_{1:L} | \\mathbf{X}_{1: T}; \\theta),\n",
        "$$\n",
        "\n",
        "where $\\theta$ denotes the parameters of the model we are building to solve the problem."
      ]
    },
    {
      "cell_type": "markdown",
      "metadata": {
        "id": "U-7IK0-TY0Hr"
      },
      "source": [
        "## Discriminative state-space models"
      ]
    },
    {
      "cell_type": "markdown",
      "metadata": {
        "id": "1hFDyco4Y0Hr"
      },
      "source": [
        "How feature vectors $\\mathbf{X}_{1: T}$ and speech units $\\omega_{1:L}$ relate or **align** to each other? Two common approaches to constructing models which can align:\n",
        "- state-space models\n",
        "- neural attention mechanisms\n",
        "\n",
        "State-space models represent the space of various alignments in the form of a table (called **trellis**), the rows of which correspond to phonemes, and the columns are observed variables. One alignment is the path in this table from the upper left corner to the lower right.\n",
        "\n",
        "<p style=\"text-align:center;\"><img src=\"http://drive.google.com/uc?export=view&id=1npycuLvYq_-3p_xd6bouR21tfVeOvMUd\" height=\"300px\" width=\"600px\">"
      ]
    },
    {
      "cell_type": "markdown",
      "metadata": {
        "id": "Txs7XA-2Y0Hs"
      },
      "source": [
        "Denote a set of all paths in trellis that map onto the phoneme sequence $\\omega_{1:L}$ as $\\mathcal{A}(\\omega_{1:L})$, and let $\\pi_{1:T} \\in \\mathcal{A}(\\omega_{1:L})$ be an element of this set. Then a discriminative state-space system models $P(\\omega_{1:L} | \\mathbf{X}_{1: T}; \\theta)$ as \n",
        "\n",
        "$$\n",
        "    P(\\omega_{1:L} | \\mathbf{X}_{1: T}; \\theta) = \\sum_{\\pi_{1:T} \\in \\mathcal{A}(\\omega_{1:L})} P(\\pi_{1:T} | \\mathbf{X}_{1:T}; \\theta)\n",
        "$$"
      ]
    },
    {
      "cell_type": "markdown",
      "metadata": {
        "id": "pmxvKSgKY0Hs"
      },
      "source": [
        "Imagine that we have a recurrent neural network parametrized with $\\theta$. The network outputs a distribution $P(z_t|x_t; \\theta)$ over possible speech units $\\omega$ for each frame $x_t$:\n",
        "\n",
        "<p style=\"text-align:center;\"><img src=\"http://drive.google.com/uc?export=view&id=153E-ailMiLPg3joPSx016lGv6S4vXVD2\" height=\"300px\" width=\"550px\">\n",
        "\n",
        "CTC is a discriminative state-space model defined as:\n",
        "    \n",
        "$$\n",
        "    P(\\omega_{1:L} | \\mathbf{X}_{1: T}; \\theta) = \\sum_{\\pi_{1:T} \\in \\mathcal{A}(\\omega_{1:L})} \\prod_{t = 1}^T P(z_t = \\pi_t| x_t; \\theta)\n",
        "$$\n",
        "    \n",
        "- CTC assumes all states conditionally independent\n",
        "- Alignment free -- does not need prior alignment for training"
      ]
    },
    {
      "cell_type": "markdown",
      "source": [
        "# Setup - Install package, download files, etc..."
      ],
      "metadata": {
        "collapsed": false,
        "id": "qg4JIKs4EYtQ"
      }
    },
    {
      "cell_type": "code",
      "execution_count": 1,
      "metadata": {
        "id": "Gk1mFIiwve6R"
      },
      "outputs": [],
      "source": [
        "# uncomment if needed. If you run the notebook in Colab, all these libraries are pre-installed\n",
        "# !pip install torch==1.7.1+cu101 torchvision==0.8.2+cu101 torchaudio==0.7.2 -f https://download.pytorch.org/whl/torch_stable.html\n",
        "# !pip install numpy==1.17.5 matplotlib==3.3.3 tqdm==4.54.0"
      ]
    },
    {
      "cell_type": "code",
      "source": [
        "!pip install arpa"
      ],
      "metadata": {
        "colab": {
          "base_uri": "https://localhost:8080/"
        },
        "id": "VwuUeuXXBDPl",
        "outputId": "e29f9c81-6207-4a0d-93f4-b586f7ad0d66"
      },
      "execution_count": 2,
      "outputs": [
        {
          "output_type": "stream",
          "name": "stdout",
          "text": [
            "Looking in indexes: https://pypi.org/simple, https://us-python.pkg.dev/colab-wheels/public/simple/\n",
            "Collecting arpa\n",
            "  Downloading arpa-0.1.0b4-py3-none-any.whl (9.6 kB)\n",
            "Installing collected packages: arpa\n",
            "Successfully installed arpa-0.1.0b4\n"
          ]
        }
      ]
    },
    {
      "cell_type": "code",
      "source": [
        "%%capture\n",
        "!pip install wandb -qqq"
      ],
      "metadata": {
        "id": "HN6poM45AAXH"
      },
      "execution_count": 3,
      "outputs": []
    },
    {
      "cell_type": "code",
      "source": [
        "# comment out if needed\n",
        "!mkdir week_05_files\n",
        "!wget -O week_05_files/utils.py https://raw.githubusercontent.com/yandexdataschool/speech_course/main/week_05/utils.py\n",
        "!wget -O week_05_files/test_matrix.txt -q https://raw.githubusercontent.com/yandexdataschool/speech_course/main/week_05/test_matrix.txt\n",
        "!wget -O week_05_files/soft_alignment.txt -q https://raw.githubusercontent.com/yandexdataschool/speech_course/main/week_05/soft_alignment.txt\n",
        "!wget -O week_05_files/test_decode.txt -q https://raw.githubusercontent.com/yandexdataschool/speech_course/main/week_05/test_decode.txt\n",
        "!wget -O week_05_files/test_labels.txt -q https://raw.githubusercontent.com/yandexdataschool/speech_course/main/week_05/test_labels.txt\n",
        "!wget -O week_05_files/3-gram.pruned.1e-7.arpa -q https://raw.githubusercontent.com/yandexdataschool/speech_course/main/week_05/3-gram.pruned.1e-7.arpa"
      ],
      "metadata": {
        "colab": {
          "base_uri": "https://localhost:8080/"
        },
        "id": "fxq-Jmp_Y293",
        "outputId": "ddb373f1-dcd5-4356-9478-ce2dff867357"
      },
      "execution_count": 4,
      "outputs": [
        {
          "output_type": "stream",
          "name": "stdout",
          "text": [
            "--2022-05-29 09:53:33--  https://raw.githubusercontent.com/yandexdataschool/speech_course/main/week_05/utils.py\n",
            "Resolving raw.githubusercontent.com (raw.githubusercontent.com)... 185.199.111.133, 185.199.108.133, 185.199.109.133, ...\n",
            "Connecting to raw.githubusercontent.com (raw.githubusercontent.com)|185.199.111.133|:443... connected.\n",
            "HTTP request sent, awaiting response... 200 OK\n",
            "Length: 6770 (6.6K) [text/plain]\n",
            "Saving to: ‘week_05_files/utils.py’\n",
            "\n",
            "\rweek_05_files/utils   0%[                    ]       0  --.-KB/s               \rweek_05_files/utils 100%[===================>]   6.61K  --.-KB/s    in 0s      \n",
            "\n",
            "2022-05-29 09:53:33 (74.7 MB/s) - ‘week_05_files/utils.py’ saved [6770/6770]\n",
            "\n"
          ]
        }
      ]
    },
    {
      "cell_type": "code",
      "execution_count": 5,
      "metadata": {
        "id": "IM01xHP7Y0Hi"
      },
      "outputs": [],
      "source": [
        "#!L\n",
        "import math\n",
        "import os\n",
        "import shutil\n",
        "import string\n",
        "import time\n",
        "from collections import defaultdict\n",
        "from typing import List, Tuple, TypeVar, Optional, Callable, Iterable\n",
        "\n",
        "import arpa\n",
        "import matplotlib\n",
        "import matplotlib.pyplot as plt\n",
        "import numpy as np\n",
        "import torch\n",
        "import torchaudio\n",
        "import torch.nn as nn\n",
        "import torch.nn.functional as F\n",
        "import torch.utils.data as data\n",
        "import wandb\n",
        "from matplotlib.colors import LogNorm\n",
        "from torch import optim\n",
        "from tqdm.notebook import tqdm"
      ]
    },
    {
      "cell_type": "code",
      "execution_count": 6,
      "metadata": {
        "id": "4glsVYvk2ZUr",
        "tags": []
      },
      "outputs": [],
      "source": [
        "week_05_path = 'week_05_files'    # Change this path if it is different in your case"
      ]
    },
    {
      "cell_type": "code",
      "execution_count": 7,
      "metadata": {
        "id": "t9lYheNjY0Hn"
      },
      "outputs": [],
      "source": [
        "import week_05_files.utils as utils   # Change relative path if needed"
      ]
    },
    {
      "cell_type": "markdown",
      "metadata": {
        "id": "GLRub0wZY0Hs"
      },
      "source": [
        "# Seminar 3: CTC Forward-Backward Algorithm (10 points)\n",
        "\n",
        "```\n",
        "[ ] (4 points) Implement a Forward\n",
        "[ ] (4 points) Implement a Backward\n",
        "[ ] (2 points) Implement soft alignment\n",
        "```"
      ]
    },
    {
      "cell_type": "markdown",
      "source": [
        "## Theoretical Recap"
      ],
      "metadata": {
        "id": "Zc1A7_xcwiT5"
      }
    },
    {
      "cell_type": "markdown",
      "source": [
        "### Forward Algorithm"
      ],
      "metadata": {
        "id": "3cP79coczzan"
      }
    },
    {
      "cell_type": "markdown",
      "metadata": {
        "id": "PUBy5qg3Y0Ht"
      },
      "source": [
        "$$\n",
        "    \\alpha_t(s) = P(\\omega_{1:s/2}, \\pi_t = \\omega_s' | \\mathbf{X}_{1:T}, \\theta) = \\sum_{\\pi_{1:t - 1} \\in \\mathcal{A}(\\omega_{1:s/2}), \\, \\pi_t = \\omega_s'}  P(\\pi_{1:t} | \\mathbf{X}_{1:T}, \\theta)\n",
        "$$\n",
        "\n",
        "Note that despite the fact that we have moved to the extended sequence $\\omega'$, we are still interested in maximizing the probability of alignments to the original sequence. And step $s$ in the new sequence corresponds to step $s/2$ in the old sequence (rounded to the bottom).\n",
        "\n",
        "The CTC forward algorithm recursively computes the forward variable $\\alpha_t(s)$.\n",
        "\n",
        "<p style=\"text-align:center;\"><img src=\"http://drive.google.com/uc?export=view&id=1QaW0mJ9c3Z0KJVk3pUSyC_kS_pFC_QxS\" height=\"400px\" width=\"600px\">  \n",
        "\n",
        "\n",
        "**Initialization.** We allow all prefixes to start with either a blank ($\\epsilon$) or the first symbol in $\\omega_{1:L}$. Also note that $\\alpha_t(s) = 0,\\ \\forall s < (2L + 1) - 2(T - t) - 1$, because these variables correspond to states for which there are not enough time-steps left to complete the sequence.\n",
        "\n",
        "This gives us the following rules for initialization:\n",
        "\n",
        "$$\n",
        "  \\begin{aligned}\n",
        "    &\\alpha_t(0) = 0, \\forall t & \\\\\n",
        "    &\\alpha_1(1) = P(z_1 = \\epsilon | \\mathbf{X}_{1:T}), &\\\\\n",
        "    &\\alpha_1(2) = P(z_1 = \\omega^{'}_2 | \\mathbf{X}_{1:T}), &\\\\\n",
        "    &\\alpha_1(s) = 0,\\ \\forall s > 2 &\\\\\n",
        "    &\\alpha_t(s) = 0,\\ \\forall s < (2L + 1) - 2(T - t) - 1 &  \\text{top right zeros}\\\\\n",
        "  \\end{aligned}\n",
        "$$\n",
        "\n",
        "**Recursion.** \n",
        "\n",
        "$$\n",
        "  \\begin{aligned}\n",
        "    &\\alpha_t(s) = \\left \\{\n",
        "  \\begin{aligned}\n",
        "    &\\big(\\alpha_{t-1}(s) + \\alpha_{t-1}(s-1) \\big) P(z_t = \\omega^{'}_s | \\mathbf{X}_{1:T}) & \\text{if}\\ \\omega_s^{'} = \\epsilon\\ \\text{or}\\\n",
        "    \\omega_s^{'} = \\omega_{s-2}^{'} \\\\\n",
        "    &\\big(\\alpha_{t-1}(s) + \\alpha_{t-1}(s-1) + \\alpha_{t-1}(s-2)\\big) P(z_t = \\omega^{'}_s | \\mathbf{X}_{1:T}) & \\text{otherwise}\\\\\n",
        "  \\end{aligned} \\right. \n",
        "  \\end{aligned}\n",
        "$$\n",
        "\n",
        "\n",
        "<p style=\"text-align:center;\"><img src=\"http://drive.google.com/uc?export=view&id=1Tre3oFHyjigpqG-GI1xVrOchZAMnRYBK\" height=\"250px\" width=\"650px\">"
      ]
    },
    {
      "cell_type": "markdown",
      "source": [
        "### Backward Algorithm"
      ],
      "metadata": {
        "id": "hI6wj5hrz9vJ"
      }
    },
    {
      "cell_type": "markdown",
      "source": [
        "Define $\\beta_t(s)$ as the probability of all valid alignments $\\omega'_{s:L}$ starting in state $\\omega_s'$:\n",
        "\n",
        "$$\n",
        "    \\beta_t(s) = P(\\omega_{s/2:L}, \\pi_t = \\omega'_s | \\mathbf{X}_{1:T}, \\theta) = \\sum_{\\pi_{t + 1:T} \\in \\mathcal{A}(\\omega_{s/2:L}), \\, \\pi_t = \\omega_s'} P(\\pi_{t + 1:T} | \\mathbf{X}_{1:T}, \\theta)\n",
        "$$\n",
        "\n",
        "The CTC backward algorithm recursively computes the backward variable $\\beta_t(s)$:\n",
        "\n",
        "<p style=\"text-align:center;\"><img src=\"http://drive.google.com/uc?export=view&id=11x3TGAzL2LWfO0ZKpPHegOvv8Iw6ZC0X\" height=\"400px\" width=\"600px\">\n",
        "\n",
        "\n",
        "\n",
        "The formulas for backward algorithm are as follows:\n",
        "\n",
        "$$\n",
        "  \\begin{aligned}\n",
        "    &\\beta_T(2L+1) = 1 &\\\\\n",
        "    &\\beta_T(2L) = 1 & \\\\\n",
        "    &\\beta_T(s) = 0, \\forall s < 2L &\\\\\n",
        "    &\\beta_t(s) = 0,\\ \\forall s > 2t &\\\\\n",
        "    &\\beta_t(2L+2) = 0,\\ \\forall t  & \\text{bottom left zeros} \\\\\n",
        "    &\\beta_t(s) = \\left \\{\n",
        "  \\begin{aligned}\n",
        "    &\\big(\\beta_{t+1}(s) + \\beta_{t+1}(s+1) \\big) P(z_t = \\omega^{'}_s | \\mathbf{X}_{1:T}) & \\text{if}\\ \\omega_s^{'} = \\epsilon\\ \\text{or}\\\n",
        "    \\omega_s^{'} = \\omega_{s+2}^{'} \\\\\n",
        "    &\\big(\\beta_{t+1}(s) +\\beta_{t+1}(s+1) + \\beta_{t+1}(s+2)\\big) P(z_t = \\omega^{'}_s | \\mathbf{X}_{1:T}) & \\text{otherwise}\\\\\n",
        "  \\end{aligned} \\right. \n",
        "  \\end{aligned}\n",
        "$$\n",
        "\n",
        "<p style=\"text-align:center;\"><img src=\"http://drive.google.com/uc?export=view&id=1h7OBZZ02dwZ1mDhRYh7yTy7-UW4NmbXm\" height=\"250px\" width=\"650px\"> "
      ],
      "metadata": {
        "id": "9UCcLgE3zOvS"
      }
    },
    {
      "cell_type": "markdown",
      "source": [
        "### Alignment and Loss Computation"
      ],
      "metadata": {
        "id": "txfmuahS0Apx"
      }
    },
    {
      "cell_type": "markdown",
      "source": [
        "Use your newfound knowledge of the CTC forward-backward algorithm to obtain a soft-alignment\n",
        "\n",
        "Remember, that the forward variable is computed as follows:\n",
        "\n",
        "The probability of all paths passing through a state $\\pi_t = \\omega_s'$ is the product of forward and backward variables:\n",
        "\n",
        "$$\n",
        "    \\alpha_t(s) \\beta_t(s) = \\sum_{\\pi_{1:T} \\in \\mathcal{A}(\\omega_{1:L}), \\,\\pi_t=\\omega_s'} P(\\pi_{1:T} | \\mathbf{X}_{1:T}, \\theta)\n",
        "$$\n",
        "\n",
        "Then, for any $t$, sum of all such products yields total probability:\n",
        "\n",
        "$$\n",
        "     \\sum_{s = 1}^{2 L + 1} \\alpha_t(s) \\beta_t(s) = P(\\omega_{1:L} | \\mathbf{X}_{1:T}, \\theta)\n",
        "$$\n",
        "\n",
        "We can also use normalized $\\alpha_t(s) \\beta_t(s)$ as a measure of **soft-alignment**:\n",
        "\n",
        "$$\n",
        "    \\text{align}_t(s) = \\frac{\\alpha_t(s) \\beta_t(s)}{\\sum_{s = 1}^{2 L + 1} \\alpha_t(s) \\beta_t(s)}\n",
        "$$\n",
        "\n",
        "You should get something like\n",
        "\n",
        "<p style=\"text-align:center;\"><img src=\"http://drive.google.com/uc?export=view&id=1HAIl9UPReiFQ7dNOZFGfvUWDurFDBZYM\" height=\"300px\" width=\"800px\"> \n",
        "\n",
        "$$\n",
        "  \\text{align}_t(s) = \\frac{\\alpha_t(s)\\beta_t(s)}{\\sum_{s}\\alpha_t(s)\\beta_t(s)}\n",
        "$$\n",
        "\n",
        "\n",
        "Doing the computation in probability space can be numerically unstable, so you should do it in Log-Space using the\n",
        "provided logsumexp operation. Remember to return to prob space at the end. "
      ],
      "metadata": {
        "id": "CPovJE83zhvY"
      }
    },
    {
      "cell_type": "markdown",
      "source": [
        "## Implement CTC Forward Algorithm (4 points)"
      ],
      "metadata": {
        "id": "1nu4ISUMGt-J"
      }
    },
    {
      "cell_type": "code",
      "execution_count": 8,
      "metadata": {
        "id": "HgRpr3bjY0Hv"
      },
      "outputs": [],
      "source": [
        "# Helper functions\n",
        "BLANK_SYMBOL = \"_\"\n",
        "\n",
        "class Tokenizer:\n",
        "    \"\"\"\n",
        "    Maps characters to integers and vice versa\n",
        "    \"\"\"\n",
        "    def __init__(self):\n",
        "        self.char_map = {}\n",
        "        self.index_map = {}\n",
        "        for i, ch in enumerate([\"'\", \" \"] + list(string.ascii_lowercase) + [BLANK_SYMBOL]):\n",
        "            self.char_map[ch] = i\n",
        "            self.index_map[i] = ch\n",
        "        \n",
        "    def text_to_indices(self, text: str) -> List[int]:\n",
        "        return [self.char_map[ch] for ch in text]\n",
        "\n",
        "    def indices_to_text(self, labels: List[int]) -> str:                                                                                                                                                                                                                                 \n",
        "        return \"\".join([self.index_map[i] for i in labels])\n",
        "    \n",
        "    def get_symbol_index(self, sym: str) -> int:\n",
        "        return self.char_map[sym]\n",
        "    \n",
        "\n",
        "tokenizer = Tokenizer()\n",
        "\n",
        "NEG_INF = -float(\"inf\")\n",
        "\n",
        "\n",
        "def logsumexp(*args) -> float:\n",
        "    \"\"\"\n",
        "    Log-sum-exp trick for log-domain calculations\n",
        "    See for details: https://en.wikipedia.org/wiki/LogSumExp\n",
        "    \"\"\"\n",
        "    if all(a == NEG_INF for a in args):\n",
        "        return NEG_INF\n",
        "    a_max = max(args)\n",
        "    lsp = math.log(sum(math.exp(a - a_max) for a in args))\n",
        "    return a_max + lsp\n",
        "\n",
        "\n",
        "def modify_sequence(sequence: List[int], blank_idx: int) -> List[int]:\n",
        "    \"\"\"\n",
        "    Modifies sequence which with START, END blanks and between each character\n",
        "    \"\"\"\n",
        "    modified_sequence = []\n",
        "    \n",
        "    for idx in sequence:\n",
        "        modified_sequence += [blank_idx, idx]\n",
        "        \n",
        "    modified_sequence.append(blank_idx)\n",
        "    return modified_sequence"
      ]
    },
    {
      "cell_type": "code",
      "execution_count": 9,
      "metadata": {
        "id": "FSU94H8-xJMw"
      },
      "outputs": [],
      "source": [
        "#!L\n",
        "\n",
        "def log_mult(*args) -> float:\n",
        "    exps = np.prod([np.exp(x) for x in args])\n",
        "    if exps == 0:\n",
        "        return NEG_INF\n",
        "    \n",
        "    return np.log(exps)\n",
        "\n",
        "def forward_algorithm(sequence: List[int], matrix: np.ndarray) -> np.ndarray:\n",
        "    \"\"\"\n",
        "    :param sequence: a string converted to an index array by Tokenizer\n",
        "    :param matrix: A matrix of shape (K, T) with probability distributions over phonemes at each moment of time.\n",
        "    :return: the result of the forward pass of shape (2 * len(sequence) + 1, T)\n",
        "    \"\"\"\n",
        "    # Turn probs into log-probs\n",
        "    matrix = np.log(matrix)\n",
        "    \n",
        "    blank = tokenizer.get_symbol_index(BLANK_SYMBOL)\n",
        "    mod_sequence = modify_sequence(sequence, blank)\n",
        "\n",
        "    # Initialze\n",
        "    L = len(mod_sequence)\n",
        "    T = matrix.shape[1]\n",
        "    alphas = np.full([L, T], NEG_INF)\n",
        "\n",
        "    for t in range(T):\n",
        "        for s in range(L):\n",
        "            # First Step\n",
        "            if t == 0:\n",
        "                if s == 0:\n",
        "                    alphas[s, t] = matrix[blank, t]\n",
        "                elif s == 1:\n",
        "                    alphas[s, t] = matrix[mod_sequence[s], t]\n",
        "                else:\n",
        "                    alphas[s, t] = NEG_INF\n",
        "            # Upper diagonal zeros\n",
        "            elif s < L - 2 * (T - t) - 1:\n",
        "                alphas[s, t] = NEG_INF\n",
        "            else:\n",
        "                # Need to do this stabily\n",
        "                if s == 0:\n",
        "                    alphas[s, t] = log_mult(alphas[s, t - 1], matrix[mod_sequence[s], t])\n",
        "                elif s == 1:\n",
        "                    alphas[s, t] = log_mult(logsumexp(alphas[s, t - 1], alphas[s - 1, t - 1]), matrix[mod_sequence[s], t])\n",
        "                else:\n",
        "                    if s == blank or mod_sequence[s] == mod_sequence[s - 2]:\n",
        "                        alphas[s, t] = log_mult(logsumexp(alphas[s, t - 1], alphas[s - 1, t - 1]), matrix[mod_sequence[s], t])\n",
        "                    else:\n",
        "                        alphas[s, t] = log_mult(logsumexp(alphas[s, t - 1], alphas[s - 1, t - 1], alphas[s - 2, t - 1]), matrix[mod_sequence[s], t])\n",
        "    \n",
        "    return alphas"
      ]
    },
    {
      "cell_type": "code",
      "source": [
        "# Load numpy matrix, add axis [classes,time]\n",
        "matrix = np.loadtxt(os.path.join(week_05_path, 'test_matrix.txt'))\n",
        "\n",
        "# Create label_sequence\n",
        "labels_indices = tokenizer.text_to_indices('there se ms no good reason for believing that twillc ange')\n",
        "\n",
        "alphas = forward_algorithm(labels_indices, matrix)"
      ],
      "metadata": {
        "id": "rU_OW8MALI5K"
      },
      "execution_count": 10,
      "outputs": []
    },
    {
      "cell_type": "code",
      "source": [
        "im = plt.imshow(np.exp(alphas), aspect='auto', interpolation='nearest')\n",
        "plt.tight_layout()\n",
        "\n",
        "plt.colorbar(im);"
      ],
      "metadata": {
        "colab": {
          "base_uri": "https://localhost:8080/",
          "height": 297
        },
        "id": "fUkmcBLVz7sO",
        "outputId": "2b5177cb-229a-4116-bc8a-43c9c9e1bbc6"
      },
      "execution_count": 11,
      "outputs": [
        {
          "output_type": "display_data",
          "data": {
            "text/plain": [
              "<Figure size 432x288 with 2 Axes>"
            ],
            "image/png": "[encoded data removed]"
          },
          "metadata": {
            "needs_background": "light"
          }
        }
      ]
    },
    {
      "cell_type": "markdown",
      "source": [
        "## Implement The CTC Backward Algorithm (4 points)"
      ],
      "metadata": {
        "id": "AOSUt5iox8B6"
      }
    },
    {
      "cell_type": "code",
      "source": [
        "def backward_algorithm(sequence: List[int], matrix: np.ndarray) -> np.ndarray:\n",
        "    \"\"\"\n",
        "    :param sequence: a string converted to an index array by Tokenizer\n",
        "    :param matrix: A matrix of shape (K, T) with probability distributions over phonemes at each moment of time.\n",
        "    :return: the result of the backward pass of shape (2 * len(sequence) + 1, T)\n",
        "    \"\"\"\n",
        "    matrix = np.log(matrix)\n",
        "    blank = tokenizer.get_symbol_index(BLANK_SYMBOL)\n",
        "    mod_sequence = modify_sequence(sequence, blank)\n",
        "\n",
        "    L = len(mod_sequence)\n",
        "    T = matrix.shape[1]\n",
        "    betas = np.full([L, T], NEG_INF)\n",
        "\n",
        "    for t in reversed(range(T)):\n",
        "        for s in reversed(range(L)):\n",
        "            # First Step\n",
        "            if t == matrix.shape[1] - 1:\n",
        "                if s == L - 1:\n",
        "                    betas[s, t] = 0\n",
        "                elif s == L - 2:\n",
        "                    betas[L - 2, t] = 0\n",
        "                elif s < L - 2:\n",
        "                    betas[s, t] = NEG_INF\n",
        "            # Lower Diagonal Zeros\n",
        "            elif s > 2 * t:\n",
        "                betas[s, t] = NEG_INF\n",
        "            else:\n",
        "                if s == len(mod_sequence) - 1:\n",
        "                    betas[s, t] = log_mult(betas[s, t + 1], matrix[mod_sequence[s], t])\n",
        "                elif s == len(mod_sequence) - 2:\n",
        "                    betas[s, t] = log_mult(logsumexp(betas[s, t + 1], betas[s + 1, t + 1]), matrix[mod_sequence[s], t])\n",
        "                else:\n",
        "                    if mod_sequence[s] == blank or mod_sequence[s] == mod_sequence[s + 2]:\n",
        "                        betas[s, t] = log_mult(logsumexp(betas[s, t + 1], betas[s + 1, t + 1]), matrix[mod_sequence[s], t])\n",
        "                    else:                \n",
        "                        betas[s, t] = log_mult(logsumexp(betas[s, t + 1], betas[s + 1, t + 1], betas[s + 2, t + 1]), matrix[mod_sequence[s], t])\n",
        "      \n",
        "    return betas"
      ],
      "metadata": {
        "id": "hTaA3O8nHArw"
      },
      "execution_count": 12,
      "outputs": []
    },
    {
      "cell_type": "code",
      "source": [
        "# Load numpy matrix, add axis [classes,time]\n",
        "matrix = np.loadtxt(os.path.join(week_05_path, 'test_matrix.txt'))\n",
        "\n",
        "# Create label_sequence\n",
        "labels_indices = tokenizer.text_to_indices('there se ms no good reason for believing that twillc ange')\n",
        "\n",
        "betas = backward_algorithm(labels_indices, matrix)"
      ],
      "metadata": {
        "id": "SGsP16KOT866"
      },
      "execution_count": 13,
      "outputs": []
    },
    {
      "cell_type": "code",
      "source": [
        "im = plt.imshow(np.exp(betas), aspect='auto', interpolation='nearest')\n",
        "plt.tight_layout()\n",
        "\n",
        "plt.colorbar(im);"
      ],
      "metadata": {
        "colab": {
          "base_uri": "https://localhost:8080/",
          "height": 298
        },
        "id": "2YcVaKAb0lIn",
        "outputId": "51f6c1c5-7d75-468b-d6d2-83e0de749723"
      },
      "execution_count": 14,
      "outputs": [
        {
          "output_type": "display_data",
          "data": {
            "text/plain": [
              "<Figure size 432x288 with 2 Axes>"
            ],
            "image/png": "[encoded data removed]"
          },
          "metadata": {
            "needs_background": "light"
          }
        }
      ]
    },
    {
      "cell_type": "markdown",
      "metadata": {
        "id": "TULzSmkZxgEn"
      },
      "source": [
        "## Obtain Soft-Alignment (2 points)\n"
      ]
    },
    {
      "cell_type": "code",
      "source": [
        "def soft_alignment(labels_indices: List[int], matrix: np.ndarray) -> np.ndarray:\n",
        "    \"\"\"\n",
        "    Returns the alignment coefficients for the input sequence\n",
        "    \"\"\"\n",
        "    alphas = forward_algorithm(labels_indices, matrix)\n",
        "    betas = backward_algorithm(labels_indices, matrix)\n",
        "\n",
        "    # Move from log space back to prob space\n",
        "    align = np.exp(alphas) * np.exp(betas)\n",
        "\n",
        "    # Normalize Alignment\n",
        "    align = align / np.sum(align, axis=0)\n",
        "\n",
        "    return align"
      ],
      "metadata": {
        "id": "r9Xo-1tvHEBX"
      },
      "execution_count": 15,
      "outputs": []
    },
    {
      "cell_type": "code",
      "execution_count": 16,
      "metadata": {
        "colab": {
          "base_uri": "https://localhost:8080/",
          "height": 402
        },
        "id": "pZDg_MD0xyUu",
        "outputId": "a8e68c3e-5dc8-4c2c-f92a-35e6792fdeeb"
      },
      "outputs": [
        {
          "output_type": "stream",
          "name": "stderr",
          "text": [
            "/usr/local/lib/python3.7/dist-packages/ipykernel_launcher.py:19: RuntimeWarning: divide by zero encountered in log\n"
          ]
        },
        {
          "output_type": "display_data",
          "data": {
            "text/plain": [
              "<Figure size 1125x375 with 4 Axes>"
            ],
            "image/png": "[encoded data removed]"
          },
          "metadata": {
            "needs_background": "light"
          }
        }
      ],
      "source": [
        "#!L\n",
        "# Test your implementation\n",
        "\n",
        "# Load numpy matrix, add axis [classes,time]\n",
        "matrix = np.loadtxt(os.path.join(week_05_path, 'test_matrix.txt'))\n",
        "\n",
        "# Create label_sequence\n",
        "labels_indices = tokenizer.text_to_indices('there se ms no good reason for believing that twillc ange')\n",
        "\n",
        "align = soft_alignment(labels_indices, matrix)\n",
        "f, ax = plt.subplots(1, 2, dpi=75, figsize=(15, 5))\n",
        "\n",
        "im = ax[0].imshow(align, aspect='auto', interpolation='nearest')\n",
        "ax[0].set_title(\"Alignment\")\n",
        "ax[0].set_ylabel(\"Phonemes\")\n",
        "ax[0].set_xlabel(\"Time\")\n",
        "f.colorbar(im, ax=ax[0])\n",
        "\n",
        "im = ax[1].imshow(np.log(align), aspect='auto', interpolation='nearest')\n",
        "ax[1].set_title(\"Alignment in log scale\")\n",
        "ax[1].set_ylabel(\"Phonemes\")\n",
        "ax[1].set_xlabel(\"Time\")\n",
        "f.colorbar(im, ax=ax[1])\n",
        "\n",
        "plt.tight_layout()\n",
        "\n",
        "ref_align = np.loadtxt(os.path.join(week_05_path, 'soft_alignment.txt'))\n",
        "assert np.allclose(ref_align, align)"
      ]
    },
    {
      "cell_type": "code",
      "source": [
        "im = plt.imshow(ref_align - align, aspect='auto', interpolation='nearest')\n",
        "\n",
        "plt.tight_layout()\n",
        "plt.colorbar(im);"
      ],
      "metadata": {
        "colab": {
          "base_uri": "https://localhost:8080/",
          "height": 305
        },
        "id": "XOWdX996dfvi",
        "outputId": "c898af0d-05ee-4e2b-c779-ceb98f34d90f"
      },
      "execution_count": 17,
      "outputs": [
        {
          "output_type": "display_data",
          "data": {
            "text/plain": [
              "<Figure size 432x288 with 2 Axes>"
            ],
            "image/png": "[encoded data removed]"
          },
          "metadata": {
            "needs_background": "light"
          }
        }
      ]
    },
    {
      "cell_type": "markdown",
      "metadata": {
        "id": "doD9f6gZ2RXx"
      },
      "source": [
        "# Homework 2: CTC Speech Recognition System\n",
        "You can do this notebook in google collab, or in datasphere (if you are brave enougth)\n",
        "\n",
        "### Grades criteria\n",
        "\n",
        "```\n",
        "[ ] (2 points) Implement a Greedy Decoder\n",
        "[ ] (8 points) Implement a Prefix Decoder\n",
        "[ ] (20 points) Train ASR System, WER criterions: 60-50 -- 6 points, 50-40 -- 10 points, 40-35 -- 14 points, <=35 -- 20 points. + 1 bonus point per 1% WER below 30\n",
        "[ ] (5 points) Compare performance of DNN, RNN and BiRNN models in terms of WER, training time and other properties\n",
        "[ ] (5 points) Compare alignments obtained from DNN, RNN and BiRNN models\n",
        "```\n",
        "\n",
        "The results of this task are two artifacts:\n",
        "1. this Jupiter Notebook (`.ipynb`) with completed cells, training progress and final score.\n",
        "2. file with predictions of your best model for the test data\n",
        "\n",
        "Save the artifacts to a directory named `{your last name}_{your first name}_hw2` and pack them in `.zip` archive.\n"
      ]
    },
    {
      "cell_type": "markdown",
      "source": [
        "## Implementing a Decoder (10 points)\n",
        "\n",
        "Before you can start having fun with a CTC ASR model, you first need to make sure that you can correctly \"decode\" or generate text from a working model. This can be done in two ways - using a Greedy Decoder, which is simple and fast, or using a Prefix Beam Search decoder, which is slower, but takes advantages of the fact that multiple plath though a CTC trellis can map to the sample sentence. In the following exercise you will implement both decoders."
      ],
      "metadata": {
        "id": "PfZPlnRjjmOJ"
      }
    },
    {
      "cell_type": "markdown",
      "metadata": {
        "id": "pQNJqD8mx_0i"
      },
      "source": [
        "### Implement a Greedy Best-Path Decoder! (2 points)\n",
        "\n",
        "After we’ve trained the model, we’d like to use it to find a likely output for a given input. Your goal is to implement a Greedy Best-Path decoder. Remember than in CTC the joint distribution over states factors out into a product of marginals:\n",
        "\n",
        "$${\\tt P}(\\mathbf{z}_{1:T}|\\mathbf{X}_{1:T},\\mathbf{\\theta}) = \\prod_{t = 1}^T{\\tt P}(z_t|\\mathbf{X}_{1:T},\\mathbf{\\theta})$$\n",
        "\n",
        "We can take the most likely output at each time-step, which gives us the alignment with the highest probability:\n",
        "\n",
        "$$\\mathbf{\\pi}^*_{1:T} = \\arg \\max_{\\mathbf{\\pi}_{1:T} } \\prod_{t=1}^T {\\tt P}(z_t = \\pi_t|\\mathbf{X}_{1:T})$$\n",
        "\n",
        "Then merge repeats and remove blanks."
      ]
    },
    {
      "cell_type": "code",
      "execution_count": 18,
      "metadata": {
        "id": "qQhIqk30x4nv"
      },
      "outputs": [],
      "source": [
        "#!L\n",
        "def greedy_decoder(output: torch.Tensor, labels: List[torch.Tensor], \n",
        "                   label_lengths: List[int], collapse_repeated: bool = True) -> Tuple[np.ndarray, np.ndarray]:\n",
        "    \"\"\"\n",
        "    :param output: torch.Tensor of Probs or Log-Probs of shape [batch, time, classes]\n",
        "    :param labels: list of label indices converted to torch.Tensors\n",
        "    :param label_lengths: list of label lengths (without padding)\n",
        "    :param collapse_repeated: whether the repeated characters should be deduplicated\n",
        "    :return: the result of the decoding and the target sequence\n",
        "    \"\"\"\n",
        "    blank_label = tokenizer.get_symbol_index(BLANK_SYMBOL)\n",
        "\n",
        "    # Get max classes\n",
        "    ########################\n",
        "    arg_maxes = torch.argmax(output, dim=2)\n",
        "    ########################\n",
        "\n",
        "    decodes = []\n",
        "    targets = []\n",
        "\n",
        "    # For targets and decodes remove repeats and blanks\n",
        "    for i, args in enumerate(arg_maxes):\n",
        "        decode = []\n",
        "        true_labels = labels[i][:label_lengths[i]].tolist()\n",
        "        targets.append(tokenizer.indices_to_text(true_labels))\n",
        "\n",
        "        # Remove repeats, then remove blanks\n",
        "        prev = blank_label\n",
        "        for j, index in enumerate(args):\n",
        "            if index != blank_label and prev != index:\n",
        "                decode.append(index.item())\n",
        "            \n",
        "            prev = index\n",
        "                \n",
        "        decodes.append(tokenizer.indices_to_text(decode))\n",
        "    return decodes, targets"
      ]
    },
    {
      "cell_type": "code",
      "execution_count": 19,
      "metadata": {
        "id": "NXzPxr0DyDCK"
      },
      "outputs": [],
      "source": [
        "#!L\n",
        "# TESTING THE GREEDY DECODER\n",
        "\n",
        "# Load numpy matrix, make its shape be in the form of [batch, classes, time]\n",
        "matrix = np.loadtxt(os.path.join(week_05_path, 'test_matrix.txt'))[np.newaxis, :, :]\n",
        "\n",
        "# Turn into Torch Tensor of shape [batch, time, classes]\n",
        "matrix = torch.Tensor(matrix).transpose(1, 2)\n",
        "\n",
        "# Convert indices into torch.Tensor\n",
        "labels_indices = torch.Tensor(tokenizer.text_to_indices('there seems no good reason for believing that it will change'))\n",
        "\n",
        "# Run the Decoder\n",
        "decodes, targets = greedy_decoder(matrix, [labels_indices], [len(labels_indices)])\n",
        "\n",
        "assert decodes[0] == 'there se ms no good reason for believing that twillc ange'\n",
        "assert targets[0] == 'there seems no good reason for believing that it will change'"
      ]
    },
    {
      "cell_type": "markdown",
      "metadata": {
        "id": "oe_g0pXw21Tn"
      },
      "source": [
        "### Implement Prefix Decoding With LM (8 points)"
      ]
    },
    {
      "cell_type": "markdown",
      "metadata": {
        "id": "Hzt2nczZY0Hz"
      },
      "source": [
        "The greedy decoder doesn't take into account the fact that a single output can have many alignments. For example, imagine that the true label for a phoneme sequence is $[a]$. Assume that alignments $[a, a, \\epsilon]$ and $[a, a, a]$ individually have lower probability than the probability $[b, b, b]$, but the sum of their probabilities is higher. In this case, the greedy decoder would choose the wrong alignment $[b, b, b]$ and propose a wrong hypothesis $[b]$ instead of $[a]$.\n",
        "\n",
        "Prefix decoding considers probabilities of multiple paths and merges them. It can also add external language model.\n",
        "\n",
        "<p style=\"text-align:center;\"><img src=\"http://drive.google.com/uc?export=view&id=1_X9NfoSe8HLKfAErDtr0rBsIxoejA1kq\" height=\"500px\" width=\"900px\"> \n",
        "\n",
        "[(picture source)](https://distill.pub/2017/ctc/)"
      ]
    },
    {
      "cell_type": "markdown",
      "metadata": {
        "id": "UpAahfOPY0Hz"
      },
      "source": [
        "Prefix decoding algorithm has 3 nested loops:\n",
        "- over time - we extend prefixes up to T times\n",
        "- over prefixes in the beam\n",
        "- over possible extensions of a prefix\n",
        "\n",
        "Each prefix can be extended in three possible ways:\n",
        "- with a blank\n",
        "- with a repeating character\n",
        "- with a non-repeating character\n",
        "\n",
        "We must keep track of two probabilities per prefix:\n",
        "- The probability of prefix ending with blank $P_b(t, s)$. \n",
        "- The probability of prefix not ending with blank $P_{nb}(t, s)$\n",
        "\n",
        "Here $t$ denotes time step and $s$ denotes a prefix we got after $t$ time steps.\n",
        "\n",
        "We start with an empty string prefix: \n",
        "\n",
        "$$\n",
        "    P_b(0, \\text{\"\"}) = 1\n",
        "$$\n",
        "$$\n",
        "    P_{nb}(0, \\text{\"\"}) = 0\n",
        "$$\n",
        "\n",
        "If we extend $s$ with a blank, update the probability of ending with a blank:\n",
        "\n",
        "$$\n",
        "    P_b(t, s) = P(\\epsilon | x_t) \\cdot (P_b(t - 1, s) + P_{nb}(t - 1, s))\n",
        "$$\n",
        "\n",
        "The prefix $s$ is not updated because blanks are eliminated in the end.\n",
        "\n",
        "If we extend with a repeat character $c$, there are two options:\n",
        "1. The previous symbol is a blank, and now we extend the prefix\n",
        "2. The previous symbol is not a blank, so we don't extend the prefix (repeats are merged)\n",
        "\n",
        "In this case, the probability $P_{nb}$ is updated as follows:\n",
        "\n",
        "$$\n",
        "    P_{nb}(t, s + c) = P(c | x_t) \\cdot P_b(t - 1, s)\n",
        "$$\n",
        "$$\n",
        "    P_{nb}(t, s) = P(c | x_t) \\cdot P_{nb}(t - 1, s)\n",
        "$$\n",
        "\n",
        "Finally, consider extending $s$ at time $t$ with a non-repeat character. It can follow both blank and non-blank characters, so the probability $P_{nb}$ is updated as follows:\n",
        "\n",
        "$$\n",
        "    P_{nb}(t, s + c) = P(c | x_t) \\cdot (P_b(t - 1, s) + P_{nb}(t - 1, s))\n",
        "$$\n",
        "\n",
        "We may also want to apply a language model during decoding, but only in the case we have a new complete word. This happens when the current symbol is a non-repeat space. As CTC is a discriminative model, LMs can only be integrated as a heuristic:\n",
        "\n",
        "$$\n",
        "    \\mathbf{w}^* = \\arg \\max_\\mathbf{w} \\underbrace{P(\\mathbf{w} | \\mathbf{X}_{1:T})}_{\\text{CTC prob}} \\cdot \\underbrace{P(\\mathbf{w})^{\\alpha}}_{\\text{LM prob}} \\cdot \\underbrace{|\\mathbf{w}|^\\beta}_{\\text{Length correction}}\n",
        "$$\n",
        "\n",
        "The formula for an update of $P_{nb}$ when LM is used and the current symbol is a non-repeat space:\n",
        "\n",
        "$$\n",
        "    P_{nb}(t, s + c) = P_{\\text{LM}}(s)^\\alpha \\cdot |s|^\\beta \\cdot P(c | x_t) \\cdot (P_b(t - 1, s) + P_{nb}(t - 1, s))\n",
        "$$"
      ]
    },
    {
      "cell_type": "code",
      "execution_count": 20,
      "metadata": {
        "id": "AqYtZjJhY0H0"
      },
      "outputs": [],
      "source": [
        "LanguageModel = TypeVar(\"LanguageModel\")\n",
        "# Helper function\n",
        "\n",
        "class Beam:\n",
        "    def __init__(self, beam_size: int) -> None:\n",
        "        self.beam_size = beam_size\n",
        "        \n",
        "        fn = lambda : (NEG_INF, NEG_INF)\n",
        "        self.candidates = defaultdict(fn)\n",
        "        self.top_candidates_list = [(tuple(), (0.0, NEG_INF))]\n",
        "        \n",
        "    def get_probs_for_prefix(self, prefix: str) -> Tuple[float, float]:\n",
        "        p_blank, p_not_blank = self.candidates[prefix]\n",
        "        return p_blank, p_not_blank\n",
        "        \n",
        "    def update_probs_for_prefix(self, prefix: str, next_p_blank: float, next_p_not_blank: float) -> None:\n",
        "        self.candidates[prefix] = (next_p_blank, next_p_not_blank)\n",
        "        # if next_p_blank == NEG_INF and next_p_not_blank == NEG_INF:\n",
        "        #     print(prefix)\n",
        "        #     raise Exception\n",
        "        \n",
        "    def update_top_candidates_list(self) -> None:\n",
        "        top_candidates = sorted(\n",
        "            self.candidates.items(), \n",
        "            key=lambda x: logsumexp(*x[1]), \n",
        "            reverse=True\n",
        "        )\n",
        "        self.top_candidates_list = top_candidates[:self.beam_size]\n",
        "        \n",
        "\n",
        "def calculate_probability_score_with_lm(lm: LanguageModel, prefix: str) -> float:\n",
        "    text = tokenizer.indices_to_text(prefix).upper().strip()    # Use upper case for LM and remove the trailing space\n",
        "    lm_prob = lm.log_p(text)             \n",
        "    score = lm_prob / np.log10(np.e)    # Convert to natural log, as ARPA LM uses log10   \n",
        "    return score"
      ]
    },
    {
      "cell_type": "code",
      "execution_count": 21,
      "metadata": {
        "id": "SJ2pts572m5W"
      },
      "outputs": [],
      "source": [
        "#!L\n",
        "\n",
        "def decode(probs: np.ndarray, beam_size: int = 5, lm: Optional[LanguageModel] = None, \n",
        "           prune: float = 1e-5, alpha: float = 0.1, beta: float = 2):\n",
        "    \"\"\"\n",
        "    :param probs: A matrix of shape (T, K) with probability distributions over phonemes at each moment of time.\n",
        "    :param beam_size: the size of beams\n",
        "    :lm: arpa language model\n",
        "    :prune: the minimal probability for a symbol at which it can be added to a prefix\n",
        "    :alpha: the parameter to de-weight the LM probability\n",
        "    :beta: the parameter to up-weight the length correction term\n",
        "    :return: the prefix with the highest sum of probabilites P_blank and P_not_blank\n",
        "    \"\"\"\n",
        "    T, S = probs.shape\n",
        "    probs = np.log(probs)\n",
        "    blank = tokenizer.get_symbol_index(BLANK_SYMBOL)\n",
        "    space = tokenizer.get_symbol_index(\" \")\n",
        "    prune = NEG_INF if prune == 0.0 else np.log(prune)\n",
        "    \n",
        "    beam = Beam(beam_size)\n",
        "\n",
        "    for t in range(T):\n",
        "        next_beam = Beam(beam_size)\n",
        "\n",
        "        for s in range(S):\n",
        "            p = probs[t, s]\n",
        "            if p < prune: # Prune the vocab\n",
        "                continue\n",
        "\n",
        "            for prefix, (p_blank, p_not_blank) in beam.top_candidates_list:\n",
        "                if s == blank:                    \n",
        "                    p_b, p_nb = next_beam.get_probs_for_prefix(prefix)\n",
        "                    next_beam.update_probs_for_prefix(\n",
        "                        prefix = prefix,\n",
        "                        next_p_blank = logsumexp(p_b, log_mult(p, logsumexp(p_blank, p_not_blank))),\n",
        "                        next_p_not_blank = p_nb\n",
        "                    )\n",
        "                    continue\n",
        "\n",
        "                end_t = prefix[-1] if prefix else None\n",
        "                n_prefix = prefix + (s,)\n",
        "                \n",
        "                if s == end_t:\n",
        "                    p_b, p_nb = next_beam.get_probs_for_prefix(n_prefix)\n",
        "                    next_beam.update_probs_for_prefix(\n",
        "                        prefix = n_prefix,\n",
        "                        next_p_blank = p_b,\n",
        "                        next_p_not_blank = logsumexp(p_nb, log_mult(p, p_blank)),\n",
        "                    )\n",
        "                    \n",
        "                    p_b, p_nb = next_beam.get_probs_for_prefix(prefix)\n",
        "                    next_beam.update_probs_for_prefix(\n",
        "                        prefix = prefix,\n",
        "                        next_p_blank = p_b,\n",
        "                        next_p_not_blank = logsumexp(p_nb, log_mult(p, p_not_blank)),\n",
        "                    )\n",
        "                elif s == space and end_t is not None and lm is not None:\n",
        "                    p_b, p_nb = next_beam.get_probs_for_prefix(n_prefix)\n",
        "                    score = calculate_probability_score_with_lm(lm, n_prefix)\n",
        "                    length = len(tokenizer.indices_to_text(prefix))\n",
        "                    \n",
        "                    next_beam.update_probs_for_prefix(\n",
        "                        prefix = n_prefix,\n",
        "                        next_p_blank = p_b,\n",
        "                        next_p_not_blank = logsumexp(p_nb, log_mult(score * alpha, np.log(len(prefix) ** beta), p, logsumexp(p_blank, p_not_blank))),\n",
        "                    )\n",
        "                else:\n",
        "                    p_b, p_nb = next_beam.get_probs_for_prefix(n_prefix)\n",
        "                    next_beam.update_probs_for_prefix(\n",
        "                        prefix = n_prefix,\n",
        "                        next_p_blank = p_b,\n",
        "                        next_p_not_blank = logsumexp(p_nb, log_mult(p, logsumexp(p_not_blank, p_blank))),\n",
        "                    )\n",
        "\n",
        "        next_beam.update_top_candidates_list()\n",
        "        beam = next_beam\n",
        "\n",
        "    best = beam.top_candidates_list[0]\n",
        "    return best[0], -logsumexp(*best[1])\n",
        "\n",
        "\n",
        "def beam_search_decoder(probs: np.ndarray, labels: List[List[int]], label_lengths: List[int], \n",
        "                        input_lengths: List[int], lm: LanguageModel, beam_size: int = 5,\n",
        "                        prune: float = 1e-3, alpha: float = 0.1, beta: float = 0.1):\n",
        "    probs = probs.cpu().detach().numpy()\n",
        "    decodes, targets = [], []\n",
        "    \n",
        "    for i, prob in enumerate(probs):\n",
        "        targets.append(tokenizer.indices_to_text(labels[i][:label_lengths[i]].tolist()))\n",
        "        int_seq, _ = decode(prob[:input_lengths[i]], lm=lm, beam_size=beam_size, prune=prune, alpha=alpha, beta=beta)\n",
        "        decodes.append(tokenizer.indices_to_text(int_seq))\n",
        "        \n",
        "    return decodes, targets"
      ]
    },
    {
      "cell_type": "code",
      "execution_count": 22,
      "metadata": {
        "id": "m2HR1xkUY0H0"
      },
      "outputs": [],
      "source": [
        "# Create LM\n",
        "alm = arpa.loadf(os.path.join(week_05_path, '3-gram.pruned.1e-7.arpa'))[0]\n",
        "alm._unk = '<UNK>'"
      ]
    },
    {
      "cell_type": "code",
      "execution_count": 23,
      "metadata": {
        "id": "39O8ZrtJ24k9",
        "tags": [],
        "colab": {
          "base_uri": "https://localhost:8080/"
        },
        "outputId": "481ca13b-5577-4dd9-aa19-703bb38570f2"
      },
      "outputs": [
        {
          "output_type": "stream",
          "name": "stdout",
          "text": [
            "there se ms no good reason for believing that twil c ange\n",
            "there seems no good reason for believing that twil c ange\n"
          ]
        }
      ],
      "source": [
        "#!L\n",
        "# TESTING PREFIX Decoder\n",
        "\n",
        "# Load numpy matrix, add axis [batch, classes, time]\n",
        "matrix = np.loadtxt(os.path.join(week_05_path, 'test_matrix.txt'))[np.newaxis, :, :]\n",
        "\n",
        "# Turn into Torch Tensor of shape [batch, time, classes]\n",
        "matrix = torch.Tensor(matrix).transpose(1, 2)\n",
        "\n",
        "labels_indices = torch.Tensor(tokenizer.text_to_indices('there seems no good reason for believing that it will change'))\n",
        "\n",
        "# Run the Decoder\n",
        "decodes, targets = beam_search_decoder(\n",
        "    matrix, [labels_indices], [len(labels_indices)], [matrix.size()[1]], \n",
        "    lm=None, beam_size=5, prune=1e-3, alpha=0.1, beta=0.3\n",
        ")\n",
        "\n",
        "print(decodes[0])\n",
        "\n",
        "assert decodes[0] == 'there se ms no good reason for believing that twil c ange'\n",
        "assert targets[0] == 'there seems no good reason for believing that it will change'\n",
        "\n",
        "decodes, targets = beam_search_decoder(\n",
        "    matrix, [labels_indices], [len(labels_indices)], [matrix.size()[1]], \n",
        "    lm=alm, beam_size=5, prune=1e-3, alpha=0.1, beta=0.3\n",
        ")\n",
        "\n",
        "print(decodes[0])\n",
        "\n",
        "assert decodes[0] == 'there seems no good reason for believing that twil c ange'\n",
        "assert targets[0] == 'there seems no good reason for believing that it will change'"
      ]
    },
    {
      "cell_type": "markdown",
      "metadata": {
        "id": "55HlLr7W63JJ"
      },
      "source": [
        "## Implementing, training and evaluationg your CTC ASR model"
      ]
    },
    {
      "cell_type": "markdown",
      "metadata": {
        "id": "yyU-wpIU67yu"
      },
      "source": [
        "### Create a Dataloader\n",
        "\n",
        "The first step is to create a dataloader to download and load and preprocess LibriSpeech acoustic data. \n",
        "\n",
        "The creative options you have at this stage are:\n",
        "\n",
        "* The sample rate and number of mel-bins.\n",
        "* Various forms of data agumentation"
      ]
    },
    {
      "cell_type": "code",
      "execution_count": 24,
      "metadata": {
        "id": "qaeFHkHT2jqu",
        "colab": {
          "base_uri": "https://localhost:8080/",
          "height": 81,
          "referenced_widgets": [
            "6f8d068dcad74d19982133ac6e928183",
            "c0a8f777aca642af8e74c75db64587f2",
            "b5e4211b98d84c91ab60f91d7b5f1a98",
            "7a65be0f9852487dacbfa1b05863029f",
            "a852502754794e5483febbeb576d12f5",
            "7077999c7f5c4c98af1830abbe5e061c",
            "60959fc54feb4775a349a43ccbaec612",
            "7ce20f3a7c47473cb6759dc9481bc77e",
            "ab6109bd6c0f412491566cc2a493dbc5",
            "3048aba501eb4288bad46a8142d827ab",
            "4122a51e91bd45c28cf6682f012b52d9",
            "f5ddff26f6a34d978996c387e5c4350f",
            "af8f185e70054eeead4a9c44c8d50d11",
            "d3982515fe61436899df25202aeb6e93",
            "e0a986e589464c6b815d04c006be76ad",
            "b64802380589423f89ac27d2cad6eb59",
            "e93f2e7fc3a24a8ea580484cc0354377",
            "c48476dcd4ed4bf39bda4848642256fc",
            "dd8740ca63e444a5843ccbeadb78b066",
            "2d09ea496b1b441986e1375e0b3095e1",
            "7f60202d95e64f4badbe33032840263c",
            "b08377725f774526bb32f8227c2709f5"
          ]
        },
        "outputId": "028af4a0-79e8-48a9-cb05-32c8c9d77a3e"
      },
      "outputs": [
        {
          "output_type": "display_data",
          "data": {
            "text/plain": [
              "  0%|          | 0.00/5.95G [00:00<?, ?B/s]"
            ],
            "application/vnd.jupyter.widget-view+json": {
              "version_major": 2,
              "version_minor": 0,
              "model_id": "6f8d068dcad74d19982133ac6e928183"
            }
          },
          "metadata": {}
        },
        {
          "output_type": "display_data",
          "data": {
            "text/plain": [
              "  0%|          | 0.00/331M [00:00<?, ?B/s]"
            ],
            "application/vnd.jupyter.widget-view+json": {
              "version_major": 2,
              "version_minor": 0,
              "model_id": "f5ddff26f6a34d978996c387e5c4350f"
            }
          },
          "metadata": {}
        }
      ],
      "source": [
        "#!L\n",
        "# Download LibriSpeech 100hr training and test data\n",
        "\n",
        "if not os.path.isdir(\"./data\"):\n",
        "    os.makedirs(\"./data\")\n",
        "\n",
        "train_dataset = torchaudio.datasets.LIBRISPEECH(\"./data\", url=\"train-clean-100\", download=True)\n",
        "test_dataset = torchaudio.datasets.LIBRISPEECH(\"./data\", url=\"test-clean\", download=True)"
      ]
    },
    {
      "cell_type": "code",
      "execution_count": 25,
      "metadata": {
        "id": "ZFSPjx7zY0H2",
        "colab": {
          "base_uri": "https://localhost:8080/"
        },
        "outputId": "10cc7e76-e57d-4e07-b67f-cdecd4d2829f"
      },
      "outputs": [
        {
          "output_type": "stream",
          "name": "stderr",
          "text": [
            "/usr/local/lib/python3.7/dist-packages/torchaudio/functional/functional.py:508: UserWarning: At least one mel filterbank has all zero values. The value for `n_mels` (128) may be set too high. Or, the value for `n_freqs` (201) may be set too low.\n",
            "  \"At least one mel filterbank has all zero values. \"\n"
          ]
        }
      ],
      "source": [
        "#!L\n",
        "from torchaudio.transforms import Spectrogram, MelSpectrogram, AmplitudeToDB, MFCC\n",
        "from torchaudio.transforms import FrequencyMasking, TimeMasking\n",
        "\n",
        "# For train you can use SpecAugment data aug here.\n",
        "train_audio_transforms = nn.Sequential(\n",
        "    ################################################################################\n",
        "    #Add features transformations here\n",
        "    MelSpectrogram(sample_rate=16000, n_mels=128),\n",
        "    # MFCC(sample_rate=16000),\n",
        "    # Can add data augmentation here!\n",
        "    FrequencyMasking(freq_mask_param=15),\n",
        "    TimeMasking(time_mask_param=35),\n",
        "    ################################################################################\n",
        ")\n",
        "\n",
        "test_audio_transforms = nn.Sequential(\n",
        "    ################################################################################\n",
        "    #Add feature transformations here\n",
        "    MelSpectrogram(sample_rate=16000, n_mels=128),\n",
        "    # MFCC(sample_rate=16000),\n",
        "    ################################################################################\n",
        ")"
      ]
    },
    {
      "cell_type": "code",
      "execution_count": 26,
      "metadata": {
        "id": "noWmJGQe67IJ"
      },
      "outputs": [],
      "source": [
        "class Collate:\n",
        "  def __init__(self, data_type = 'test') -> None:\n",
        "        super(Collate, self).__init__() \n",
        "\n",
        "        self.data_type = data_type\n",
        "\n",
        "  def __call__(self, data: torchaudio.datasets.librispeech.LIBRISPEECH) -> Tuple[List[torch.Tensor], ...]:\n",
        "        \"\"\"\n",
        "        :param data: is a list of tuples of [features, label], where features has dimensions [n_features, length]\n",
        "        \"returns features, lengths, labels: \n",
        "              features is a Tensor [batchsize, features, max_length]\n",
        "              lengths is a Tensor of lengths [batchsize]\n",
        "              labels is a Tesnor of targets [batchsize]\n",
        "        \"\"\"\n",
        "\n",
        "        spectrograms = []\n",
        "        labels = []\n",
        "        input_lengths = []\n",
        "        label_lengths = []\n",
        "        for (waveform, _, utterance, _, _, _) in data:\n",
        "            if self.data_type == 'train':\n",
        "                spec = train_audio_transforms(waveform).squeeze(0).transpose(0, 1)\n",
        "            elif self.data_type == 'test':\n",
        "                spec = test_audio_transforms(waveform).squeeze(0).transpose(0, 1)\n",
        "            else:\n",
        "                raise Exception('data_type should be train or valid')\n",
        "            spectrograms.append(spec)\n",
        "            label = torch.Tensor(tokenizer.text_to_indices(utterance.lower()))\n",
        "            labels.append(label)\n",
        "            input_lengths.append(spec.shape[0] // 2)\n",
        "            label_lengths.append(len(label))\n",
        "\n",
        "        spectrograms = nn.utils.rnn.pad_sequence(spectrograms, batch_first=True).unsqueeze(1).transpose(2, 3)\n",
        "        labels = nn.utils.rnn.pad_sequence(labels, batch_first=True)\n",
        "\n",
        "        return spectrograms, labels, input_lengths, label_lengths\n"
      ]
    },
    {
      "cell_type": "markdown",
      "metadata": {
        "id": "kPYITlXT7AoG"
      },
      "source": [
        "### Implement a Neural Network Model\n",
        "\n",
        "You should try out a few different model types:\n",
        "- Feed-Forward Model (DNN)\n",
        "- Recurrent Model (GRU or LSTM)\n",
        "- Bidirectional Recurrent Model (bi-GRU or bi-LSTM)\n",
        "- Something different for bonus points\n",
        "\n",
        "Before any of this models you can use convolutional layers, as shown in the example below\n",
        "\n",
        "After your experiments you should write a report with comparison of different models in terms of different features, for example: parameters, training speed, resulting quality, spectrogram properties, and data augmentations. Remember, that for full mark you need to achive good WER \n",
        "\n",
        "WER criterions: 60-50 -- 6 points, 50-40 -- 10 points, 40-35 -- 14 points, <= 35 -- 20 points"
      ]
    },
    {
      "cell_type": "code",
      "execution_count": 27,
      "metadata": {
        "id": "c1eUPtQ57EoX"
      },
      "outputs": [],
      "source": [
        "#!L\n",
        "\n",
        "# Our model classes are just examples, you can change them as you want\n",
        "\n",
        "# Define model\n",
        "class CNNLayerNorm(nn.Module):\n",
        "    \"\"\"Layer normalization built for CNNs input\"\"\"\n",
        "\n",
        "    def __init__(self, n_feats: int) -> None:\n",
        "        super(CNNLayerNorm, self).__init__()\n",
        "        self.layer_norm = nn.LayerNorm(n_feats)\n",
        "\n",
        "    def forward(self, x: torch.Tensor) -> torch.Tensor:\n",
        "        # x (batch, channel, feature, time)\n",
        "        x = x.transpose(2, 3).contiguous()  # (batch, channel, time, feature)\n",
        "        x = self.layer_norm(x)\n",
        "        return x.transpose(2, 3).contiguous()  # (batch, channel, feature, time)\n",
        "\n",
        "\n",
        "class ResidualCNN(nn.Module):\n",
        "    \"\"\"Residual CNN inspired by https://arxiv.org/pdf/1603.05027.pdf\n",
        "        except with layer norm instead of batch norm\n",
        "    \"\"\"\n",
        "\n",
        "    def __init__(self, in_channels: int, out_channels: int, kernel: int, stride: int, dropout: float, n_feats: int) -> None:\n",
        "        super(ResidualCNN, self).__init__()\n",
        "        \n",
        "        self.cnn = nn.Sequential(\n",
        "            *([\n",
        "                CNNLayerNorm(n_feats),\n",
        "                nn.GELU(),\n",
        "                nn.Dropout(dropout),\n",
        "                nn.Conv2d(in_channels, out_channels, kernel_size=kernel, stride=stride, padding=kernel // 2),\n",
        "                CNNLayerNorm(n_feats),\n",
        "                nn.GELU(),\n",
        "                nn.Dropout(dropout),\n",
        "                nn.Conv2d(out_channels, out_channels, kernel_size=kernel, stride=stride, padding=kernel // 2),\n",
        "            ])\n",
        "        )\n",
        "        \n",
        "\n",
        "    def forward(self, x: torch.Tensor) -> torch.Tensor:\n",
        "        residual = x  # (batch, channel, feature, time)\n",
        "        x = self.cnn(x)\n",
        "        x += residual\n",
        "        return x  # (batch, channel, feature, time)\n",
        "\n",
        "\n",
        "class FeatureExtractor(nn.Module):\n",
        "\n",
        "    def __init__(self, n_cnn_layers: int, n_rnn_layers: int, rnn_dim: int,\n",
        "                 n_feats: int, stride: int = 2, dropout: float = 0.1) -> None:\n",
        "        super(FeatureExtractor, self).__init__()\n",
        "        n_feats = n_feats // 2\n",
        "        self.cnn = nn.Conv2d(1, 32, 3, stride=stride, padding=3 // 2)  # cnn for extracting heirachal features\n",
        "\n",
        "        # n residual cnn layers with filter size of 32\n",
        "        self.rescnn_layers = nn.Sequential(*[ResidualCNN(32, 32, kernel=3, \n",
        "                                                         stride=1, dropout=dropout, n_feats=n_feats) for _ in range(n_cnn_layers)])\n",
        "        self.fully_connected = nn.Linear(32 * n_feats, rnn_dim)\n",
        "      \n",
        "\n",
        "    def forward(self, x: torch.Tensor) -> torch.Tensor:\n",
        "        # [batchsize, features, max_length]\n",
        "        x = self.cnn(x)\n",
        "        x = self.rescnn_layers(x)\n",
        "        sizes = x.size()\n",
        "        x = x.view(sizes[0], sizes[1] * sizes[2], sizes[3])  # (batch, feature, time)\n",
        "        x = x.transpose(1, 2)  # (batch, time, feature)\n",
        "        x = self.fully_connected(x)\n",
        "        return x\n",
        "\n",
        "\n",
        "class CTCDNN(nn.Module):\n",
        "\n",
        "    def __init__(self, n_cnn_layers: int, n_rnn_layers: int, rnn_dim: int, n_class: int, \n",
        "                 n_feats: int, stride: int = 1, dropout: float = 0.1) -> None:\n",
        "        super(CTCDNN, self).__init__()\n",
        "        \n",
        "        self.feature_extractor = FeatureExtractor(n_cnn_layers, n_rnn_layers, rnn_dim,\n",
        "                 n_feats, stride, dropout)\n",
        "        \n",
        "        ########################\n",
        "        self.intermediate_layers = [nn.Linear(rnn_dim, rnn_dim * 2), nn.GELU(), nn.Dropout(dropout)]\n",
        "        self.intermediate_layers += [nn.Linear(rnn_dim * 2, rnn_dim * 2), nn.GELU(), nn.Dropout(dropout)] * (n_rnn_layers - 1)\n",
        "        self.intermediate_layers = nn.Sequential(*self.intermediate_layers)\n",
        "        ########################\n",
        "\n",
        "        self.classifier = nn.Sequential(\n",
        "            nn.Linear(rnn_dim*2, rnn_dim),\n",
        "            nn.GELU(),\n",
        "            nn.Dropout(dropout),\n",
        "            nn.Linear(rnn_dim, n_class)\n",
        "        )\n",
        "\n",
        "    def forward(self, x: torch.Tensor, input_lengths: torch.Tensor) -> torch.Tensor:\n",
        "        x = self.feature_extractor(x)\n",
        "        x = self.intermediate_layers(x)\n",
        "        x = self.classifier(x)\n",
        "        return x\n",
        "\n",
        "class GRUModule(nn.Module):\n",
        "\n",
        "    def __init__(self, rnn_dim, hidden_size, dropout, batch_first, \n",
        "                 bidirectional=False):\n",
        "        super(GRUModule, self).__init__()\n",
        "\n",
        "        self.BiGRU = nn.GRU(\n",
        "            input_size=rnn_dim, hidden_size=hidden_size,\n",
        "            num_layers=1, batch_first=batch_first, bidirectional=bidirectional)\n",
        "        self.layer_norm = nn.LayerNorm(rnn_dim)\n",
        "        self.dropout = nn.Dropout(dropout)\n",
        "\n",
        "    def forward(self, x):\n",
        "        x = self.layer_norm(x)\n",
        "        x = F.gelu(x)\n",
        "        x, _ = self.BiGRU(x)\n",
        "        x = self.dropout(x)\n",
        "        return x\n",
        "\n",
        "class CTCRNN(nn.Module):\n",
        "\n",
        "    def __init__(self, n_cnn_layers: int, n_rnn_layers: int, rnn_dim: int, n_class: int, \n",
        "                 n_feats: int, stride: int = 2, dropout: float = 0.1) -> None:\n",
        "        super(CTCRNN, self).__init__()\n",
        "\n",
        "        self.feature_extractor = FeatureExtractor(n_cnn_layers, n_rnn_layers, rnn_dim,\n",
        "                        n_feats, stride, dropout)\n",
        "\n",
        "        ########################\n",
        "        self.intermediate_layers = [\n",
        "            GRUModule(rnn_dim=rnn_dim,\n",
        "                      hidden_size=rnn_dim, dropout=dropout, batch_first=True)\n",
        "            for i in range(n_rnn_layers)\n",
        "        ]\n",
        "        self.intermediate_layers = nn.Sequential(*self.intermediate_layers)\n",
        "        ########################\n",
        "\n",
        "\n",
        "        self.classifier = nn.Linear(rnn_dim, n_class)\n",
        "\n",
        "    def forward(self, x: torch.Tensor, input_lengths: torch.Tensor) -> torch.Tensor:\n",
        "        x = self.feature_extractor(x)\n",
        "        x = self.intermediate_layers(x)\n",
        "        x = self.classifier(x)\n",
        "        return x\n",
        "\n",
        "\n",
        "class CTCBiRNN(nn.Module):\n",
        "\n",
        "    def __init__(self, n_cnn_layers: int, n_rnn_layers: int, rnn_dim: int, n_class: int, \n",
        "                 n_feats: int, stride: int = 2, dropout: float = 0.1) -> None:\n",
        "        super(CTCBiRNN, self).__init__()\n",
        "        \n",
        "        self.feature_extractor = FeatureExtractor(n_cnn_layers, n_rnn_layers, rnn_dim,\n",
        "                 n_feats, stride, dropout)\n",
        "\n",
        "        ########################\n",
        "        self.intermediate_layers = [\n",
        "            GRUModule(rnn_dim=rnn_dim,\n",
        "                      hidden_size=rnn_dim, dropout=dropout, batch_first=True, bidirectional=True)\n",
        "            for i in range(n_rnn_layers)\n",
        "        ]\n",
        "        self.intermediate_layers = nn.Sequential(*self.intermediate_layers)\n",
        "        ########################\n",
        "\n",
        "\n",
        "        self.classifier = nn.Linear(2 * rnn_dim, n_class)\n",
        "\n",
        "\n",
        "    def forward(self, x: torch.Tensor, input_lengths: torch.Tensor) -> torch.Tensor:\n",
        "        x = self.feature_extractor(x)\n",
        "        x = self.intermediate_layers(x)\n",
        "        x = self.classifier(x)\n",
        "        return x"
      ]
    },
    {
      "cell_type": "markdown",
      "metadata": {
        "id": "fmzKVa497Tav"
      },
      "source": [
        "### Training and Evaluation Code"
      ]
    },
    {
      "cell_type": "code",
      "execution_count": 28,
      "metadata": {
        "id": "v_O37QIX3nft"
      },
      "outputs": [],
      "source": [
        "#!L\n",
        "\n",
        "def train(model: nn.Module, device: str, train_loader: data.DataLoader, \n",
        "          criterion: nn.Module, optimizer: torch.optim.Optimizer, \n",
        "          scheduler: torch.optim.lr_scheduler, epoch: int) -> None:\n",
        "    model.train()\n",
        "    data_len = len(train_loader.dataset)\n",
        "    for batch_idx, _data in enumerate(train_loader):\n",
        "        spectrograms, labels, input_lengths, label_lengths = _data\n",
        "        spectrograms, labels = spectrograms.to(device), labels.to(device)\n",
        "\n",
        "        optimizer.zero_grad()\n",
        "\n",
        "        output = model(spectrograms, input_lengths)  # (batch, time, n_class)\n",
        "        output = F.log_softmax(output, dim=2)\n",
        "        output = output.transpose(0, 1)  # (time, batch, n_class)\n",
        "\n",
        "        loss = criterion(output, labels, input_lengths, label_lengths)\n",
        "        loss.backward()\n",
        "\n",
        "        optimizer.step()\n",
        "        scheduler.step()\n",
        "        if batch_idx % 100 == 0 or batch_idx == data_len:\n",
        "            print('Train Epoch: {} [{}/{} ({:.0f}%)]\\tLoss: {:.6f}'.format(\n",
        "                epoch, batch_idx * len(spectrograms), data_len,\n",
        "                       100. * batch_idx / len(train_loader), loss.item()))\n",
        "            wandb.log({'loss_train': loss.item()})\n",
        "\n",
        "\n",
        "def test(model: nn.Module, device: str, test_loader: data.DataLoader, \n",
        "         criterion: nn.Module, epoch: int, decode: str = 'Greedy', lm: LanguageModel = None, save_path: str = None) -> None:\n",
        "    print('Beginning eval...')\n",
        "    model.eval()\n",
        "    test_loss = 0\n",
        "    test_cer, test_wer = [], []\n",
        "    with torch.no_grad():\n",
        "        start = time.time()\n",
        "        for i, _data in enumerate(test_loader):\n",
        "            spectrograms, labels, input_lengths, label_lengths = _data\n",
        "            spectrograms, labels = spectrograms.to(device), labels.to(device)\n",
        "            \n",
        "            matrix = model(spectrograms, input_lengths)  # (batch, time, n_class)\n",
        "            matrix = F.log_softmax(matrix, dim=2)\n",
        "            probs = F.softmax(matrix,dim=2)\n",
        "            matrix = matrix.transpose(0, 1)  # (time, batch, n_class)\n",
        "                \n",
        "            if i == 3:\n",
        "              np.savetxt(f\"{save_path}_matrix.txt\", probs[0].cpu().numpy())\n",
        "              np.savetxt(f\"{save_path}_labels.txt\", labels[0].cpu().numpy())\n",
        "\n",
        "            loss = criterion(matrix, labels, input_lengths, label_lengths)\n",
        "            test_loss += loss.item() / len(test_loader)\n",
        "\n",
        "            if decode == 'Greedy':\n",
        "                decoded_preds, decoded_targets = greedy_decoder(matrix.transpose(0, 1), labels, label_lengths)\n",
        "            elif decode == 'BeamSearch':\n",
        "                ## THIS IS THE FUNCTION YOU SHOULD IMPLEMENT\n",
        "                decoded_preds, decoded_targets = beam_search_decoder(probs, labels, label_lengths, input_lengths, lm=lm)\n",
        "            for j in range(len(decoded_preds)):\n",
        "                test_cer.append(utils.cer(decoded_targets[j], decoded_preds[j]))\n",
        "                test_wer.append(utils.wer(decoded_targets[j], decoded_preds[j]))\n",
        "\n",
        "    avg_cer = sum(test_cer) / len(test_cer)\n",
        "    avg_wer = sum(test_wer) / len(test_wer)\n",
        "    wandb.log({'loss_test': test_loss, 'avg_cer': avg_cer, 'avg_wer': avg_wer})\n",
        "    print(\n",
        "        'Epoch: {:d}, Test set: Average loss: {:.4f}, Average CER: {:4f} Average WER: {:.4f}\\n'.format(epoch, test_loss,\n",
        "                                                                                                       avg_cer,\n",
        "                                                                                                       avg_wer))"
      ]
    },
    {
      "cell_type": "code",
      "execution_count": 29,
      "metadata": {
        "id": "iO-mKLPt7Xhb",
        "colab": {
          "base_uri": "https://localhost:8080/"
        },
        "outputId": "ca7f5dca-b338-4fed-b712-c8fe97deb5c9"
      },
      "outputs": [
        {
          "output_type": "stream",
          "name": "stdout",
          "text": [
            "GPU found! 🎉\n"
          ]
        }
      ],
      "source": [
        "#!L\n",
        "#pragma async \n",
        "# PRAGMA ASYNC IS NECESSARY FOR TRAINING!\n",
        "torch.manual_seed(7)\n",
        "if torch.cuda.is_available():\n",
        "    print('GPU found! 🎉')\n",
        "    device = 'cuda'\n",
        "else:\n",
        "    print('Only CPU found! 💻')\n",
        "    device = 'cpu'\n",
        "\n",
        "verbose=False\n",
        "\n",
        "# Hyperparameters for your model\n",
        "hparams = {\n",
        "    \"n_cnn_layers\": 3,\n",
        "    \"n_rnn_layers\": 2,\n",
        "    \"rnn_dim\": 512,\n",
        "    \"n_class\": 29,\n",
        "    \"n_feats\": 128,\n",
        "    \"stride\": 2,\n",
        "    \"dropout\": 0.1,\n",
        "    \"learning_rate\": 3e-4,\n",
        "    \"batch_size\": 16,\n",
        "    \"epochs\": 10\n",
        "}\n",
        "\n",
        "train_collate_fn = Collate(data_type='train')\n",
        "test_collate_fn = Collate(data_type='test')\n",
        "\n",
        "# Define Dataloyour training and test data loaders\n",
        "kwargs = {'num_workers': 2, 'pin_memory': True} if device == 'cuda' else {}\n",
        "train_loader = data.DataLoader(train_dataset, batch_size=hparams['batch_size'], shuffle=True, collate_fn=train_collate_fn, **kwargs)\n",
        "\n",
        "kwargs = {'num_workers': 1, 'pin_memory': True} if device == 'cuda' else {}\n",
        "test_loader = data.DataLoader(test_dataset, batch_size=hparams['batch_size'], shuffle=False, collate_fn=test_collate_fn, **kwargs)"
      ]
    },
    {
      "cell_type": "markdown",
      "metadata": {
        "id": "q_uhuVgw2XbB",
        "outputId": "5910f7ac-260c-4506-b910-500bc8dcd645"
      },
      "source": [
        "We recommend to use \"Weights & Biases\" for experiment logging. See their [documentation](https://docs.wandb.ai/) for detais."
      ]
    },
    {
      "cell_type": "code",
      "execution_count": null,
      "metadata": {
        "id": "3cVNk7KkY0H4"
      },
      "outputs": [],
      "source": [
        "wandb.init(project=\"speech-hw2\", \n",
        "           group=\"DNN\",\n",
        "           config=hparams)"
      ]
    },
    {
      "cell_type": "markdown",
      "metadata": {
        "id": "gB79UDNM8UOZ"
      },
      "source": [
        "## Compare different models: DNN, GRU/LSTM, bi-GRU/bi-LSTM (5 points)\n",
        "\n",
        "Train and discuss differences in the different models. \n",
        "\n",
        "Compare performance of DNN, RNN and BiRNN models in terms of:\n",
        "-  WER / CER \n",
        "-  Training time\n",
        "-  Training stability \n",
        "-  Any other properties?"
      ]
    },
    {
      "cell_type": "code",
      "execution_count": 35,
      "metadata": {
        "id": "YJZH5l2YY0H5",
        "colab": {
          "base_uri": "https://localhost:8080/",
          "height": 1000,
          "referenced_widgets": [
            "5e5b0b4c1c124e309ad8b79313ba3369",
            "41638e1ab6844d629d5b5b30de9adcf7",
            "b8469640b79f4b47bccfb4525e2ae64b",
            "877c676682a34b3c8a11eecbc311a207",
            "18771c8d7af6407f95c36cc9a129e540",
            "fc2a311191c54bbc8eeba78f19ab1b7f",
            "879638b731fa4a909a749b88ba9a8ba0",
            "b5a2c77688b140f49b70c8ee76f82a22",
            "1c63693b4d8f48339b9bb5ed0e726b43",
            "57bc2a04adf049d4a5169efeba4e34d6",
            "39eadfd4a9424c789219b874e368dc36"
          ]
        },
        "outputId": "830514c1-c2db-4bb3-dfd7-b9994f32f475"
      },
      "outputs": [
        {
          "output_type": "display_data",
          "data": {
            "text/plain": [
              "  0%|          | 0/10 [00:00<?, ?it/s]"
            ],
            "application/vnd.jupyter.widget-view+json": {
              "version_major": 2,
              "version_minor": 0,
              "model_id": "5e5b0b4c1c124e309ad8b79313ba3369"
            }
          },
          "metadata": {}
        },
        {
          "output_type": "stream",
          "name": "stdout",
          "text": [
            "Train Epoch: 1 [0/28539 (0%)]\tLoss: 7.220731\n",
            "Train Epoch: 1 [1600/28539 (6%)]\tLoss: 3.165005\n",
            "Train Epoch: 1 [3200/28539 (11%)]\tLoss: 2.901189\n",
            "Train Epoch: 1 [4800/28539 (17%)]\tLoss: 2.919040\n",
            "Train Epoch: 1 [6400/28539 (22%)]\tLoss: 2.889415\n",
            "Train Epoch: 1 [8000/28539 (28%)]\tLoss: 2.878591\n",
            "Train Epoch: 1 [9600/28539 (34%)]\tLoss: 2.845693\n",
            "Train Epoch: 1 [11200/28539 (39%)]\tLoss: 2.846972\n",
            "Train Epoch: 1 [12800/28539 (45%)]\tLoss: 2.812337\n",
            "Train Epoch: 1 [14400/28539 (50%)]\tLoss: 2.766805\n",
            "Train Epoch: 1 [16000/28539 (56%)]\tLoss: 2.653426\n",
            "Train Epoch: 1 [17600/28539 (62%)]\tLoss: 2.558009\n",
            "Train Epoch: 1 [19200/28539 (67%)]\tLoss: 2.520375\n",
            "Train Epoch: 1 [20800/28539 (73%)]\tLoss: 2.400282\n",
            "Train Epoch: 1 [22400/28539 (78%)]\tLoss: 2.357821\n",
            "Train Epoch: 1 [24000/28539 (84%)]\tLoss: 2.336493\n",
            "Train Epoch: 1 [25600/28539 (90%)]\tLoss: 2.320795\n",
            "Train Epoch: 1 [27200/28539 (95%)]\tLoss: 2.302408\n",
            "Beginning eval...\n",
            "Epoch: 1, Test set: Average loss: 2.1474, Average CER: 0.628791 Average WER: 1.0506\n",
            "\n",
            "Train Epoch: 2 [0/28539 (0%)]\tLoss: 2.216998\n",
            "Train Epoch: 2 [1600/28539 (6%)]\tLoss: 2.216984\n",
            "Train Epoch: 2 [3200/28539 (11%)]\tLoss: 2.054478\n",
            "Train Epoch: 2 [4800/28539 (17%)]\tLoss: 2.120977\n",
            "Train Epoch: 2 [6400/28539 (22%)]\tLoss: 2.057629\n",
            "Train Epoch: 2 [8000/28539 (28%)]\tLoss: 2.041904\n",
            "Train Epoch: 2 [9600/28539 (34%)]\tLoss: 1.998472\n",
            "Train Epoch: 2 [11200/28539 (39%)]\tLoss: 1.928094\n",
            "Train Epoch: 2 [12800/28539 (45%)]\tLoss: 1.925325\n",
            "Train Epoch: 2 [14400/28539 (50%)]\tLoss: 1.934631\n",
            "Train Epoch: 2 [16000/28539 (56%)]\tLoss: 1.915915\n",
            "Train Epoch: 2 [17600/28539 (62%)]\tLoss: 1.861932\n",
            "Train Epoch: 2 [19200/28539 (67%)]\tLoss: 1.943923\n",
            "Train Epoch: 2 [20800/28539 (73%)]\tLoss: 1.922817\n",
            "Train Epoch: 2 [22400/28539 (78%)]\tLoss: 1.815249\n",
            "Train Epoch: 2 [24000/28539 (84%)]\tLoss: 1.868857\n",
            "Train Epoch: 2 [25600/28539 (90%)]\tLoss: 1.852641\n",
            "Train Epoch: 2 [27200/28539 (95%)]\tLoss: 1.768663\n",
            "Beginning eval...\n",
            "Epoch: 2, Test set: Average loss: 1.6889, Average CER: 0.506029 Average WER: 1.0417\n",
            "\n",
            "Train Epoch: 3 [0/28539 (0%)]\tLoss: 1.776136\n",
            "Train Epoch: 3 [1600/28539 (6%)]\tLoss: 1.735761\n",
            "Train Epoch: 3 [3200/28539 (11%)]\tLoss: 1.804261\n",
            "Train Epoch: 3 [4800/28539 (17%)]\tLoss: 1.799344\n",
            "Train Epoch: 3 [6400/28539 (22%)]\tLoss: 1.638671\n",
            "Train Epoch: 3 [8000/28539 (28%)]\tLoss: 1.766006\n",
            "Train Epoch: 3 [9600/28539 (34%)]\tLoss: 1.625463\n",
            "Train Epoch: 3 [11200/28539 (39%)]\tLoss: 1.701916\n",
            "Train Epoch: 3 [12800/28539 (45%)]\tLoss: 1.665321\n",
            "Train Epoch: 3 [14400/28539 (50%)]\tLoss: 1.638092\n",
            "Train Epoch: 3 [16000/28539 (56%)]\tLoss: 1.577562\n",
            "Train Epoch: 3 [17600/28539 (62%)]\tLoss: 1.661021\n",
            "Train Epoch: 3 [19200/28539 (67%)]\tLoss: 1.659443\n",
            "Train Epoch: 3 [20800/28539 (73%)]\tLoss: 1.688861\n",
            "Train Epoch: 3 [22400/28539 (78%)]\tLoss: 1.554660\n",
            "Train Epoch: 3 [24000/28539 (84%)]\tLoss: 1.653625\n",
            "Train Epoch: 3 [25600/28539 (90%)]\tLoss: 1.549221\n",
            "Train Epoch: 3 [27200/28539 (95%)]\tLoss: 1.707229\n",
            "Beginning eval...\n",
            "Epoch: 3, Test set: Average loss: 1.4772, Average CER: 0.451557 Average WER: 0.9728\n",
            "\n",
            "Train Epoch: 4 [0/28539 (0%)]\tLoss: 1.569623\n",
            "Train Epoch: 4 [1600/28539 (6%)]\tLoss: 1.527567\n",
            "Train Epoch: 4 [3200/28539 (11%)]\tLoss: 1.528251\n",
            "Train Epoch: 4 [4800/28539 (17%)]\tLoss: 1.568644\n",
            "Train Epoch: 4 [6400/28539 (22%)]\tLoss: 1.575256\n",
            "Train Epoch: 4 [8000/28539 (28%)]\tLoss: 1.489973\n",
            "Train Epoch: 4 [9600/28539 (34%)]\tLoss: 1.506513\n",
            "Train Epoch: 4 [11200/28539 (39%)]\tLoss: 1.413845\n",
            "Train Epoch: 4 [12800/28539 (45%)]\tLoss: 1.609811\n",
            "Train Epoch: 4 [14400/28539 (50%)]\tLoss: 1.510513\n",
            "Train Epoch: 4 [16000/28539 (56%)]\tLoss: 1.523802\n",
            "Train Epoch: 4 [17600/28539 (62%)]\tLoss: 1.489412\n",
            "Train Epoch: 4 [19200/28539 (67%)]\tLoss: 1.469210\n",
            "Train Epoch: 4 [20800/28539 (73%)]\tLoss: 1.485159\n",
            "Train Epoch: 4 [22400/28539 (78%)]\tLoss: 1.487397\n",
            "Train Epoch: 4 [24000/28539 (84%)]\tLoss: 1.413174\n",
            "Train Epoch: 4 [25600/28539 (90%)]\tLoss: 1.488529\n",
            "Train Epoch: 4 [27200/28539 (95%)]\tLoss: 1.460039\n",
            "Beginning eval...\n",
            "Epoch: 4, Test set: Average loss: 1.3432, Average CER: 0.406176 Average WER: 0.9777\n",
            "\n",
            "Train Epoch: 5 [0/28539 (0%)]\tLoss: 1.503434\n",
            "Train Epoch: 5 [1600/28539 (6%)]\tLoss: 1.483459\n",
            "Train Epoch: 5 [3200/28539 (11%)]\tLoss: 1.478663\n",
            "Train Epoch: 5 [4800/28539 (17%)]\tLoss: 1.559631\n",
            "Train Epoch: 5 [6400/28539 (22%)]\tLoss: 1.375792\n",
            "Train Epoch: 5 [8000/28539 (28%)]\tLoss: 1.404897\n",
            "Train Epoch: 5 [9600/28539 (34%)]\tLoss: 1.412046\n",
            "Train Epoch: 5 [11200/28539 (39%)]\tLoss: 1.378477\n",
            "Train Epoch: 5 [12800/28539 (45%)]\tLoss: 1.402342\n",
            "Train Epoch: 5 [14400/28539 (50%)]\tLoss: 1.373124\n",
            "Train Epoch: 5 [16000/28539 (56%)]\tLoss: 1.467285\n",
            "Train Epoch: 5 [17600/28539 (62%)]\tLoss: 1.425091\n",
            "Train Epoch: 5 [19200/28539 (67%)]\tLoss: 1.323382\n",
            "Train Epoch: 5 [20800/28539 (73%)]\tLoss: 1.388357\n",
            "Train Epoch: 5 [22400/28539 (78%)]\tLoss: 1.419758\n",
            "Train Epoch: 5 [24000/28539 (84%)]\tLoss: 1.318942\n",
            "Train Epoch: 5 [25600/28539 (90%)]\tLoss: 1.377987\n",
            "Train Epoch: 5 [27200/28539 (95%)]\tLoss: 1.373464\n",
            "Beginning eval...\n",
            "Epoch: 5, Test set: Average loss: 1.2539, Average CER: 0.382478 Average WER: 0.9693\n",
            "\n",
            "Train Epoch: 6 [0/28539 (0%)]\tLoss: 1.303033\n",
            "Train Epoch: 6 [1600/28539 (6%)]\tLoss: 1.407156\n",
            "Train Epoch: 6 [3200/28539 (11%)]\tLoss: 1.355243\n",
            "Train Epoch: 6 [4800/28539 (17%)]\tLoss: 1.459373\n",
            "Train Epoch: 6 [6400/28539 (22%)]\tLoss: 1.402599\n",
            "Train Epoch: 6 [8000/28539 (28%)]\tLoss: 1.367181\n",
            "Train Epoch: 6 [9600/28539 (34%)]\tLoss: 1.469014\n",
            "Train Epoch: 6 [11200/28539 (39%)]\tLoss: 1.209048\n",
            "Train Epoch: 6 [12800/28539 (45%)]\tLoss: 1.226608\n",
            "Train Epoch: 6 [14400/28539 (50%)]\tLoss: 1.254035\n",
            "Train Epoch: 6 [16000/28539 (56%)]\tLoss: 1.339354\n",
            "Train Epoch: 6 [17600/28539 (62%)]\tLoss: 1.314816\n",
            "Train Epoch: 6 [19200/28539 (67%)]\tLoss: 1.329865\n",
            "Train Epoch: 6 [20800/28539 (73%)]\tLoss: 1.233037\n",
            "Train Epoch: 6 [22400/28539 (78%)]\tLoss: 1.370931\n",
            "Train Epoch: 6 [24000/28539 (84%)]\tLoss: 1.251883\n",
            "Train Epoch: 6 [25600/28539 (90%)]\tLoss: 1.227553\n",
            "Train Epoch: 6 [27200/28539 (95%)]\tLoss: 1.394202\n",
            "Beginning eval...\n",
            "Epoch: 6, Test set: Average loss: 1.2062, Average CER: 0.371735 Average WER: 0.9340\n",
            "\n",
            "Train Epoch: 7 [0/28539 (0%)]\tLoss: 1.279394\n",
            "Train Epoch: 7 [1600/28539 (6%)]\tLoss: 1.309495\n",
            "Train Epoch: 7 [3200/28539 (11%)]\tLoss: 1.301144\n",
            "Train Epoch: 7 [4800/28539 (17%)]\tLoss: 1.383655\n",
            "Train Epoch: 7 [6400/28539 (22%)]\tLoss: 1.429823\n",
            "Train Epoch: 7 [8000/28539 (28%)]\tLoss: 1.228743\n",
            "Train Epoch: 7 [9600/28539 (34%)]\tLoss: 1.373329\n",
            "Train Epoch: 7 [11200/28539 (39%)]\tLoss: 1.228601\n",
            "Train Epoch: 7 [12800/28539 (45%)]\tLoss: 1.295591\n",
            "Train Epoch: 7 [14400/28539 (50%)]\tLoss: 1.329991\n",
            "Train Epoch: 7 [16000/28539 (56%)]\tLoss: 1.318422\n",
            "Train Epoch: 7 [17600/28539 (62%)]\tLoss: 1.382311\n",
            "Train Epoch: 7 [19200/28539 (67%)]\tLoss: 1.297416\n",
            "Train Epoch: 7 [20800/28539 (73%)]\tLoss: 1.199732\n",
            "Train Epoch: 7 [22400/28539 (78%)]\tLoss: 1.301993\n",
            "Train Epoch: 7 [24000/28539 (84%)]\tLoss: 1.429728\n",
            "Train Epoch: 7 [25600/28539 (90%)]\tLoss: 1.228253\n",
            "Train Epoch: 7 [27200/28539 (95%)]\tLoss: 1.255790\n",
            "Beginning eval...\n",
            "Epoch: 7, Test set: Average loss: 1.1744, Average CER: 0.358720 Average WER: 0.9307\n",
            "\n",
            "Train Epoch: 8 [0/28539 (0%)]\tLoss: 1.277728\n",
            "Train Epoch: 8 [1600/28539 (6%)]\tLoss: 1.287158\n",
            "Train Epoch: 8 [3200/28539 (11%)]\tLoss: 1.296364\n",
            "Train Epoch: 8 [4800/28539 (17%)]\tLoss: 1.228524\n",
            "Train Epoch: 8 [6400/28539 (22%)]\tLoss: 1.285647\n",
            "Train Epoch: 8 [8000/28539 (28%)]\tLoss: 1.249910\n",
            "Train Epoch: 8 [9600/28539 (34%)]\tLoss: 1.285752\n",
            "Train Epoch: 8 [11200/28539 (39%)]\tLoss: 1.218754\n",
            "Train Epoch: 8 [12800/28539 (45%)]\tLoss: 1.427948\n",
            "Train Epoch: 8 [14400/28539 (50%)]\tLoss: 1.255623\n",
            "Train Epoch: 8 [16000/28539 (56%)]\tLoss: 1.235223\n",
            "Train Epoch: 8 [17600/28539 (62%)]\tLoss: 1.231068\n",
            "Train Epoch: 8 [19200/28539 (67%)]\tLoss: 1.267412\n",
            "Train Epoch: 8 [20800/28539 (73%)]\tLoss: 1.194521\n",
            "Train Epoch: 8 [22400/28539 (78%)]\tLoss: 1.316162\n",
            "Train Epoch: 8 [24000/28539 (84%)]\tLoss: 1.304048\n",
            "Train Epoch: 8 [25600/28539 (90%)]\tLoss: 1.302107\n",
            "Train Epoch: 8 [27200/28539 (95%)]\tLoss: 1.166765\n",
            "Beginning eval...\n",
            "Epoch: 8, Test set: Average loss: 1.1475, Average CER: 0.351083 Average WER: 0.9150\n",
            "\n",
            "Train Epoch: 9 [0/28539 (0%)]\tLoss: 1.247636\n",
            "Train Epoch: 9 [1600/28539 (6%)]\tLoss: 1.290072\n",
            "Train Epoch: 9 [3200/28539 (11%)]\tLoss: 1.297808\n",
            "Train Epoch: 9 [4800/28539 (17%)]\tLoss: 1.271861\n",
            "Train Epoch: 9 [6400/28539 (22%)]\tLoss: 1.271915\n",
            "Train Epoch: 9 [8000/28539 (28%)]\tLoss: 1.378549\n",
            "Train Epoch: 9 [9600/28539 (34%)]\tLoss: 1.342268\n",
            "Train Epoch: 9 [11200/28539 (39%)]\tLoss: 1.244778\n",
            "Train Epoch: 9 [12800/28539 (45%)]\tLoss: 1.171237\n",
            "Train Epoch: 9 [14400/28539 (50%)]\tLoss: 1.258496\n",
            "Train Epoch: 9 [16000/28539 (56%)]\tLoss: 1.253107\n",
            "Train Epoch: 9 [17600/28539 (62%)]\tLoss: 1.226411\n",
            "Train Epoch: 9 [19200/28539 (67%)]\tLoss: 1.171559\n",
            "Train Epoch: 9 [20800/28539 (73%)]\tLoss: 1.204394\n",
            "Train Epoch: 9 [22400/28539 (78%)]\tLoss: 1.214481\n",
            "Train Epoch: 9 [24000/28539 (84%)]\tLoss: 1.194589\n",
            "Train Epoch: 9 [25600/28539 (90%)]\tLoss: 1.100414\n",
            "Train Epoch: 9 [27200/28539 (95%)]\tLoss: 1.232143\n",
            "Beginning eval...\n",
            "Epoch: 9, Test set: Average loss: 1.1288, Average CER: 0.346624 Average WER: 0.9060\n",
            "\n",
            "Train Epoch: 10 [0/28539 (0%)]\tLoss: 1.231785\n",
            "Train Epoch: 10 [1600/28539 (6%)]\tLoss: 1.259568\n",
            "Train Epoch: 10 [3200/28539 (11%)]\tLoss: 1.206470\n",
            "Train Epoch: 10 [4800/28539 (17%)]\tLoss: 1.136692\n",
            "Train Epoch: 10 [6400/28539 (22%)]\tLoss: 1.249203\n",
            "Train Epoch: 10 [8000/28539 (28%)]\tLoss: 1.173592\n",
            "Train Epoch: 10 [9600/28539 (34%)]\tLoss: 1.242271\n",
            "Train Epoch: 10 [11200/28539 (39%)]\tLoss: 1.159021\n",
            "Train Epoch: 10 [12800/28539 (45%)]\tLoss: 1.163905\n",
            "Train Epoch: 10 [14400/28539 (50%)]\tLoss: 1.278575\n",
            "Train Epoch: 10 [16000/28539 (56%)]\tLoss: 1.164054\n",
            "Train Epoch: 10 [17600/28539 (62%)]\tLoss: 1.180584\n",
            "Train Epoch: 10 [19200/28539 (67%)]\tLoss: 1.325604\n",
            "Train Epoch: 10 [20800/28539 (73%)]\tLoss: 1.183811\n",
            "Train Epoch: 10 [22400/28539 (78%)]\tLoss: 1.254340\n",
            "Train Epoch: 10 [24000/28539 (84%)]\tLoss: 1.157284\n",
            "Train Epoch: 10 [25600/28539 (90%)]\tLoss: 1.245196\n",
            "Train Epoch: 10 [27200/28539 (95%)]\tLoss: 1.290092\n",
            "Beginning eval...\n",
            "Epoch: 10, Test set: Average loss: 1.1195, Average CER: 0.343844 Average WER: 0.9020\n",
            "\n"
          ]
        }
      ],
      "source": [
        "# Train a non-recurrent model\n",
        "ctc_dnn = CTCDNN(\n",
        "    hparams['n_cnn_layers'], hparams['n_rnn_layers'], hparams['rnn_dim'],\n",
        "    hparams['n_class'], hparams['n_feats'], hparams['stride'], hparams['dropout'])\n",
        "ctc_dnn.to(device)\n",
        "\n",
        "criterion = nn.CTCLoss(blank=tokenizer.get_symbol_index(BLANK_SYMBOL), reduction='mean')\n",
        "optimizer = optim.AdamW(ctc_dnn.parameters(), hparams['learning_rate'])\n",
        "scheduler = optim.lr_scheduler.OneCycleLR(optimizer,\n",
        "                                          max_lr=hparams['learning_rate'],\n",
        "                                          steps_per_epoch=int(len(train_loader)),\n",
        "                                          epochs=hparams['epochs'],\n",
        "                                          anneal_strategy='linear')\n",
        "\n",
        "for epoch in tqdm(range(1, hparams['epochs'] + 1)):\n",
        "    train(ctc_dnn, device, train_loader, criterion, optimizer, scheduler, epoch)\n",
        "    utils.save_checkpoint(ctc_dnn, checkpoint_name=f'ctc_dnn_epoch{epoch}.tar')\n",
        "    wandb.save(f'ctc_dnn_epoch{epoch}.tar')\n",
        "    test(ctc_dnn, device, test_loader, criterion, epoch, 'Greedy')\n",
        "\n",
        "utils.save_checkpoint(ctc_dnn, checkpoint_name=f'ctc_dnn.tar')"
      ]
    },
    {
      "cell_type": "code",
      "source": [
        "wandb.init(project=\"speech-hw2\", \n",
        "           group=\"RNN\",\n",
        "           config=hparams)"
      ],
      "metadata": {
        "colab": {
          "base_uri": "https://localhost:8080/",
          "height": 126
        },
        "id": "oMHBaQGwJIaE",
        "outputId": "0b90b672-1600-4b86-aa67-3db06a21e4c4"
      },
      "execution_count": 30,
      "outputs": [
        {
          "output_type": "display_data",
          "data": {
            "text/plain": [
              "<IPython.core.display.Javascript object>"
            ],
            "application/javascript": [
              "\n",
              "        window._wandbApiKey = new Promise((resolve, reject) => {\n",
              "            function loadScript(url) {\n",
              "            return new Promise(function(resolve, reject) {\n",
              "                let newScript = document.createElement(\"script\");\n",
              "                newScript.onerror = reject;\n",
              "                newScript.onload = resolve;\n",
              "                document.body.appendChild(newScript);\n",
              "                newScript.src = url;\n",
              "            });\n",
              "            }\n",
              "            loadScript(\"https://cdn.jsdelivr.net/npm/postmate/build/postmate.min.js\").then(() => {\n",
              "            const iframe = document.createElement('iframe')\n",
              "            iframe.style.cssText = \"width:0;height:0;border:none\"\n",
              "            document.body.appendChild(iframe)\n",
              "            const handshake = new Postmate({\n",
              "                container: iframe,\n",
              "                url: 'https://wandb.ai/authorize'\n",
              "            });\n",
              "            const timeout = setTimeout(() => reject(\"Couldn't auto authenticate\"), 5000)\n",
              "            handshake.then(function(child) {\n",
              "                child.on('authorize', data => {\n",
              "                    clearTimeout(timeout)\n",
              "                    resolve(data)\n",
              "                });\n",
              "            });\n",
              "            })\n",
              "        });\n",
              "    "
            ]
          },
          "metadata": {}
        },
        {
          "output_type": "stream",
          "name": "stderr",
          "text": [
            "\u001b[34m\u001b[1mwandb\u001b[0m: Appending key for api.wandb.ai to your netrc file: /root/.netrc\n"
          ]
        },
        {
          "output_type": "display_data",
          "data": {
            "text/plain": [
              "<IPython.core.display.HTML object>"
            ],
            "text/html": [
              "Tracking run with wandb version 0.12.17"
            ]
          },
          "metadata": {}
        },
        {
          "output_type": "display_data",
          "data": {
            "text/plain": [
              "<IPython.core.display.HTML object>"
            ],
            "text/html": [
              "Run data is saved locally in <code>/content/wandb/run-20220529_095838-3gchzz5f</code>"
            ]
          },
          "metadata": {}
        },
        {
          "output_type": "display_data",
          "data": {
            "text/plain": [
              "<IPython.core.display.HTML object>"
            ],
            "text/html": [
              "Syncing run <strong><a href=\"https://wandb.ai/grazder/speech-hw2/runs/3gchzz5f\" target=\"_blank\">logical-violet-11</a></strong> to <a href=\"https://wandb.ai/grazder/speech-hw2\" target=\"_blank\">Weights & Biases</a> (<a href=\"https://wandb.me/run\" target=\"_blank\">docs</a>)<br/>"
            ]
          },
          "metadata": {}
        },
        {
          "output_type": "execute_result",
          "data": {
            "text/html": [
              "<button onClick=\"this.nextSibling.style.display='block';this.style.display='none';\">Display W&B run</button><iframe src=\"https://wandb.ai/grazder/speech-hw2/runs/3gchzz5f?jupyter=true\" style=\"border:none;width:100%;height:420px;display:none;\"></iframe>"
            ],
            "text/plain": [
              "<wandb.sdk.wandb_run.Run at 0x7f8cbd7b0390>"
            ]
          },
          "metadata": {},
          "execution_count": 30
        }
      ]
    },
    {
      "cell_type": "code",
      "source": [
        "# Train a  recurrent model\n",
        "ctc_rnn = CTCRNN(\n",
        "    hparams['n_cnn_layers'], hparams['n_rnn_layers'], hparams['rnn_dim'],\n",
        "    hparams['n_class'], hparams['n_feats'], hparams['stride'], hparams['dropout']\n",
        ").to(device)\n",
        "\n",
        "criterion = nn.CTCLoss(blank=tokenizer.get_symbol_index(BLANK_SYMBOL), reduction='mean')\n",
        "optimizer = optim.AdamW(ctc_rnn.parameters(), hparams['learning_rate'])\n",
        "scheduler = optim.lr_scheduler.OneCycleLR(optimizer,\n",
        "                                          max_lr=hparams['learning_rate'],\n",
        "                                          steps_per_epoch=int(len(train_loader)),\n",
        "                                          epochs=hparams['epochs'],\n",
        "                                          anneal_strategy='linear')\n",
        "\n",
        "for epoch in tqdm(range(1, hparams['epochs'] + 1)):\n",
        "    train(ctc_rnn, device, train_loader, criterion, optimizer, scheduler, epoch)\n",
        "    utils.save_checkpoint(ctc_rnn, checkpoint_name=f'ctc_rnn_epoch{epoch}.tar')\n",
        "    wandb.save(f'ctc_rnn_epoch{epoch}.tar')\n",
        "    test(ctc_rnn, device, test_loader, criterion, epoch, 'Greedy')\n",
        "\n",
        "utils.save_checkpoint(ctc_rnn, checkpoint_name=f'ctc_rnn.tar')"
      ],
      "metadata": {
        "id": "EnjLgyVrWq83",
        "colab": {
          "base_uri": "https://localhost:8080/",
          "height": 1000,
          "referenced_widgets": [
            "4c502b4e5ebc400da141c25b2285e989",
            "c7d1ecc70f00429ea5081248ef0bb1e5",
            "50fdfd60c0c740eda33685acb3e13706",
            "8be4709a79844e62bef04cc646a369bc",
            "d600d5f1f34d4e008a2b1776f7fef9e6",
            "c1b362acf9bd43b68b7fb3ab3099941e",
            "8d4c1712fd8b4944a2587223b82f1cd0",
            "4e2c07a20d6a4cb7a15935ae3d78badd",
            "8ded3cea49614465aa3a30323f364651",
            "5bc071e18f344f7e8302cddd1261f893",
            "00c07ed8929a4a338e993f9e2334dda3"
          ]
        },
        "outputId": "ce2f5d9d-c6d3-46d3-c590-4de01eb36c94"
      },
      "execution_count": null,
      "outputs": [
        {
          "output_type": "display_data",
          "data": {
            "text/plain": [
              "  0%|          | 0/10 [00:00<?, ?it/s]"
            ],
            "application/vnd.jupyter.widget-view+json": {
              "version_major": 2,
              "version_minor": 0,
              "model_id": "4c502b4e5ebc400da141c25b2285e989"
            }
          },
          "metadata": {}
        },
        {
          "output_type": "stream",
          "name": "stdout",
          "text": [
            "Train Epoch: 1 [0/28539 (0%)]\tLoss: 7.276604\n",
            "Train Epoch: 1 [1600/28539 (6%)]\tLoss: 2.957667\n",
            "Train Epoch: 1 [3200/28539 (11%)]\tLoss: 2.891584\n",
            "Train Epoch: 1 [4800/28539 (17%)]\tLoss: 2.855871\n",
            "Train Epoch: 1 [6400/28539 (22%)]\tLoss: 2.859533\n",
            "Train Epoch: 1 [8000/28539 (28%)]\tLoss: 2.873445\n",
            "Train Epoch: 1 [9600/28539 (34%)]\tLoss: 2.840994\n",
            "Train Epoch: 1 [11200/28539 (39%)]\tLoss: 2.828822\n",
            "Train Epoch: 1 [12800/28539 (45%)]\tLoss: 2.754033\n",
            "Train Epoch: 1 [14400/28539 (50%)]\tLoss: 2.609796\n",
            "Train Epoch: 1 [16000/28539 (56%)]\tLoss: 2.484655\n",
            "Train Epoch: 1 [17600/28539 (62%)]\tLoss: 2.334424\n",
            "Train Epoch: 1 [19200/28539 (67%)]\tLoss: 2.223828\n",
            "Train Epoch: 1 [20800/28539 (73%)]\tLoss: 2.197560\n",
            "Train Epoch: 1 [22400/28539 (78%)]\tLoss: 2.115492\n",
            "Train Epoch: 1 [24000/28539 (84%)]\tLoss: 2.205276\n",
            "Train Epoch: 1 [25600/28539 (90%)]\tLoss: 2.025156\n",
            "Train Epoch: 1 [27200/28539 (95%)]\tLoss: 1.958459\n",
            "Beginning eval...\n",
            "Epoch: 1, Test set: Average loss: 1.8287, Average CER: 0.537373 Average WER: 1.0331\n",
            "\n",
            "Train Epoch: 2 [0/28539 (0%)]\tLoss: 1.821847\n",
            "Train Epoch: 2 [1600/28539 (6%)]\tLoss: 1.760063\n",
            "Train Epoch: 2 [3200/28539 (11%)]\tLoss: 1.736381\n",
            "Train Epoch: 2 [4800/28539 (17%)]\tLoss: 1.770167\n",
            "Train Epoch: 2 [6400/28539 (22%)]\tLoss: 1.764930\n",
            "Train Epoch: 2 [8000/28539 (28%)]\tLoss: 1.678047\n",
            "Train Epoch: 2 [9600/28539 (34%)]\tLoss: 1.705931\n",
            "Train Epoch: 2 [11200/28539 (39%)]\tLoss: 1.609973\n",
            "Train Epoch: 2 [12800/28539 (45%)]\tLoss: 1.621782\n",
            "Train Epoch: 2 [14400/28539 (50%)]\tLoss: 1.507248\n",
            "Train Epoch: 2 [16000/28539 (56%)]\tLoss: 1.530583\n",
            "Train Epoch: 2 [17600/28539 (62%)]\tLoss: 1.572851\n",
            "Train Epoch: 2 [19200/28539 (67%)]\tLoss: 1.389820\n",
            "Train Epoch: 2 [20800/28539 (73%)]\tLoss: 1.413234\n",
            "Train Epoch: 2 [22400/28539 (78%)]\tLoss: 1.450814\n",
            "Train Epoch: 2 [24000/28539 (84%)]\tLoss: 1.379278\n",
            "Train Epoch: 2 [25600/28539 (90%)]\tLoss: 1.457374\n",
            "Train Epoch: 2 [27200/28539 (95%)]\tLoss: 1.437084\n",
            "Beginning eval...\n",
            "Epoch: 2, Test set: Average loss: 1.2923, Average CER: 0.397478 Average WER: 0.8760\n",
            "\n",
            "Train Epoch: 3 [0/28539 (0%)]\tLoss: 1.262638\n",
            "Train Epoch: 3 [1600/28539 (6%)]\tLoss: 1.332248\n",
            "Train Epoch: 3 [3200/28539 (11%)]\tLoss: 1.420529\n",
            "Train Epoch: 3 [4800/28539 (17%)]\tLoss: 1.377861\n",
            "Train Epoch: 3 [6400/28539 (22%)]\tLoss: 1.242405\n",
            "Train Epoch: 3 [8000/28539 (28%)]\tLoss: 1.441776\n",
            "Train Epoch: 3 [9600/28539 (34%)]\tLoss: 1.169923\n",
            "Train Epoch: 3 [11200/28539 (39%)]\tLoss: 1.268728\n",
            "Train Epoch: 3 [12800/28539 (45%)]\tLoss: 1.337868\n",
            "Train Epoch: 3 [14400/28539 (50%)]\tLoss: 1.230744\n",
            "Train Epoch: 3 [16000/28539 (56%)]\tLoss: 1.156489\n",
            "Train Epoch: 3 [17600/28539 (62%)]\tLoss: 1.242100\n",
            "Train Epoch: 3 [19200/28539 (67%)]\tLoss: 1.219496\n",
            "Train Epoch: 3 [20800/28539 (73%)]\tLoss: 1.221567\n",
            "Train Epoch: 3 [22400/28539 (78%)]\tLoss: 1.182554\n",
            "Train Epoch: 3 [24000/28539 (84%)]\tLoss: 1.303870\n",
            "Train Epoch: 3 [25600/28539 (90%)]\tLoss: 1.128721\n",
            "Train Epoch: 3 [27200/28539 (95%)]\tLoss: 1.179726\n",
            "Beginning eval...\n",
            "Epoch: 3, Test set: Average loss: 1.0686, Average CER: 0.327879 Average WER: 0.8389\n",
            "\n",
            "Train Epoch: 4 [0/28539 (0%)]\tLoss: 1.155082\n",
            "Train Epoch: 4 [1600/28539 (6%)]\tLoss: 1.103218\n",
            "Train Epoch: 4 [3200/28539 (11%)]\tLoss: 1.106897\n",
            "Train Epoch: 4 [4800/28539 (17%)]\tLoss: 1.090956\n",
            "Train Epoch: 4 [6400/28539 (22%)]\tLoss: 1.000726\n",
            "Train Epoch: 4 [8000/28539 (28%)]\tLoss: 0.983695\n",
            "Train Epoch: 4 [9600/28539 (34%)]\tLoss: 1.133117\n",
            "Train Epoch: 4 [11200/28539 (39%)]\tLoss: 1.009089\n",
            "Train Epoch: 4 [12800/28539 (45%)]\tLoss: 1.037984\n",
            "Train Epoch: 4 [14400/28539 (50%)]\tLoss: 0.976910\n",
            "Train Epoch: 4 [16000/28539 (56%)]\tLoss: 1.037080\n",
            "Train Epoch: 4 [17600/28539 (62%)]\tLoss: 1.037142\n",
            "Train Epoch: 4 [19200/28539 (67%)]\tLoss: 0.958245\n",
            "Train Epoch: 4 [20800/28539 (73%)]\tLoss: 0.999677\n",
            "Train Epoch: 4 [22400/28539 (78%)]\tLoss: 1.066572\n",
            "Train Epoch: 4 [24000/28539 (84%)]\tLoss: 1.066205\n",
            "Train Epoch: 4 [25600/28539 (90%)]\tLoss: 1.056283\n",
            "Train Epoch: 4 [27200/28539 (95%)]\tLoss: 0.946294\n",
            "Beginning eval...\n",
            "Epoch: 4, Test set: Average loss: 0.9222, Average CER: 0.288611 Average WER: 0.7487\n",
            "\n",
            "Train Epoch: 5 [0/28539 (0%)]\tLoss: 0.911827\n",
            "Train Epoch: 5 [1600/28539 (6%)]\tLoss: 0.913903\n",
            "Train Epoch: 5 [3200/28539 (11%)]\tLoss: 0.868433\n",
            "Train Epoch: 5 [4800/28539 (17%)]\tLoss: 0.938621\n",
            "Train Epoch: 5 [6400/28539 (22%)]\tLoss: 0.891888\n",
            "Train Epoch: 5 [8000/28539 (28%)]\tLoss: 0.900691\n",
            "Train Epoch: 5 [9600/28539 (34%)]\tLoss: 0.962798\n",
            "Train Epoch: 5 [11200/28539 (39%)]\tLoss: 0.895530\n",
            "Train Epoch: 5 [12800/28539 (45%)]\tLoss: 0.904615\n",
            "Train Epoch: 5 [14400/28539 (50%)]\tLoss: 0.956974\n",
            "Train Epoch: 5 [16000/28539 (56%)]\tLoss: 0.838801\n",
            "Train Epoch: 5 [17600/28539 (62%)]\tLoss: 1.026619\n",
            "Train Epoch: 5 [19200/28539 (67%)]\tLoss: 0.818700\n",
            "Train Epoch: 5 [20800/28539 (73%)]\tLoss: 0.959214\n",
            "Train Epoch: 5 [22400/28539 (78%)]\tLoss: 0.981817\n",
            "Train Epoch: 5 [24000/28539 (84%)]\tLoss: 0.835304\n",
            "Train Epoch: 5 [25600/28539 (90%)]\tLoss: 0.873267\n",
            "Train Epoch: 5 [27200/28539 (95%)]\tLoss: 1.041049\n",
            "Beginning eval...\n",
            "Epoch: 5, Test set: Average loss: 0.8432, Average CER: 0.259641 Average WER: 0.6994\n",
            "\n",
            "Train Epoch: 6 [0/28539 (0%)]\tLoss: 0.875046\n",
            "Train Epoch: 6 [1600/28539 (6%)]\tLoss: 0.816324\n",
            "Train Epoch: 6 [3200/28539 (11%)]\tLoss: 0.841910\n",
            "Train Epoch: 6 [4800/28539 (17%)]\tLoss: 0.938485\n",
            "Train Epoch: 6 [6400/28539 (22%)]\tLoss: 0.824817\n",
            "Train Epoch: 6 [8000/28539 (28%)]\tLoss: 0.863332\n",
            "Train Epoch: 6 [9600/28539 (34%)]\tLoss: 0.838368\n",
            "Train Epoch: 6 [11200/28539 (39%)]\tLoss: 0.882540\n",
            "Train Epoch: 6 [12800/28539 (45%)]\tLoss: 0.891876\n",
            "Train Epoch: 6 [14400/28539 (50%)]\tLoss: 0.838173\n",
            "Train Epoch: 6 [16000/28539 (56%)]\tLoss: 0.851116\n",
            "Train Epoch: 6 [17600/28539 (62%)]\tLoss: 0.919700\n",
            "Train Epoch: 6 [19200/28539 (67%)]\tLoss: 0.844158\n",
            "Train Epoch: 6 [20800/28539 (73%)]\tLoss: 0.818654\n",
            "Train Epoch: 6 [22400/28539 (78%)]\tLoss: 0.749267\n",
            "Train Epoch: 6 [24000/28539 (84%)]\tLoss: 0.794662\n",
            "Train Epoch: 6 [25600/28539 (90%)]\tLoss: 0.939146\n",
            "Train Epoch: 6 [27200/28539 (95%)]\tLoss: 0.772646\n",
            "Beginning eval...\n",
            "Epoch: 6, Test set: Average loss: 0.7846, Average CER: 0.241077 Average WER: 0.6680\n",
            "\n",
            "Train Epoch: 7 [0/28539 (0%)]\tLoss: 0.902996\n",
            "Train Epoch: 7 [1600/28539 (6%)]\tLoss: 0.774052\n",
            "Train Epoch: 7 [3200/28539 (11%)]\tLoss: 0.742927\n",
            "Train Epoch: 7 [4800/28539 (17%)]\tLoss: 0.796534\n",
            "Train Epoch: 7 [6400/28539 (22%)]\tLoss: 0.816974\n",
            "Train Epoch: 7 [8000/28539 (28%)]\tLoss: 0.833349\n",
            "Train Epoch: 7 [9600/28539 (34%)]\tLoss: 0.732687\n",
            "Train Epoch: 7 [11200/28539 (39%)]\tLoss: 0.781285\n",
            "Train Epoch: 7 [12800/28539 (45%)]\tLoss: 0.734480\n",
            "Train Epoch: 7 [14400/28539 (50%)]\tLoss: 0.713089\n",
            "Train Epoch: 7 [16000/28539 (56%)]\tLoss: 0.782736\n",
            "Train Epoch: 7 [17600/28539 (62%)]\tLoss: 0.733299\n",
            "Train Epoch: 7 [19200/28539 (67%)]\tLoss: 0.796499\n",
            "Train Epoch: 7 [20800/28539 (73%)]\tLoss: 0.702817\n",
            "Train Epoch: 7 [22400/28539 (78%)]\tLoss: 0.742629\n",
            "Train Epoch: 7 [24000/28539 (84%)]\tLoss: 0.778108\n",
            "Train Epoch: 7 [25600/28539 (90%)]\tLoss: 0.685115\n",
            "Train Epoch: 7 [27200/28539 (95%)]\tLoss: 0.637856\n",
            "Beginning eval...\n",
            "Epoch: 7, Test set: Average loss: 0.7564, Average CER: 0.233666 Average WER: 0.6467\n",
            "\n",
            "Train Epoch: 8 [0/28539 (0%)]\tLoss: 0.710397\n",
            "Train Epoch: 8 [1600/28539 (6%)]\tLoss: 0.676151\n",
            "Train Epoch: 8 [3200/28539 (11%)]\tLoss: 0.642532\n",
            "Train Epoch: 8 [4800/28539 (17%)]\tLoss: 0.759009\n",
            "Train Epoch: 8 [6400/28539 (22%)]\tLoss: 0.665160\n",
            "Train Epoch: 8 [8000/28539 (28%)]\tLoss: 0.716859\n",
            "Train Epoch: 8 [9600/28539 (34%)]\tLoss: 0.732232\n",
            "Train Epoch: 8 [11200/28539 (39%)]\tLoss: 0.690838\n",
            "Train Epoch: 8 [12800/28539 (45%)]\tLoss: 0.862463\n",
            "Train Epoch: 8 [14400/28539 (50%)]\tLoss: 0.677513\n",
            "Train Epoch: 8 [16000/28539 (56%)]\tLoss: 0.745029\n",
            "Train Epoch: 8 [17600/28539 (62%)]\tLoss: 0.684034\n",
            "Train Epoch: 8 [19200/28539 (67%)]\tLoss: 0.641583\n",
            "Train Epoch: 8 [20800/28539 (73%)]\tLoss: 0.723283\n",
            "Train Epoch: 8 [22400/28539 (78%)]\tLoss: 0.672318\n",
            "Train Epoch: 8 [24000/28539 (84%)]\tLoss: 0.676683\n",
            "Train Epoch: 8 [25600/28539 (90%)]\tLoss: 0.727404\n",
            "Train Epoch: 8 [27200/28539 (95%)]\tLoss: 0.758737\n",
            "Beginning eval...\n",
            "Epoch: 8, Test set: Average loss: 0.7249, Average CER: 0.223727 Average WER: 0.6321\n",
            "\n",
            "Train Epoch: 9 [0/28539 (0%)]\tLoss: 0.649395\n",
            "Train Epoch: 9 [1600/28539 (6%)]\tLoss: 0.686321\n"
          ]
        }
      ]
    },
    {
      "cell_type": "code",
      "source": [
        "wandb.init(project=\"speech-hw2\", \n",
        "           group=\"BiRNN\",\n",
        "           config=hparams)"
      ],
      "metadata": {
        "id": "JZioNmQIc58Y"
      },
      "execution_count": null,
      "outputs": []
    },
    {
      "cell_type": "code",
      "source": [
        "# Train a  recurrent model\n",
        "ctc_birnn = CTCBiRNN(\n",
        "    hparams['n_cnn_layers'], hparams['n_rnn_layers'], hparams['rnn_dim'],\n",
        "    hparams['n_class'], hparams['n_feats'], hparams['stride'], hparams['dropout']\n",
        ").to(device)\n",
        "\n",
        "optimizer = # YOUR CODE  - SUGGESTED ADAM\n",
        "criterion = nn.CTCLoss(blank=tokenizer.get_symbol_index(BLANK_SYMBOL), reduction='mean')\n",
        "scheduler = # YOUR CODE  - SUGGESTED ONE CYCLE\n",
        "\n",
        "for epoch in tqdm(range(1, hparams['epochs'] + 1)):\n",
        "    train(ctc_birnn, device, train_loader, criterion, optimizer, scheduler, epoch)\n",
        "    utils.save_checkpoint(ctc_birnn, checkpoint_name=f'ctc_birnn_epoch{epoch}.tar')\n",
        "    wandb.save(f'ctc_birnn_epoch{epoch}.tar')\n",
        "    test(ctc_birnn, device, test_loader, criterion, epoch, 'birnn')\n",
        "\n",
        "utils.save_checkpoint(ctc_birnn, checkpoint_name=f'ctc_birnn.tar')"
      ],
      "metadata": {
        "id": "B4ylbT6eWqx_"
      },
      "execution_count": null,
      "outputs": []
    },
    {
      "cell_type": "markdown",
      "source": [
        "Results: https://wandb.ai/grazder/speech-hw2"
      ],
      "metadata": {
        "id": "MUim2yuewQUL"
      }
    },
    {
      "cell_type": "markdown",
      "source": [
        "## Compare alignments (5 points)\n",
        "\n",
        "In this section you should compare alignments obtained from different models (DNN / RNN / BiRNN). For example, you can show:\n",
        "\n",
        "- Examples of alignments and their analysis. \n",
        "- Differencies in the properties of alignment distributions over the dataset. \n",
        "- Dynamic of alignments during training (from checkpoints). \n",
        "- Connection between alignments and model loss. \n",
        "- Which models use the most blanks and why?"
      ],
      "metadata": {
        "id": "aVLB1aH_ljcw"
      }
    },
    {
      "cell_type": "code",
      "source": [
        "# Some code to get you started.\n",
        "dnn_matrix = np.loadtxt('dnn_matrix.txt')\n",
        "rnn_matrix = np.loadtxt('rnn_matrix.txt')\n",
        "birnn_matrix = np.loadtxt('birnn_matrix.txt')\n",
        "\n",
        "dnn_labels = np.loadtxt('dnn_labels.txt', dtype=np.int32)\n",
        "rnn_labels = np.loadtxt('rnn_labels.txt', dtype=np.int32)\n",
        "birnn_labels = np.loadtxt('birnn_labels.txt', dtype=np.int32)\n",
        "\n",
        "dnn_align = soft_alignment(dnn_labels, dnn_matrix)\n",
        "rnn_align = soft_alignment(rnn_labels, rnn_matrix)\n",
        "birnn_align = soft_alignment(birnn_labels, birnn_matrix)\n",
        "\n",
        "f, ax = plt.subplots(3, 2, dpi=75, figsize=(15, 15))\n",
        "\n",
        "\n",
        "im = ax[0,0].imshow(dnn_align, aspect='auto', interpolation='nearest')\n",
        "ax[0,0].set_title(\"DNN Alignment\")\n",
        "ax[0,0].set_ylabel(\"Phonemes\")\n",
        "ax[0,0].set_xlabel(\"Time\")\n",
        "f.colorbar(im, ax=ax[0,0])\n",
        "\n",
        "im = ax[0,1].imshow(np.log(dnn_align), aspect='auto', interpolation='nearest')\n",
        "ax[0,1].set_title(\"DNN Alignment in log scale\")\n",
        "ax[0,1].set_ylabel(\"Phonemes\")\n",
        "ax[0,1].set_xlabel(\"Time\")\n",
        "f.colorbar(im, ax=ax[0,1])\n",
        "\n",
        "im = ax[1,0].imshow(dnn_align, aspect='auto', interpolation='nearest')\n",
        "ax[1,0].set_title(\"RNN Alignment\")\n",
        "ax[1,0].set_ylabel(\"Phonemes\")\n",
        "ax[1,0].set_xlabel(\"Time\")\n",
        "f.colorbar(im, ax=ax[1,0])\n",
        "\n",
        "im = ax[1,1].imshow(np.log(dnn_align), aspect='auto', interpolation='nearest')\n",
        "ax[1,1].set_title(\"RNN Alignment in log scale\")\n",
        "ax[1,1].set_ylabel(\"Phonemes\")\n",
        "ax[1,1].set_xlabel(\"Time\")\n",
        "f.colorbar(im, ax=ax[1,1])\n",
        "\n",
        "im = ax[2,0].imshow(dnn_align, aspect='auto', interpolation='nearest')\n",
        "ax[2,0].set_title(\"BiRNN Alignment\")\n",
        "ax[2,0].set_ylabel(\"Phonemes\")\n",
        "ax[2,0].set_xlabel(\"Time\")\n",
        "f.colorbar(im, ax=ax[2,0])\n",
        "\n",
        "im = ax[2,1].imshow(np.log(dnn_align), aspect='auto', interpolation='nearest')\n",
        "ax[2,1].set_title(\"BiRNN Alignment in log scale\")\n",
        "ax[2,1].set_ylabel(\"Phonemes\")\n",
        "ax[2,1].set_xlabel(\"Time\")\n",
        "f.colorbar(im, ax=ax[2,1])\n",
        "\n",
        "plt.tight_layout()"
      ],
      "metadata": {
        "id": "lF0rnu1O3kdU"
      },
      "execution_count": null,
      "outputs": []
    }
  ],
  "metadata": {
    "colab": {
      "name": "homework2_student.ipynb",
      "provenance": [],
      "collapsed_sections": []
    },
    "kernelspec": {
      "display_name": "Python 3",
      "language": "python",
      "name": "python3"
    },
    "language_info": {
      "codemirror_mode": {
        "name": "ipython",
        "version": 3
      },
      "file_extension": ".py",
      "mimetype": "text/x-python",
      "name": "python",
      "nbconvert_exporter": "python",
      "pygments_lexer": "ipython3",
      "version": "3.7.4"
    },
    "widgets": {
      "application/vnd.jupyter.widget-state+json": {
        "6f8d068dcad74d19982133ac6e928183": {
          "model_module": "@jupyter-widgets/controls",
          "model_name": "HBoxModel",
          "model_module_version": "1.5.0",
          "state": {
            "_dom_classes": [],
            "_model_module": "@jupyter-widgets/controls",
            "_model_module_version": "1.5.0",
            "_model_name": "HBoxModel",
            "_view_count": null,
            "_view_module": "@jupyter-widgets/controls",
            "_view_module_version": "1.5.0",
            "_view_name": "HBoxView",
            "box_style": "",
            "children": [
              "IPY_MODEL_c0a8f777aca642af8e74c75db64587f2",
              "IPY_MODEL_b5e4211b98d84c91ab60f91d7b5f1a98",
              "IPY_MODEL_7a65be0f9852487dacbfa1b05863029f"
            ],
            "layout": "IPY_MODEL_a852502754794e5483febbeb576d12f5"
          }
        },
        "c0a8f777aca642af8e74c75db64587f2": {
          "model_module": "@jupyter-widgets/controls",
          "model_name": "HTMLModel",
          "model_module_version": "1.5.0",
          "state": {
            "_dom_classes": [],
            "_model_module": "@jupyter-widgets/controls",
            "_model_module_version": "1.5.0",
            "_model_name": "HTMLModel",
            "_view_count": null,
            "_view_module": "@jupyter-widgets/controls",
            "_view_module_version": "1.5.0",
            "_view_name": "HTMLView",
            "description": "",
            "description_tooltip": null,
            "layout": "IPY_MODEL_7077999c7f5c4c98af1830abbe5e061c",
            "placeholder": "​",
            "style": "IPY_MODEL_60959fc54feb4775a349a43ccbaec612",
            "value": "100%"
          }
        },
        "b5e4211b98d84c91ab60f91d7b5f1a98": {
          "model_module": "@jupyter-widgets/controls",
          "model_name": "FloatProgressModel",
          "model_module_version": "1.5.0",
          "state": {
            "_dom_classes": [],
            "_model_module": "@jupyter-widgets/controls",
            "_model_module_version": "1.5.0",
            "_model_name": "FloatProgressModel",
            "_view_count": null,
            "_view_module": "@jupyter-widgets/controls",
            "_view_module_version": "1.5.0",
            "_view_name": "ProgressView",
            "bar_style": "success",
            "description": "",
            "description_tooltip": null,
            "layout": "IPY_MODEL_7ce20f3a7c47473cb6759dc9481bc77e",
            "max": 6387309499,
            "min": 0,
            "orientation": "horizontal",
            "style": "IPY_MODEL_ab6109bd6c0f412491566cc2a493dbc5",
            "value": 6387309499
          }
        },
        "7a65be0f9852487dacbfa1b05863029f": {
          "model_module": "@jupyter-widgets/controls",
          "model_name": "HTMLModel",
          "model_module_version": "1.5.0",
          "state": {
            "_dom_classes": [],
            "_model_module": "@jupyter-widgets/controls",
            "_model_module_version": "1.5.0",
            "_model_name": "HTMLModel",
            "_view_count": null,
            "_view_module": "@jupyter-widgets/controls",
            "_view_module_version": "1.5.0",
            "_view_name": "HTMLView",
            "description": "",
            "description_tooltip": null,
            "layout": "IPY_MODEL_3048aba501eb4288bad46a8142d827ab",
            "placeholder": "​",
            "style": "IPY_MODEL_4122a51e91bd45c28cf6682f012b52d9",
            "value": " 5.95G/5.95G [03:15&lt;00:00, 34.0MB/s]"
          }
        },
        "a852502754794e5483febbeb576d12f5": {
          "model_module": "@jupyter-widgets/base",
          "model_name": "LayoutModel",
          "model_module_version": "1.2.0",
          "state": {
            "_model_module": "@jupyter-widgets/base",
            "_model_module_version": "1.2.0",
            "_model_name": "LayoutModel",
            "_view_count": null,
            "_view_module": "@jupyter-widgets/base",
            "_view_module_version": "1.2.0",
            "_view_name": "LayoutView",
            "align_content": null,
            "align_items": null,
            "align_self": null,
            "border": null,
            "bottom": null,
            "display": null,
            "flex": null,
            "flex_flow": null,
            "grid_area": null,
            "grid_auto_columns": null,
            "grid_auto_flow": null,
            "grid_auto_rows": null,
            "grid_column": null,
            "grid_gap": null,
            "grid_row": null,
            "grid_template_areas": null,
            "grid_template_columns": null,
            "grid_template_rows": null,
            "height": null,
            "justify_content": null,
            "justify_items": null,
            "left": null,
            "margin": null,
            "max_height": null,
            "max_width": null,
            "min_height": null,
            "min_width": null,
            "object_fit": null,
            "object_position": null,
            "order": null,
            "overflow": null,
            "overflow_x": null,
            "overflow_y": null,
            "padding": null,
            "right": null,
            "top": null,
            "visibility": null,
            "width": null
          }
        },
        "7077999c7f5c4c98af1830abbe5e061c": {
          "model_module": "@jupyter-widgets/base",
          "model_name": "LayoutModel",
          "model_module_version": "1.2.0",
          "state": {
            "_model_module": "@jupyter-widgets/base",
            "_model_module_version": "1.2.0",
            "_model_name": "LayoutModel",
            "_view_count": null,
            "_view_module": "@jupyter-widgets/base",
            "_view_module_version": "1.2.0",
            "_view_name": "LayoutView",
            "align_content": null,
            "align_items": null,
            "align_self": null,
            "border": null,
            "bottom": null,
            "display": null,
            "flex": null,
            "flex_flow": null,
            "grid_area": null,
            "grid_auto_columns": null,
            "grid_auto_flow": null,
            "grid_auto_rows": null,
            "grid_column": null,
            "grid_gap": null,
            "grid_row": null,
            "grid_template_areas": null,
            "grid_template_columns": null,
            "grid_template_rows": null,
            "height": null,
            "justify_content": null,
            "justify_items": null,
            "left": null,
            "margin": null,
            "max_height": null,
            "max_width": null,
            "min_height": null,
            "min_width": null,
            "object_fit": null,
            "object_position": null,
            "order": null,
            "overflow": null,
            "overflow_x": null,
            "overflow_y": null,
            "padding": null,
            "right": null,
            "top": null,
            "visibility": null,
            "width": null
          }
        },
        "60959fc54feb4775a349a43ccbaec612": {
          "model_module": "@jupyter-widgets/controls",
          "model_name": "DescriptionStyleModel",
          "model_module_version": "1.5.0",
          "state": {
            "_model_module": "@jupyter-widgets/controls",
            "_model_module_version": "1.5.0",
            "_model_name": "DescriptionStyleModel",
            "_view_count": null,
            "_view_module": "@jupyter-widgets/base",
            "_view_module_version": "1.2.0",
            "_view_name": "StyleView",
            "description_width": ""
          }
        },
        "7ce20f3a7c47473cb6759dc9481bc77e": {
          "model_module": "@jupyter-widgets/base",
          "model_name": "LayoutModel",
          "model_module_version": "1.2.0",
          "state": {
            "_model_module": "@jupyter-widgets/base",
            "_model_module_version": "1.2.0",
            "_model_name": "LayoutModel",
            "_view_count": null,
            "_view_module": "@jupyter-widgets/base",
            "_view_module_version": "1.2.0",
            "_view_name": "LayoutView",
            "align_content": null,
            "align_items": null,
            "align_self": null,
            "border": null,
            "bottom": null,
            "display": null,
            "flex": null,
            "flex_flow": null,
            "grid_area": null,
            "grid_auto_columns": null,
            "grid_auto_flow": null,
            "grid_auto_rows": null,
            "grid_column": null,
            "grid_gap": null,
            "grid_row": null,
            "grid_template_areas": null,
            "grid_template_columns": null,
            "grid_template_rows": null,
            "height": null,
            "justify_content": null,
            "justify_items": null,
            "left": null,
            "margin": null,
            "max_height": null,
            "max_width": null,
            "min_height": null,
            "min_width": null,
            "object_fit": null,
            "object_position": null,
            "order": null,
            "overflow": null,
            "overflow_x": null,
            "overflow_y": null,
            "padding": null,
            "right": null,
            "top": null,
            "visibility": null,
            "width": null
          }
        },
        "ab6109bd6c0f412491566cc2a493dbc5": {
          "model_module": "@jupyter-widgets/controls",
          "model_name": "ProgressStyleModel",
          "model_module_version": "1.5.0",
          "state": {
            "_model_module": "@jupyter-widgets/controls",
            "_model_module_version": "1.5.0",
            "_model_name": "ProgressStyleModel",
            "_view_count": null,
            "_view_module": "@jupyter-widgets/base",
            "_view_module_version": "1.2.0",
            "_view_name": "StyleView",
            "bar_color": null,
            "description_width": ""
          }
        },
        "3048aba501eb4288bad46a8142d827ab": {
          "model_module": "@jupyter-widgets/base",
          "model_name": "LayoutModel",
          "model_module_version": "1.2.0",
          "state": {
            "_model_module": "@jupyter-widgets/base",
            "_model_module_version": "1.2.0",
            "_model_name": "LayoutModel",
            "_view_count": null,
            "_view_module": "@jupyter-widgets/base",
            "_view_module_version": "1.2.0",
            "_view_name": "LayoutView",
            "align_content": null,
            "align_items": null,
            "align_self": null,
            "border": null,
            "bottom": null,
            "display": null,
            "flex": null,
            "flex_flow": null,
            "grid_area": null,
            "grid_auto_columns": null,
            "grid_auto_flow": null,
            "grid_auto_rows": null,
            "grid_column": null,
            "grid_gap": null,
            "grid_row": null,
            "grid_template_areas": null,
            "grid_template_columns": null,
            "grid_template_rows": null,
            "height": null,
            "justify_content": null,
            "justify_items": null,
            "left": null,
            "margin": null,
            "max_height": null,
            "max_width": null,
            "min_height": null,
            "min_width": null,
            "object_fit": null,
            "object_position": null,
            "order": null,
            "overflow": null,
            "overflow_x": null,
            "overflow_y": null,
            "padding": null,
            "right": null,
            "top": null,
            "visibility": null,
            "width": null
          }
        },
        "4122a51e91bd45c28cf6682f012b52d9": {
          "model_module": "@jupyter-widgets/controls",
          "model_name": "DescriptionStyleModel",
          "model_module_version": "1.5.0",
          "state": {
            "_model_module": "@jupyter-widgets/controls",
            "_model_module_version": "1.5.0",
            "_model_name": "DescriptionStyleModel",
            "_view_count": null,
            "_view_module": "@jupyter-widgets/base",
            "_view_module_version": "1.2.0",
            "_view_name": "StyleView",
            "description_width": ""
          }
        },
        "f5ddff26f6a34d978996c387e5c4350f": {
          "model_module": "@jupyter-widgets/controls",
          "model_name": "HBoxModel",
          "model_module_version": "1.5.0",
          "state": {
            "_dom_classes": [],
            "_model_module": "@jupyter-widgets/controls",
            "_model_module_version": "1.5.0",
            "_model_name": "HBoxModel",
            "_view_count": null,
            "_view_module": "@jupyter-widgets/controls",
            "_view_module_version": "1.5.0",
            "_view_name": "HBoxView",
            "box_style": "",
            "children": [
              "IPY_MODEL_af8f185e70054eeead4a9c44c8d50d11",
              "IPY_MODEL_d3982515fe61436899df25202aeb6e93",
              "IPY_MODEL_e0a986e589464c6b815d04c006be76ad"
            ],
            "layout": "IPY_MODEL_b64802380589423f89ac27d2cad6eb59"
          }
        },
        "af8f185e70054eeead4a9c44c8d50d11": {
          "model_module": "@jupyter-widgets/controls",
          "model_name": "HTMLModel",
          "model_module_version": "1.5.0",
          "state": {
            "_dom_classes": [],
            "_model_module": "@jupyter-widgets/controls",
            "_model_module_version": "1.5.0",
            "_model_name": "HTMLModel",
            "_view_count": null,
            "_view_module": "@jupyter-widgets/controls",
            "_view_module_version": "1.5.0",
            "_view_name": "HTMLView",
            "description": "",
            "description_tooltip": null,
            "layout": "IPY_MODEL_e93f2e7fc3a24a8ea580484cc0354377",
            "placeholder": "​",
            "style": "IPY_MODEL_c48476dcd4ed4bf39bda4848642256fc",
            "value": "100%"
          }
        },
        "d3982515fe61436899df25202aeb6e93": {
          "model_module": "@jupyter-widgets/controls",
          "model_name": "FloatProgressModel",
          "model_module_version": "1.5.0",
          "state": {
            "_dom_classes": [],
            "_model_module": "@jupyter-widgets/controls",
            "_model_module_version": "1.5.0",
            "_model_name": "FloatProgressModel",
            "_view_count": null,
            "_view_module": "@jupyter-widgets/controls",
            "_view_module_version": "1.5.0",
            "_view_name": "ProgressView",
            "bar_style": "success",
            "description": "",
            "description_tooltip": null,
            "layout": "IPY_MODEL_dd8740ca63e444a5843ccbeadb78b066",
            "max": 346663984,
            "min": 0,
            "orientation": "horizontal",
            "style": "IPY_MODEL_2d09ea496b1b441986e1375e0b3095e1",
            "value": 346663984
          }
        },
        "e0a986e589464c6b815d04c006be76ad": {
          "model_module": "@jupyter-widgets/controls",
          "model_name": "HTMLModel",
          "model_module_version": "1.5.0",
          "state": {
            "_dom_classes": [],
            "_model_module": "@jupyter-widgets/controls",
            "_model_module_version": "1.5.0",
            "_model_name": "HTMLModel",
            "_view_count": null,
            "_view_module": "@jupyter-widgets/controls",
            "_view_module_version": "1.5.0",
            "_view_name": "HTMLView",
            "description": "",
            "description_tooltip": null,
            "layout": "IPY_MODEL_7f60202d95e64f4badbe33032840263c",
            "placeholder": "​",
            "style": "IPY_MODEL_b08377725f774526bb32f8227c2709f5",
            "value": " 331M/331M [00:11&lt;00:00, 33.1MB/s]"
          }
        },
        "b64802380589423f89ac27d2cad6eb59": {
          "model_module": "@jupyter-widgets/base",
          "model_name": "LayoutModel",
          "model_module_version": "1.2.0",
          "state": {
            "_model_module": "@jupyter-widgets/base",
            "_model_module_version": "1.2.0",
            "_model_name": "LayoutModel",
            "_view_count": null,
            "_view_module": "@jupyter-widgets/base",
            "_view_module_version": "1.2.0",
            "_view_name": "LayoutView",
            "align_content": null,
            "align_items": null,
            "align_self": null,
            "border": null,
            "bottom": null,
            "display": null,
            "flex": null,
            "flex_flow": null,
            "grid_area": null,
            "grid_auto_columns": null,
            "grid_auto_flow": null,
            "grid_auto_rows": null,
            "grid_column": null,
            "grid_gap": null,
            "grid_row": null,
            "grid_template_areas": null,
            "grid_template_columns": null,
            "grid_template_rows": null,
            "height": null,
            "justify_content": null,
            "justify_items": null,
            "left": null,
            "margin": null,
            "max_height": null,
            "max_width": null,
            "min_height": null,
            "min_width": null,
            "object_fit": null,
            "object_position": null,
            "order": null,
            "overflow": null,
            "overflow_x": null,
            "overflow_y": null,
            "padding": null,
            "right": null,
            "top": null,
            "visibility": null,
            "width": null
          }
        },
        "e93f2e7fc3a24a8ea580484cc0354377": {
          "model_module": "@jupyter-widgets/base",
          "model_name": "LayoutModel",
          "model_module_version": "1.2.0",
          "state": {
            "_model_module": "@jupyter-widgets/base",
            "_model_module_version": "1.2.0",
            "_model_name": "LayoutModel",
            "_view_count": null,
            "_view_module": "@jupyter-widgets/base",
            "_view_module_version": "1.2.0",
            "_view_name": "LayoutView",
            "align_content": null,
            "align_items": null,
            "align_self": null,
            "border": null,
            "bottom": null,
            "display": null,
            "flex": null,
            "flex_flow": null,
            "grid_area": null,
            "grid_auto_columns": null,
            "grid_auto_flow": null,
            "grid_auto_rows": null,
            "grid_column": null,
            "grid_gap": null,
            "grid_row": null,
            "grid_template_areas": null,
            "grid_template_columns": null,
            "grid_template_rows": null,
            "height": null,
            "justify_content": null,
            "justify_items": null,
            "left": null,
            "margin": null,
            "max_height": null,
            "max_width": null,
            "min_height": null,
            "min_width": null,
            "object_fit": null,
            "object_position": null,
            "order": null,
            "overflow": null,
            "overflow_x": null,
            "overflow_y": null,
            "padding": null,
            "right": null,
            "top": null,
            "visibility": null,
            "width": null
          }
        },
        "c48476dcd4ed4bf39bda4848642256fc": {
          "model_module": "@jupyter-widgets/controls",
          "model_name": "DescriptionStyleModel",
          "model_module_version": "1.5.0",
          "state": {
            "_model_module": "@jupyter-widgets/controls",
            "_model_module_version": "1.5.0",
            "_model_name": "DescriptionStyleModel",
            "_view_count": null,
            "_view_module": "@jupyter-widgets/base",
            "_view_module_version": "1.2.0",
            "_view_name": "StyleView",
            "description_width": ""
          }
        },
        "dd8740ca63e444a5843ccbeadb78b066": {
          "model_module": "@jupyter-widgets/base",
          "model_name": "LayoutModel",
          "model_module_version": "1.2.0",
          "state": {
            "_model_module": "@jupyter-widgets/base",
            "_model_module_version": "1.2.0",
            "_model_name": "LayoutModel",
            "_view_count": null,
            "_view_module": "@jupyter-widgets/base",
            "_view_module_version": "1.2.0",
            "_view_name": "LayoutView",
            "align_content": null,
            "align_items": null,
            "align_self": null,
            "border": null,
            "bottom": null,
            "display": null,
            "flex": null,
            "flex_flow": null,
            "grid_area": null,
            "grid_auto_columns": null,
            "grid_auto_flow": null,
            "grid_auto_rows": null,
            "grid_column": null,
            "grid_gap": null,
            "grid_row": null,
            "grid_template_areas": null,
            "grid_template_columns": null,
            "grid_template_rows": null,
            "height": null,
            "justify_content": null,
            "justify_items": null,
            "left": null,
            "margin": null,
            "max_height": null,
            "max_width": null,
            "min_height": null,
            "min_width": null,
            "object_fit": null,
            "object_position": null,
            "order": null,
            "overflow": null,
            "overflow_x": null,
            "overflow_y": null,
            "padding": null,
            "right": null,
            "top": null,
            "visibility": null,
            "width": null
          }
        },
        "2d09ea496b1b441986e1375e0b3095e1": {
          "model_module": "@jupyter-widgets/controls",
          "model_name": "ProgressStyleModel",
          "model_module_version": "1.5.0",
          "state": {
            "_model_module": "@jupyter-widgets/controls",
            "_model_module_version": "1.5.0",
            "_model_name": "ProgressStyleModel",
            "_view_count": null,
            "_view_module": "@jupyter-widgets/base",
            "_view_module_version": "1.2.0",
            "_view_name": "StyleView",
            "bar_color": null,
            "description_width": ""
          }
        },
        "7f60202d95e64f4badbe33032840263c": {
          "model_module": "@jupyter-widgets/base",
          "model_name": "LayoutModel",
          "model_module_version": "1.2.0",
          "state": {
            "_model_module": "@jupyter-widgets/base",
            "_model_module_version": "1.2.0",
            "_model_name": "LayoutModel",
            "_view_count": null,
            "_view_module": "@jupyter-widgets/base",
            "_view_module_version": "1.2.0",
            "_view_name": "LayoutView",
            "align_content": null,
            "align_items": null,
            "align_self": null,
            "border": null,
            "bottom": null,
            "display": null,
            "flex": null,
            "flex_flow": null,
            "grid_area": null,
            "grid_auto_columns": null,
            "grid_auto_flow": null,
            "grid_auto_rows": null,
            "grid_column": null,
            "grid_gap": null,
            "grid_row": null,
            "grid_template_areas": null,
            "grid_template_columns": null,
            "grid_template_rows": null,
            "height": null,
            "justify_content": null,
            "justify_items": null,
            "left": null,
            "margin": null,
            "max_height": null,
            "max_width": null,
            "min_height": null,
            "min_width": null,
            "object_fit": null,
            "object_position": null,
            "order": null,
            "overflow": null,
            "overflow_x": null,
            "overflow_y": null,
            "padding": null,
            "right": null,
            "top": null,
            "visibility": null,
            "width": null
          }
        },
        "b08377725f774526bb32f8227c2709f5": {
          "model_module": "@jupyter-widgets/controls",
          "model_name": "DescriptionStyleModel",
          "model_module_version": "1.5.0",
          "state": {
            "_model_module": "@jupyter-widgets/controls",
            "_model_module_version": "1.5.0",
            "_model_name": "DescriptionStyleModel",
            "_view_count": null,
            "_view_module": "@jupyter-widgets/base",
            "_view_module_version": "1.2.0",
            "_view_name": "StyleView",
            "description_width": ""
          }
        },
        "5e5b0b4c1c124e309ad8b79313ba3369": {
          "model_module": "@jupyter-widgets/controls",
          "model_name": "HBoxModel",
          "model_module_version": "1.5.0",
          "state": {
            "_dom_classes": [],
            "_model_module": "@jupyter-widgets/controls",
            "_model_module_version": "1.5.0",
            "_model_name": "HBoxModel",
            "_view_count": null,
            "_view_module": "@jupyter-widgets/controls",
            "_view_module_version": "1.5.0",
            "_view_name": "HBoxView",
            "box_style": "",
            "children": [
              "IPY_MODEL_41638e1ab6844d629d5b5b30de9adcf7",
              "IPY_MODEL_b8469640b79f4b47bccfb4525e2ae64b",
              "IPY_MODEL_877c676682a34b3c8a11eecbc311a207"
            ],
            "layout": "IPY_MODEL_18771c8d7af6407f95c36cc9a129e540"
          }
        },
        "41638e1ab6844d629d5b5b30de9adcf7": {
          "model_module": "@jupyter-widgets/controls",
          "model_name": "HTMLModel",
          "model_module_version": "1.5.0",
          "state": {
            "_dom_classes": [],
            "_model_module": "@jupyter-widgets/controls",
            "_model_module_version": "1.5.0",
            "_model_name": "HTMLModel",
            "_view_count": null,
            "_view_module": "@jupyter-widgets/controls",
            "_view_module_version": "1.5.0",
            "_view_name": "HTMLView",
            "description": "",
            "description_tooltip": null,
            "layout": "IPY_MODEL_fc2a311191c54bbc8eeba78f19ab1b7f",
            "placeholder": "​",
            "style": "IPY_MODEL_879638b731fa4a909a749b88ba9a8ba0",
            "value": "100%"
          }
        },
        "b8469640b79f4b47bccfb4525e2ae64b": {
          "model_module": "@jupyter-widgets/controls",
          "model_name": "FloatProgressModel",
          "model_module_version": "1.5.0",
          "state": {
            "_dom_classes": [],
            "_model_module": "@jupyter-widgets/controls",
            "_model_module_version": "1.5.0",
            "_model_name": "FloatProgressModel",
            "_view_count": null,
            "_view_module": "@jupyter-widgets/controls",
            "_view_module_version": "1.5.0",
            "_view_name": "ProgressView",
            "bar_style": "success",
            "description": "",
            "description_tooltip": null,
            "layout": "IPY_MODEL_b5a2c77688b140f49b70c8ee76f82a22",
            "max": 10,
            "min": 0,
            "orientation": "horizontal",
            "style": "IPY_MODEL_1c63693b4d8f48339b9bb5ed0e726b43",
            "value": 10
          }
        },
        "877c676682a34b3c8a11eecbc311a207": {
          "model_module": "@jupyter-widgets/controls",
          "model_name": "HTMLModel",
          "model_module_version": "1.5.0",
          "state": {
            "_dom_classes": [],
            "_model_module": "@jupyter-widgets/controls",
            "_model_module_version": "1.5.0",
            "_model_name": "HTMLModel",
            "_view_count": null,
            "_view_module": "@jupyter-widgets/controls",
            "_view_module_version": "1.5.0",
            "_view_name": "HTMLView",
            "description": "",
            "description_tooltip": null,
            "layout": "IPY_MODEL_57bc2a04adf049d4a5169efeba4e34d6",
            "placeholder": "​",
            "style": "IPY_MODEL_39eadfd4a9424c789219b874e368dc36",
            "value": " 10/10 [2:43:57&lt;00:00, 997.24s/it]"
          }
        },
        "18771c8d7af6407f95c36cc9a129e540": {
          "model_module": "@jupyter-widgets/base",
          "model_name": "LayoutModel",
          "model_module_version": "1.2.0",
          "state": {
            "_model_module": "@jupyter-widgets/base",
            "_model_module_version": "1.2.0",
            "_model_name": "LayoutModel",
            "_view_count": null,
            "_view_module": "@jupyter-widgets/base",
            "_view_module_version": "1.2.0",
            "_view_name": "LayoutView",
            "align_content": null,
            "align_items": null,
            "align_self": null,
            "border": null,
            "bottom": null,
            "display": null,
            "flex": null,
            "flex_flow": null,
            "grid_area": null,
            "grid_auto_columns": null,
            "grid_auto_flow": null,
            "grid_auto_rows": null,
            "grid_column": null,
            "grid_gap": null,
            "grid_row": null,
            "grid_template_areas": null,
            "grid_template_columns": null,
            "grid_template_rows": null,
            "height": null,
            "justify_content": null,
            "justify_items": null,
            "left": null,
            "margin": null,
            "max_height": null,
            "max_width": null,
            "min_height": null,
            "min_width": null,
            "object_fit": null,
            "object_position": null,
            "order": null,
            "overflow": null,
            "overflow_x": null,
            "overflow_y": null,
            "padding": null,
            "right": null,
            "top": null,
            "visibility": null,
            "width": null
          }
        },
        "fc2a311191c54bbc8eeba78f19ab1b7f": {
          "model_module": "@jupyter-widgets/base",
          "model_name": "LayoutModel",
          "model_module_version": "1.2.0",
          "state": {
            "_model_module": "@jupyter-widgets/base",
            "_model_module_version": "1.2.0",
            "_model_name": "LayoutModel",
            "_view_count": null,
            "_view_module": "@jupyter-widgets/base",
            "_view_module_version": "1.2.0",
            "_view_name": "LayoutView",
            "align_content": null,
            "align_items": null,
            "align_self": null,
            "border": null,
            "bottom": null,
            "display": null,
            "flex": null,
            "flex_flow": null,
            "grid_area": null,
            "grid_auto_columns": null,
            "grid_auto_flow": null,
            "grid_auto_rows": null,
            "grid_column": null,
            "grid_gap": null,
            "grid_row": null,
            "grid_template_areas": null,
            "grid_template_columns": null,
            "grid_template_rows": null,
            "height": null,
            "justify_content": null,
            "justify_items": null,
            "left": null,
            "margin": null,
            "max_height": null,
            "max_width": null,
            "min_height": null,
            "min_width": null,
            "object_fit": null,
            "object_position": null,
            "order": null,
            "overflow": null,
            "overflow_x": null,
            "overflow_y": null,
            "padding": null,
            "right": null,
            "top": null,
            "visibility": null,
            "width": null
          }
        },
        "879638b731fa4a909a749b88ba9a8ba0": {
          "model_module": "@jupyter-widgets/controls",
          "model_name": "DescriptionStyleModel",
          "model_module_version": "1.5.0",
          "state": {
            "_model_module": "@jupyter-widgets/controls",
            "_model_module_version": "1.5.0",
            "_model_name": "DescriptionStyleModel",
            "_view_count": null,
            "_view_module": "@jupyter-widgets/base",
            "_view_module_version": "1.2.0",
            "_view_name": "StyleView",
            "description_width": ""
          }
        },
        "b5a2c77688b140f49b70c8ee76f82a22": {
          "model_module": "@jupyter-widgets/base",
          "model_name": "LayoutModel",
          "model_module_version": "1.2.0",
          "state": {
            "_model_module": "@jupyter-widgets/base",
            "_model_module_version": "1.2.0",
            "_model_name": "LayoutModel",
            "_view_count": null,
            "_view_module": "@jupyter-widgets/base",
            "_view_module_version": "1.2.0",
            "_view_name": "LayoutView",
            "align_content": null,
            "align_items": null,
            "align_self": null,
            "border": null,
            "bottom": null,
            "display": null,
            "flex": null,
            "flex_flow": null,
            "grid_area": null,
            "grid_auto_columns": null,
            "grid_auto_flow": null,
            "grid_auto_rows": null,
            "grid_column": null,
            "grid_gap": null,
            "grid_row": null,
            "grid_template_areas": null,
            "grid_template_columns": null,
            "grid_template_rows": null,
            "height": null,
            "justify_content": null,
            "justify_items": null,
            "left": null,
            "margin": null,
            "max_height": null,
            "max_width": null,
            "min_height": null,
            "min_width": null,
            "object_fit": null,
            "object_position": null,
            "order": null,
            "overflow": null,
            "overflow_x": null,
            "overflow_y": null,
            "padding": null,
            "right": null,
            "top": null,
            "visibility": null,
            "width": null
          }
        },
        "1c63693b4d8f48339b9bb5ed0e726b43": {
          "model_module": "@jupyter-widgets/controls",
          "model_name": "ProgressStyleModel",
          "model_module_version": "1.5.0",
          "state": {
            "_model_module": "@jupyter-widgets/controls",
            "_model_module_version": "1.5.0",
            "_model_name": "ProgressStyleModel",
            "_view_count": null,
            "_view_module": "@jupyter-widgets/base",
            "_view_module_version": "1.2.0",
            "_view_name": "StyleView",
            "bar_color": null,
            "description_width": ""
          }
        },
        "57bc2a04adf049d4a5169efeba4e34d6": {
          "model_module": "@jupyter-widgets/base",
          "model_name": "LayoutModel",
          "model_module_version": "1.2.0",
          "state": {
            "_model_module": "@jupyter-widgets/base",
            "_model_module_version": "1.2.0",
            "_model_name": "LayoutModel",
            "_view_count": null,
            "_view_module": "@jupyter-widgets/base",
            "_view_module_version": "1.2.0",
            "_view_name": "LayoutView",
            "align_content": null,
            "align_items": null,
            "align_self": null,
            "border": null,
            "bottom": null,
            "display": null,
            "flex": null,
            "flex_flow": null,
            "grid_area": null,
            "grid_auto_columns": null,
            "grid_auto_flow": null,
            "grid_auto_rows": null,
            "grid_column": null,
            "grid_gap": null,
            "grid_row": null,
            "grid_template_areas": null,
            "grid_template_columns": null,
            "grid_template_rows": null,
            "height": null,
            "justify_content": null,
            "justify_items": null,
            "left": null,
            "margin": null,
            "max_height": null,
            "max_width": null,
            "min_height": null,
            "min_width": null,
            "object_fit": null,
            "object_position": null,
            "order": null,
            "overflow": null,
            "overflow_x": null,
            "overflow_y": null,
            "padding": null,
            "right": null,
            "top": null,
            "visibility": null,
            "width": null
          }
        },
        "39eadfd4a9424c789219b874e368dc36": {
          "model_module": "@jupyter-widgets/controls",
          "model_name": "DescriptionStyleModel",
          "model_module_version": "1.5.0",
          "state": {
            "_model_module": "@jupyter-widgets/controls",
            "_model_module_version": "1.5.0",
            "_model_name": "DescriptionStyleModel",
            "_view_count": null,
            "_view_module": "@jupyter-widgets/base",
            "_view_module_version": "1.2.0",
            "_view_name": "StyleView",
            "description_width": ""
          }
        },
        "4c502b4e5ebc400da141c25b2285e989": {
          "model_module": "@jupyter-widgets/controls",
          "model_name": "HBoxModel",
          "model_module_version": "1.5.0",
          "state": {
            "_dom_classes": [],
            "_model_module": "@jupyter-widgets/controls",
            "_model_module_version": "1.5.0",
            "_model_name": "HBoxModel",
            "_view_count": null,
            "_view_module": "@jupyter-widgets/controls",
            "_view_module_version": "1.5.0",
            "_view_name": "HBoxView",
            "box_style": "",
            "children": [
              "IPY_MODEL_c7d1ecc70f00429ea5081248ef0bb1e5",
              "IPY_MODEL_50fdfd60c0c740eda33685acb3e13706",
              "IPY_MODEL_8be4709a79844e62bef04cc646a369bc"
            ],
            "layout": "IPY_MODEL_d600d5f1f34d4e008a2b1776f7fef9e6"
          }
        },
        "c7d1ecc70f00429ea5081248ef0bb1e5": {
          "model_module": "@jupyter-widgets/controls",
          "model_name": "HTMLModel",
          "model_module_version": "1.5.0",
          "state": {
            "_dom_classes": [],
            "_model_module": "@jupyter-widgets/controls",
            "_model_module_version": "1.5.0",
            "_model_name": "HTMLModel",
            "_view_count": null,
            "_view_module": "@jupyter-widgets/controls",
            "_view_module_version": "1.5.0",
            "_view_name": "HTMLView",
            "description": "",
            "description_tooltip": null,
            "layout": "IPY_MODEL_c1b362acf9bd43b68b7fb3ab3099941e",
            "placeholder": "​",
            "style": "IPY_MODEL_8d4c1712fd8b4944a2587223b82f1cd0",
            "value": " 80%"
          }
        },
        "50fdfd60c0c740eda33685acb3e13706": {
          "model_module": "@jupyter-widgets/controls",
          "model_name": "FloatProgressModel",
          "model_module_version": "1.5.0",
          "state": {
            "_dom_classes": [],
            "_model_module": "@jupyter-widgets/controls",
            "_model_module_version": "1.5.0",
            "_model_name": "FloatProgressModel",
            "_view_count": null,
            "_view_module": "@jupyter-widgets/controls",
            "_view_module_version": "1.5.0",
            "_view_name": "ProgressView",
            "bar_style": "",
            "description": "",
            "description_tooltip": null,
            "layout": "IPY_MODEL_4e2c07a20d6a4cb7a15935ae3d78badd",
            "max": 10,
            "min": 0,
            "orientation": "horizontal",
            "style": "IPY_MODEL_8ded3cea49614465aa3a30323f364651",
            "value": 8
          }
        },
        "8be4709a79844e62bef04cc646a369bc": {
          "model_module": "@jupyter-widgets/controls",
          "model_name": "HTMLModel",
          "model_module_version": "1.5.0",
          "state": {
            "_dom_classes": [],
            "_model_module": "@jupyter-widgets/controls",
            "_model_module_version": "1.5.0",
            "_model_name": "HTMLModel",
            "_view_count": null,
            "_view_module": "@jupyter-widgets/controls",
            "_view_module_version": "1.5.0",
            "_view_name": "HTMLView",
            "description": "",
            "description_tooltip": null,
            "layout": "IPY_MODEL_5bc071e18f344f7e8302cddd1261f893",
            "placeholder": "​",
            "style": "IPY_MODEL_00c07ed8929a4a338e993f9e2334dda3",
            "value": " 8/10 [2:30:53&lt;38:04, 1142.26s/it]"
          }
        },
        "d600d5f1f34d4e008a2b1776f7fef9e6": {
          "model_module": "@jupyter-widgets/base",
          "model_name": "LayoutModel",
          "model_module_version": "1.2.0",
          "state": {
            "_model_module": "@jupyter-widgets/base",
            "_model_module_version": "1.2.0",
            "_model_name": "LayoutModel",
            "_view_count": null,
            "_view_module": "@jupyter-widgets/base",
            "_view_module_version": "1.2.0",
            "_view_name": "LayoutView",
            "align_content": null,
            "align_items": null,
            "align_self": null,
            "border": null,
            "bottom": null,
            "display": null,
            "flex": null,
            "flex_flow": null,
            "grid_area": null,
            "grid_auto_columns": null,
            "grid_auto_flow": null,
            "grid_auto_rows": null,
            "grid_column": null,
            "grid_gap": null,
            "grid_row": null,
            "grid_template_areas": null,
            "grid_template_columns": null,
            "grid_template_rows": null,
            "height": null,
            "justify_content": null,
            "justify_items": null,
            "left": null,
            "margin": null,
            "max_height": null,
            "max_width": null,
            "min_height": null,
            "min_width": null,
            "object_fit": null,
            "object_position": null,
            "order": null,
            "overflow": null,
            "overflow_x": null,
            "overflow_y": null,
            "padding": null,
            "right": null,
            "top": null,
            "visibility": null,
            "width": null
          }
        },
        "c1b362acf9bd43b68b7fb3ab3099941e": {
          "model_module": "@jupyter-widgets/base",
          "model_name": "LayoutModel",
          "model_module_version": "1.2.0",
          "state": {
            "_model_module": "@jupyter-widgets/base",
            "_model_module_version": "1.2.0",
            "_model_name": "LayoutModel",
            "_view_count": null,
            "_view_module": "@jupyter-widgets/base",
            "_view_module_version": "1.2.0",
            "_view_name": "LayoutView",
            "align_content": null,
            "align_items": null,
            "align_self": null,
            "border": null,
            "bottom": null,
            "display": null,
            "flex": null,
            "flex_flow": null,
            "grid_area": null,
            "grid_auto_columns": null,
            "grid_auto_flow": null,
            "grid_auto_rows": null,
            "grid_column": null,
            "grid_gap": null,
            "grid_row": null,
            "grid_template_areas": null,
            "grid_template_columns": null,
            "grid_template_rows": null,
            "height": null,
            "justify_content": null,
            "justify_items": null,
            "left": null,
            "margin": null,
            "max_height": null,
            "max_width": null,
            "min_height": null,
            "min_width": null,
            "object_fit": null,
            "object_position": null,
            "order": null,
            "overflow": null,
            "overflow_x": null,
            "overflow_y": null,
            "padding": null,
            "right": null,
            "top": null,
            "visibility": null,
            "width": null
          }
        },
        "8d4c1712fd8b4944a2587223b82f1cd0": {
          "model_module": "@jupyter-widgets/controls",
          "model_name": "DescriptionStyleModel",
          "model_module_version": "1.5.0",
          "state": {
            "_model_module": "@jupyter-widgets/controls",
            "_model_module_version": "1.5.0",
            "_model_name": "DescriptionStyleModel",
            "_view_count": null,
            "_view_module": "@jupyter-widgets/base",
            "_view_module_version": "1.2.0",
            "_view_name": "StyleView",
            "description_width": ""
          }
        },
        "4e2c07a20d6a4cb7a15935ae3d78badd": {
          "model_module": "@jupyter-widgets/base",
          "model_name": "LayoutModel",
          "model_module_version": "1.2.0",
          "state": {
            "_model_module": "@jupyter-widgets/base",
            "_model_module_version": "1.2.0",
            "_model_name": "LayoutModel",
            "_view_count": null,
            "_view_module": "@jupyter-widgets/base",
            "_view_module_version": "1.2.0",
            "_view_name": "LayoutView",
            "align_content": null,
            "align_items": null,
            "align_self": null,
            "border": null,
            "bottom": null,
            "display": null,
            "flex": null,
            "flex_flow": null,
            "grid_area": null,
            "grid_auto_columns": null,
            "grid_auto_flow": null,
            "grid_auto_rows": null,
            "grid_column": null,
            "grid_gap": null,
            "grid_row": null,
            "grid_template_areas": null,
            "grid_template_columns": null,
            "grid_template_rows": null,
            "height": null,
            "justify_content": null,
            "justify_items": null,
            "left": null,
            "margin": null,
            "max_height": null,
            "max_width": null,
            "min_height": null,
            "min_width": null,
            "object_fit": null,
            "object_position": null,
            "order": null,
            "overflow": null,
            "overflow_x": null,
            "overflow_y": null,
            "padding": null,
            "right": null,
            "top": null,
            "visibility": null,
            "width": null
          }
        },
        "8ded3cea49614465aa3a30323f364651": {
          "model_module": "@jupyter-widgets/controls",
          "model_name": "ProgressStyleModel",
          "model_module_version": "1.5.0",
          "state": {
            "_model_module": "@jupyter-widgets/controls",
            "_model_module_version": "1.5.0",
            "_model_name": "ProgressStyleModel",
            "_view_count": null,
            "_view_module": "@jupyter-widgets/base",
            "_view_module_version": "1.2.0",
            "_view_name": "StyleView",
            "bar_color": null,
            "description_width": ""
          }
        },
        "5bc071e18f344f7e8302cddd1261f893": {
          "model_module": "@jupyter-widgets/base",
          "model_name": "LayoutModel",
          "model_module_version": "1.2.0",
          "state": {
            "_model_module": "@jupyter-widgets/base",
            "_model_module_version": "1.2.0",
            "_model_name": "LayoutModel",
            "_view_count": null,
            "_view_module": "@jupyter-widgets/base",
            "_view_module_version": "1.2.0",
            "_view_name": "LayoutView",
            "align_content": null,
            "align_items": null,
            "align_self": null,
            "border": null,
            "bottom": null,
            "display": null,
            "flex": null,
            "flex_flow": null,
            "grid_area": null,
            "grid_auto_columns": null,
            "grid_auto_flow": null,
            "grid_auto_rows": null,
            "grid_column": null,
            "grid_gap": null,
            "grid_row": null,
            "grid_template_areas": null,
            "grid_template_columns": null,
            "grid_template_rows": null,
            "height": null,
            "justify_content": null,
            "justify_items": null,
            "left": null,
            "margin": null,
            "max_height": null,
            "max_width": null,
            "min_height": null,
            "min_width": null,
            "object_fit": null,
            "object_position": null,
            "order": null,
            "overflow": null,
            "overflow_x": null,
            "overflow_y": null,
            "padding": null,
            "right": null,
            "top": null,
            "visibility": null,
            "width": null
          }
        },
        "00c07ed8929a4a338e993f9e2334dda3": {
          "model_module": "@jupyter-widgets/controls",
          "model_name": "DescriptionStyleModel",
          "model_module_version": "1.5.0",
          "state": {
            "_model_module": "@jupyter-widgets/controls",
            "_model_module_version": "1.5.0",
            "_model_name": "DescriptionStyleModel",
            "_view_count": null,
            "_view_module": "@jupyter-widgets/base",
            "_view_module_version": "1.2.0",
            "_view_name": "StyleView",
            "description_width": ""
          }
        }
      }
    },
    "pycharm": {
      "stem_cell": {
        "cell_type": "raw",
        "source": [],
        "metadata": {
          "collapsed": false
        }
      }
    },
    "accelerator": "GPU"
  },
  "nbformat": 4,
  "nbformat_minor": 0
}